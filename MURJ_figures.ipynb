{
 "cells": [
  {
   "cell_type": "code",
   "execution_count": 1,
   "metadata": {},
   "outputs": [
    {
     "name": "stdout",
     "output_type": "stream",
     "text": [
      "Using GPU:3\n"
     ]
    }
   ],
   "source": [
    "%load_ext autoreload\n",
    "%autoreload 2\n",
    "# Set-up: Import numpy and assign GPU\n",
    "%matplotlib inline\n",
    "\n",
    "import os\n",
    "os.environ['TRANSFORMERS_CACHE'] = '/local/helenl/.cache/'\n",
    "os.environ['PYTORCH_TRANSFORMERS_CACHE'] = '/local/helenl/.cache/'\n",
    "\n",
    "import numpy as np\n",
    "import scipy as sp\n",
    "import seaborn as sns\n",
    "import matplotlib.pyplot as plt\n",
    "import sklearn\n",
    "from tqdm.notebook import tqdm\n",
    "\n",
    "from gpu_utils import restrict_GPU_pytorch\n",
    "from helenl_utils import *\n",
    "from matplot_figure_format import *\n",
    "from transforms_helenl import *\n",
    "from path_stop import *\n",
    "\n",
    "restrict_GPU_pytorch('3')\n",
    "\n",
    "import statistics\n",
    "import sys\n",
    "import pickle\n",
    "import numpy as np\n",
    "import pandas as pd\n",
    "import statistics\n",
    "import json\n",
    "import random\n",
    "\n",
    "\n",
    "import torch\n",
    "import torchvision.transforms as transforms\n",
    "\n",
    "import argparse\n",
    "import pdb\n",
    "\n",
    "\n",
    "from wordcloud import WordCloud\n",
    "import itertools"
   ]
  },
  {
   "cell_type": "code",
   "execution_count": 2,
   "metadata": {},
   "outputs": [],
   "source": [
    "all_char_augmentations = ['nlp_ocr'\n",
    "                           , 'nlp_keyboard'\n",
    "                           , 'nlp_random_char_insert'\n",
    "                           , 'nlp_random_char_substitution'\n",
    "                           , 'nlp_random_char_swap'\n",
    "                           , 'nlp_random_char_deletion'\n",
    "                           ]\n",
    "\n",
    "all_word_augmentations = ['nlp_random_word_swap'\n",
    "                            , 'nlp_random_word_delete'\n",
    "                            , 'nlp_wordnet_synonym'\n",
    "                            , 'nlp_ppdb_synonym'\n",
    "                            , 'nlp_antonym'\n",
    "                            , 'nlp_random_token_split'\n",
    "                            , 'nlp_spelling_substitution'\n",
    "                            , 'nlp_random_contextual_word_insertion_distilroberta_base_embedding'\n",
    "                            , 'nlp_random_contextual_word_substitution_squeezebert_uncased_embedding'\n",
    "                          \n",
    "                           , 'nlp_random_contextual_word_insertion_bert_uncased_embedding'\n",
    "                           , 'nlp_random_contextual_word_insertion_bert_cased_embedding'\n",
    "                           , 'nlp_random_contextual_word_insertion_distilbert_uncased_embedding'\n",
    "                           , 'nlp_random_contextual_word_insertion_distilbert_cased_embedding'\n",
    "                           , 'nlp_random_contextual_word_insertion_roberta_base_embedding'\n",
    "                           \n",
    "                           , 'nlp_random_contextual_word_insertion_bart_base_embedding'\n",
    "                           , 'nlp_random_contextual_word_insertion_squeezebert_uncased_embedding'\n",
    "                           , 'nlp_random_contextual_word_substitution_bert_uncased_embedding'\n",
    "                           , 'nlp_random_contextual_word_substitution_bert_cased_embedding'\n",
    "                           , 'nlp_random_contextual_word_substitution_distilbert_uncased_embedding'\n",
    "                           , 'nlp_random_contextual_word_substitution_distilbert_cased_embedding'\n",
    "                           , 'nlp_random_contextual_word_substitution_roberta_embedding'\n",
    "                           , 'nlp_random_contextual_word_substitution_distilroberta_base_embedding'\n",
    "                           , 'nlp_random_contextual_word_substitution_bart_base_embedding'\n",
    "                           ]\n",
    "\n",
    "all_sentence_augmentations = ['nlp_abstractive_summarization_bart_large_cnn'\n",
    "                          , 'nlp_abstractive_summarization_t5_small'\n",
    "                          , 'nlp_abstractive_summarization_t5_base']\n",
    "                          #, 'nlp_abstractive_summarization_t5_large']\n",
    "\n",
    "\n",
    "abbreviated_mapping = {\"nlp_ocr\": \"ocr\"\n",
    "                      , \"nlp_keyboard\": \"keyboard\"\n",
    "                      , \"nlp_random_char_insert\": \"insertion\"\n",
    "                      , \"nlp_random_char_substitution\": \"substitution\"\n",
    "                      , \"nlp_random_char_swap\": \"swap\"\n",
    "                      , \"nlp_random_char_deletion\": \"deletion\"\n",
    "                      , \"nlp_random_word_swap\": \"swap\"\n",
    "                      , \"nlp_random_word_delete\": \"deletion\"\n",
    "                      , \"nlp_wordnet_synonym\": \"wordnet_synonym\"\n",
    "                      , \"nlp_ppdb_synonym\": \"ppdb_synonym\"\n",
    "                      , \"nlp_antonym\": \"antonym\"\n",
    "                      , \"nlp_random_token_split\": \"split\"\n",
    "                      , \"nlp_spelling_substitution\": \"spelling\"\n",
    "                      , 'nlp_random_contextual_word_insertion_distilroberta_base_embedding': \"insertion\"\n",
    "                      , 'nlp_random_contextual_word_substitution_squeezebert_uncased_embedding': \"substitution\"\n",
    "                      , \"bert\": \"baseline\"}\n"
   ]
  },
  {
   "cell_type": "code",
   "execution_count": 3,
   "metadata": {},
   "outputs": [],
   "source": [
    "\"\"\"\n",
    "Create graph comparing accuracy of all supported augmentations\n",
    "\n",
    "Parameters:\n",
    "    augmentation_file_paths (list) :     list of strings, each corresponding to a                                          supported augmentation\n",
    "    \n",
    "    plot_type (string)             :     type of accuracy graph to be generated,                                          either \"line\" for line graph, \"box\" for                                          boxplot, or \"bar\" for bar graph\n",
    "    \n",
    "    \n",
    "    \n",
    "    \n",
    "\"\"\"\n",
    "\n",
    "def create_accuracy_graph(augmentation_file_paths\n",
    "                          , axs\n",
    "                          , plot_type = 'line'\n",
    "                          , title = ''\n",
    "                          , sampling_percent = 0.8\n",
    "                          , num_runs = 10\n",
    "                          , plot = True\n",
    "                          , apply_threshhold = False\n",
    "                          , plot_delta = False):\n",
    "    \n",
    "    aug_to_acc = []\n",
    "    for file_name in augmentation_file_paths:\n",
    "\n",
    "        augmentation_name = file_name.split('/')[-1].split('.')[0]\n",
    "        print(augmentation_name)\n",
    "        accuracies = calculate_accuracy(file_name, sampling_percent = sampling_percent, num_runs = num_runs)\n",
    "        \n",
    "        for i in range(len(accuracies)):\n",
    "            accuracy = accuracies[i]\n",
    "            aug_dict = {\"augmentation\":augmentation_name, \"accuracy\": accuracy, \"batch_num\": i}\n",
    "                \n",
    "            aug_to_acc.append(aug_dict)\n",
    "\n",
    "    \n",
    "    acc_df = pd.DataFrame(aug_to_acc).sort_values('accuracy', ascending = False)\n",
    "    #print(acc_df)\n",
    "    \n",
    "    threshhold_value = acc_df.loc[(acc_df[\"augmentation\"] == \"bert\")][\"accuracy\"].mean()\n",
    "    \n",
    "    if apply_threshhold:\n",
    "        #print(threshhold_value)\n",
    "        filtered_acc_df = acc_df.loc[(acc_df['accuracy'] >= threshhold_value)]\n",
    "\n",
    "    else:\n",
    "        filtered_acc_df = acc_df\n",
    "        \n",
    "    if plot_delta:\n",
    "        filtered_acc_df[\"delta\"] = filtered_acc_df[\"accuracy\"] - threshhold_value\n",
    "    \n",
    " \n",
    "    if plot:\n",
    "        sns.set(font_scale = 2)\n",
    "        \n",
    "        if plot_delta:\n",
    "            y = \"delta\"\n",
    "            \n",
    "        else:\n",
    "            y = \"accuracy\"\n",
    "\n",
    "        if plot_type == 'bar':\n",
    "            p = sns.barplot(ax = axs, x = 'augmentation', y = y, data = filtered_acc_df, ci = 95)\n",
    "\n",
    "        elif plot_type == 'box':\n",
    "            p = sns.boxplot(ax = axs, x = 'augmentation', y = y, data = filtered_acc_df)#, order = acc_df['augmentation'])\n",
    "\n",
    "\n",
    "        elif plot_type == 'line':\n",
    "            acc_df = pd.DataFrame(aug_to_acc).sort_values(\"num_samples\", ascending = False)\n",
    "            p = sns.lineplot(ax = axs, x = \"augmentation\", y = y, data = filtered_acc_df)\n",
    "\n",
    "\n",
    "\n",
    "\n",
    "        axs.set_ylim(-0.004, Y_AXIS_MAX)\n",
    "        axs.set_xticklabels(axs.get_xticklabels(), rotation=90, ha='right')\n",
    "\n",
    "        #show_values(p)\n",
    "        \n",
    "        format_plot()\n",
    "\n",
    "        #fig.suptitle(title)\n",
    "        plt.show()\n",
    "    \n",
    "    return filtered_acc_df\n",
    "\n",
    "\n",
    "\n"
   ]
  },
  {
   "cell_type": "markdown",
   "metadata": {},
   "source": [
    "## FIGURE 1: CIVILCOMMENTS-WILDS dataset samples."
   ]
  },
  {
   "cell_type": "code",
   "execution_count": 2,
   "metadata": {},
   "outputs": [],
   "source": [
    "civil_comments = get_dataset(dataset=\"civilcomments\", download=False, root_dir = './wilds/data')"
   ]
  },
  {
   "cell_type": "code",
   "execution_count": 50,
   "metadata": {},
   "outputs": [
    {
     "data": {
      "text/plain": [
       "('The truth hurts so you have to reply with your idiotic comments. You really do not realize how ignorant you are',\n",
       " tensor(1),\n",
       " tensor([0, 0, 0, 0, 0, 0, 0, 0, 0, 0, 0, 0, 1, 0, 0, 1, 0]))"
      ]
     },
     "execution_count": 50,
     "metadata": {},
     "output_type": "execute_result"
    }
   ],
   "source": [
    "civil_comments[20]"
   ]
  },
  {
   "cell_type": "code",
   "execution_count": 19,
   "metadata": {},
   "outputs": [
    {
     "name": "stdout",
     "output_type": "stream",
     "text": [
      "('No, he was accused of being a racist white man.', tensor(0), tensor([1, 0, 0, 0, 0, 0, 0, 1, 1, 0, 0, 0, 0, 0, 0, 0, 1]))\n"
     ]
    }
   ],
   "source": [
    "count = 0\n",
    "limit = 10\n",
    "\n",
    "for datum in civil_comments:\n",
    "    if datum[1].item() == 0:\n",
    "        if count == 5:\n",
    "            print(datum)\n",
    "            break\n",
    "        \n",
    "        count +=1\n",
    "        \n"
   ]
  },
  {
   "cell_type": "markdown",
   "metadata": {},
   "source": [
    "## FIGURE 2: AMAZON-WILDS dataset examples."
   ]
  },
  {
   "cell_type": "code",
   "execution_count": 20,
   "metadata": {},
   "outputs": [],
   "source": [
    "amazon = get_dataset(dataset=\"amazon\", download=False, root_dir = './wilds/data')"
   ]
  },
  {
   "cell_type": "code",
   "execution_count": 21,
   "metadata": {},
   "outputs": [
    {
     "data": {
      "text/plain": [
       "('Fragarant is strong enough to use without lotion or spray.',\n",
       " tensor(4),\n",
       " tensor([ 0,  0,  0, 19,  4,  1]))"
      ]
     },
     "execution_count": 21,
     "metadata": {},
     "output_type": "execute_result"
    }
   ],
   "source": [
    "amazon[0]"
   ]
  },
  {
   "cell_type": "code",
   "execution_count": 22,
   "metadata": {},
   "outputs": [
    {
     "data": {
      "text/plain": [
       "('I love this for when I take a shower.',\n",
       " tensor(4),\n",
       " tensor([1573,    0,    0,   18,    4,    0]))"
      ]
     },
     "execution_count": 22,
     "metadata": {},
     "output_type": "execute_result"
    }
   ],
   "source": [
    "amazon[1]"
   ]
  },
  {
   "cell_type": "code",
   "execution_count": 25,
   "metadata": {},
   "outputs": [],
   "source": [
    "count = 0\n",
    "limit = 30\n",
    "\n",
    "samples = {0:[], 1:[], 2:[], 3:[], 4:[], 5:[]}\n",
    "\n",
    "while count < limit:\n",
    "    datum = amazon[count]\n",
    "    \n",
    "    rating = datum[1].item()\n",
    "    samples[rating].append(datum)\n",
    "    \n",
    "    count +=1\n",
    "\n",
    "count = 0\n",
    "limit = 5\n",
    "\n",
    "for datum in amazon:    \n",
    "    rating = datum[1].item()\n",
    "    \n",
    "    if rating == 0:\n",
    "        samples[rating].append(datum)\n",
    "        count +=1\n",
    "        \n",
    "    if count == limit:\n",
    "        break\n",
    "    \n",
    "        \n",
    "count = 0\n",
    "limit = 5\n",
    "\n",
    "for datum in amazon:    \n",
    "    rating = datum[1].item()\n",
    "    \n",
    "    if rating == 5:\n",
    "        samples[rating].append(datum)\n",
    "        count +=1\n",
    "        \n",
    "    if count == limit:\n",
    "        break"
   ]
  },
  {
   "cell_type": "code",
   "execution_count": 54,
   "metadata": {},
   "outputs": [
    {
     "data": {
      "text/plain": [
       "{0: [(\"I have often heard about this type of product and I always assumed they would be lined with plastic of some kind, something non-absorbent, because otherwise, your hand cream would soak into the fabric, right?  Well, they are NOT lined with plastic, and the hand cream DID soak into them.  I put my regular application of hand cream on, and worked it in, and then, prepping for sleep, I put a big glob on my hands and rubbed it all around, sort of like you do on the face with a mask or hair with deep conditioner.  But the gloves are snug; some of the cream actually was pushed down to my wrist by the action of struggling into the gloves, and the rest of it soaked into the glove fabric once I had the gloves on.  I took them off a few minutes later because they were so tight on my hands (I wear size 7 gloves so my hands are not that outrageously big.)  As a process I don't recommend this, but if you are willing to deal with the drawbacks, you might like these.  But for me, I'll just keep moisturizing my hands before bed as usual.\",\n",
       "   tensor(0),\n",
       "   tensor([ 5056, 62111,     0,    21,     0,     0])),\n",
       "  (\"Really disappointed in the overall quality of sets I received. I bought this thinking to use the best on my window film installations. Problems : 1) Zipper on the case is very rough to close, sticking. 2) the #2 handle requires a crazy amount of force to lock the blade in place and even then becomes loose making it unusable. 3) Some of the blades are not sharp as I would expect, beings it's a new kit. Sent this one back, the replacement set came brand new, sealed in plastic/cardboard... without the #2 holder with blade even in it. Other extra blades were not in place, bounced around. Sent back again. I cannot recommend this product due to such poor quality control.\",\n",
       "   tensor(0),\n",
       "   tensor([  6401, 102717,     22,     21,      0,      0])),\n",
       "  (\"I can deal with the handles, but the factory edge is worthless. The burr on some edges makes it feel like carving with a spoon, not a knife. The bevel, such as it is, is so deeply corrugated by the 40-grit wheel that apparently sharpened it that I'll have to grind a lot off to get a truly straight edge on anything.\\n\\nAnd then, I'll be down to the steel itself, and how it holds its edge - or doesn't, my hopes aren't up. I should have been more patient and waited for USPS to bring me a decent set of tools. But noooh, I wanted it right away. Serves me right.\\n\\n-- wiredweird\",\n",
       "   tensor(0),\n",
       "   tensor([  5938, 102717,     22,     13,      0,      0])),\n",
       "  ('Wasted several shirts with this product. Followed directions and put heavy pressure on the print. Didnt matter, it peeled up and cracked after one wash. Dont bother. And If you have a shirt that looks okay its still subpar and people can tell you did it yourself.',\n",
       "   tensor(0),\n",
       "   tensor([21553, 78097,    22,    19,     0,     0])),\n",
       "  (\"I've tried using this product twice now and I had trouble getting the release paper off and made a big mess. The small size like this apparently came with the wrong instructions but the instructions with this larger size wasn't a whole lot better. I had no luck with it maybe it's my iron but I'm giving up trying maybe you will have better luck then me.\",\n",
       "   tensor(0),\n",
       "   tensor([ 9966, 78097,    22,    15,     0,     0]))],\n",
       " 1: [('These are typical inexpensive spa accessories, good for several uses but not particularly durable, in the case of the moisturizing gloves, and very susceptible to mold and mildew, in the case of the bath mitts.\\n\\nThe moisturizing gloves are stretchy, so they fit almost any adult hand and stay on all night.  They are made of  90% unbleached cotton with Spandex.\\n\\nThe body-loving bath mitt has a terry made of rayon (so-called bamboo fiber that is claimed to be naturally antibacterial, but which is neither) on one side for gentle smoothing and jute loops on the other for more aggressive exfoliation.\\n\\nThe boucl mitt has a stretchy, open weave of unidentified fiber to provide moderate exfoliation.\\n\\nThey are all slightly better than dollar store quality, but definitely not up to what I would expect from Pr de Provence.  I would at least expect proper labelling of the materials used in adherence with FTC regulations regarding rayon made from bamboo and no false claims, as a minimum.',\n",
       "   tensor(1),\n",
       "   tensor([ 4560, 62111,     0,    21,     1,     0])),\n",
       "  ('This foot file is pretty much just an oversized popsicle stick with strips of sandpaper glued to the front and back.  Dont get me wrong  theres nothing high-tech about any foot file, but some are better than others, and this one is about as bare bones as you can get.\\n\\nWhile I do indulge in the occasional professional pedicure, Im a big DIY pedi girl.  This foot file doesnt have the right texture to do a decent job of sloughing off dry skin, and you can forget buffing any calluses  its way too wimpy for that!\\n\\nBottom Line:  Low-end, ineffective foot file; not recommended.',\n",
       "   tensor(1),\n",
       "   tensor([14303, 62111,     0,    21,     1,     0])),\n",
       "  ('This is for the eye pillow since Amazon has a ton of unrelated items lumped here under a single spot for reviews.\\n\\nThere were two issues we had wtih this - first, the velcro straps that you can adjust at the back of the head - makes it a bit uncomfortable there especially if you\\'re laying on your back.  Second, this does a poor job of blocking light.  The nose piece isn\\'t cut out nearly enough to allow this to actually rest well over the eyes, so there\\'s just far, far too much light bleed since it just can\\'t fit well.\\n\\nScent is pleasant though and \"renewable\" by crinkling the eye pieces.',\n",
       "   tensor(1),\n",
       "   tensor([ 2864, 62111,     0,    21,     1,     0])),\n",
       "  (\"Note: The company has several products linked together which can lead to a misleading / confusing time reading reviews. This is for the booties.\\n\\nI was really excited to try these moisturizing booties. Unfortunately, they did not love up to my expectations. First of all, I thought they would moisturize my feet just by wearing them as indicated in the name. They don't. You are supposed to put cream or lotion on your feet before putting them on. This means that the cream/lotion is moisturizing your feet, not the booties. I used to rub lotion on my feet and then wear socks to bed which does the same thing.\\n\\nI wore these booties to bed and they immediately started annoying me. They have thick seams right at the toes and again at the heel. I couldn't stop rubbing the seams trying to make them more comfortable. Do they help hold in the heat and allow the lotion to really moisturize? Yes. So do socks. I have a pair of really soft, fluffy socks that have the same effect and are more comfortable.\\n\\nSadly, I cannot recommend these booties. I would suggest getting a really comfortable pair of socks and using them for the same thing. You can probably find them cheaper and they will work just as well.\",\n",
       "   tensor(1),\n",
       "   tensor([15329, 62111,     0,    21,     1,     0])),\n",
       "  (\"I use essential oils frequently in atomizers, on damp cloths near fans, and even as an additive in homemade cleaners. What I've found is that lavender scents can be tricky. Some are intense and other times they can be rather weak or not even smell like lavender at all. The Pre De Provence Maison French Lavender Blossom Linen Water is one that sadly falls into the latter category. I sprayed it on decorative pillows and at first it smelled really good They got the scent correct. But when I picked up the pillow 15 minutes later, it was no longer detectable. I tried it again, this time sniffing it 5 minutes later. Sadly, only the faintest hint of lavender greeted my nostrils. I was disappointed as Im a fan of aromatherapy, but this product just does not pass the muster.\\n\\nI poured some full strength into my diffuser and it did work then, but that means using a lot of the product. Id rather just add a few drops of essential oil to water. Additionally, Maison has some questionable preservatives (Methylisothiazolinone (MIT) and Methylchloroisothiazolinone (CMIT)) and FD&C Blue 1 and Red 33, rather than just pure scent. It does not come with a spray attachment.\\n\\n~ Kort\",\n",
       "   tensor(1),\n",
       "   tensor([ 5836, 62101,     0,    21,     1,     0]))],\n",
       " 2: [(\"This is a small sea sponge for the price. It's decent, you can hold it in your hand easily in the shower. Exfoliates well too. Just keep it in a well-drained spot in the shower to extend it's life.\",\n",
       "   tensor(2),\n",
       "   tensor([ 4170, 62111,     0,    22,     2,     0])),\n",
       "  (\"It's kind of an odd mix of reviews here. Evidently, there have been multiple listings and products used under this number so that there are multiple items being reviewed. I am reviewing the exfoliating gloves. They are mediocre. They are just a little rough and are good for things like legs and your back, at least the parts you can reach! The gloves are nothing super special and eventually, they get a little gross. You have to keep them clean as well and let them dry completely otherwise they will go yucky.\",\n",
       "   tensor(2),\n",
       "   tensor([ 8232, 62111,     0,    21,     2,     0]))],\n",
       " 3: [(\"I used and am reviewing the Nail Brush. I had not realized that the reviews for so many different products would be mixed up on\\none page.\\nThe nail brush isn't anything extra special, but it is sturdy and well made. I had no bristles fall out while I was using it.\\nIt did what it was supposed to do, get dirt out from under my fingernails.\\nIf it exfoliated my cuticles in the process, I did not notice. I am not too fussy about my nails and cuticles, only caring if my nails are\\nbroken or dirty.\",\n",
       "   tensor(3),\n",
       "   tensor([ 6946, 62111,     0,    21,     3,     0])),\n",
       "  ('This might have been a nice product if they had been a usable size.  Even accounting for wiggling wet hands into fabric, these are oversized.  They should be clearly labeled as EXTRA LARGE and their should be a smaller version as an option.  Offering at least two sizes (S/M and L/XL) seems a fair expectation.  Without size options, I expect the size to be \"medium\" not extra large.  This is neither one-size-fits-all or one-size-fits-most.\\n\\nIf your hands are small, these are unusable.  If your hands are average, you will still find this big.\\n\\nFabric is soft and washable.',\n",
       "   tensor(3),\n",
       "   tensor([ 5247, 62111,     0,    21,     3,     0])),\n",
       "  (\"I don't think I've ever had a real sponge like this before, and it's great for having my back scrubbed. It does not irritate my skin, and it feels good. There's one side effect I hadn't thought of - the cat attacked it like it was alive and he was determined to kill it. I had to take it away from him and put it where he couldn't easily get to it. My own little pet skeleton, right?\",\n",
       "   tensor(3),\n",
       "   tensor([ 3020, 62111,     0,    21,     3,     0])),\n",
       "  (\"Very nicely priced foot file and gets the job effectively. I'd say that the file isn't particularly coarse so it doesn't feel rough and is effective on both dry or wet skin. Very effective at dry skin removal and starting anew.\",\n",
       "   tensor(3),\n",
       "   tensor([ 2011, 62111,     0,    21,     3,     0])),\n",
       "  (\"This is a nice shower cap that provides enough room for lots of hair.  My hair is a few inches past my shoulders, and, while it's fine, I have a lot of it.  This keeps it nice and dry, and is pretty comfy.  The print is also cute.\",\n",
       "   tensor(3),\n",
       "   tensor([ 8586, 62111,     0,    21,     3,     0])),\n",
       "  (\"With the Color Boucle Bath Mitt, I'm able to get the same large amount of soapy lather I normally would with a bath pouf, but with a softer fabric like you'd get using a washcloth. Using this mitt is like washing with an extra large washcloth, but it's not difficult to work with or easy to accidentally drop. Works well!\",\n",
       "   tensor(3),\n",
       "   tensor([  580, 62111,     0,    21,     3,     1]))],\n",
       " 4: [('Fragarant is strong enough to use without lotion or spray.',\n",
       "   tensor(4),\n",
       "   tensor([ 0,  0,  0, 19,  4,  1])),\n",
       "  ('I love this for when I take a shower.',\n",
       "   tensor(4),\n",
       "   tensor([1573,    0,    0,   18,    4,    0])),\n",
       "  (\"I have had this shower gel once before, and it's amazing. Hard to find, too. One of The Body Shop's best scents, and it's usually only available seasonally! I wish they sold it in bigger bottles, but I was happy to find this.\",\n",
       "   tensor(4),\n",
       "   tensor([14688,     0,     0,    18,     4,     0])),\n",
       "  ('This gel is a genuine imported product from France. Over the years I have bought my wife similar products by other very expensive brands from France. Real high quality at a very affordable price.',\n",
       "   tensor(4),\n",
       "   tensor([7882,    0,    0,   18,    4,    0])),\n",
       "  (\"Victoria Secret had an amazing fragrance in this but has since discontinued it.  While this wasn't a cheap way to buy what of these remains, It was worth every penny being able to buy what is left of these on the market.  This scent is my all time favorite.\",\n",
       "   tensor(4),\n",
       "   tensor([11435,     0,     0,    18,     4,     0])),\n",
       "  ('This smells so good exactly like the body lotion and spray mist. It is a soft femine fragrance not too overpowering.  I would highly recommend!',\n",
       "   tensor(4),\n",
       "   tensor([23100,     0,     0,    17,     4,     0])),\n",
       "  ('We both love the shower gel.  It smells so good, and matches the lotion that is sold, too.  We love using it.',\n",
       "   tensor(4),\n",
       "   tensor([1573,    0,    0,   17,    4,    0])),\n",
       "  ('This smells yummy and love it during the fall! I have the lip gloss also which is great! I love philosophy and this is yet another goody! :)',\n",
       "   tensor(4),\n",
       "   tensor([23427,     0,     0,    17,     4,     0])),\n",
       "  ('I bought this for my niece and she loved it! Philosophy is great and she said this set.  Smelled awesome!',\n",
       "   tensor(4),\n",
       "   tensor([23427,     0,     0,    17,     4,     0])),\n",
       "  (\"I love this brand because the ingredients are all good enough to eat, its Paraben free and best of all, no animal testing. I first found it online by doing a search for things with pumpkin in it, and now I'm on my 4th bottle of this and I also recommend the body lotion and face creams, I am slowly becoming totally enamored with this brand and always look forward to trying more things.\\n\\nThis wash beats soap anytime in the shower; the orange gelee collapses on itself when poured and feels cool and refreshing especially in the morning. I love the scent, its very delicate, smell like soft fruit scented air, nothing aggressive and doesn't feel too organic and strange but fancy enough. There is ginko biloba and cucumber water, green tea, chamomile, orange and of course carrots, silky aloe, cleansing Dead Sea water and even spirulina extract, which I have drank before but never used in products. It feels very light and my skin always feels clean but light, never dry and uncomfortable. The bottle is also large and lasts a while, which is nice.\\n\\nAs I get older it becomes more important to me to use as little chemicals as possible, of course in today&iexcl;s world we are bombarded with them and its hard since they appear in everything but still, ever little thing counts. Parabens for example are used as preservatives and are generally considered safe because of low levels of toxicity, but lately I keep reading how traces are found in cancer lumps especially in women and simply knowing that a cosmetic doesn't have it makes me happy. And I love my cosmetics almost as much as books, the bathroom is always stacked : )\\n\\n- Kasia S.\",\n",
       "   tensor(4),\n",
       "   tensor([12981,     0,     0,    13,     4,     0])),\n",
       "  (\"I love using shower gels and body washes in the shower in stead of soap for their fragrant lovely non drying consistency. This shower gel by Solstis is really unique; it smells like no other cosmetic I have ever used. Sure many items will try and smell like an ocean, with the wet green blue artificial scent, yet they do not compare to this one.\\n\\nThis wash smells like the salty ocean water, sunscreen lotion, sun, sand and a slight layer of milky fruit. It's really radiant and silky on and has the most incredible fresh scent; it makes me feel as if I have entered a paradise island and Im watching the sunset settling in misty colored sweet clouds as waves crash at my feet as I have never used a product that smelled this unique. At first this will smell faint, but using this with scrubby gloves or those bath poofs will yield luxe foam and a burst of some peaceful mineral rich island.\",\n",
       "   tensor(4),\n",
       "   tensor([12981,     0,     0,    10,     4,     0])),\n",
       "  ('To me this shampoo has to best smell. It cleans very well without drying my hair out. My favorite shampoo.',\n",
       "   tensor(4),\n",
       "   tensor([ 3170, 89743,     0,    20,     4,     0])),\n",
       "  (\"Very comfortable. I love the lavender smell. It is subtle and not overpowering. Most of the time, it doesn't put any pressure on my eyes, but sometimes I have to fiddle with it so it fits so the two folds on the inside sit just right without irritating me. It blocks out all the light and I do like how smooth the material feels against my face.\",\n",
       "   tensor(4),\n",
       "   tensor([14812, 62111,     0,    21,     4,     0])),\n",
       "  ('Great for an at home spa experience. I have dry heels and these moisturizing booties really helped. Five stars.',\n",
       "   tensor(4),\n",
       "   tensor([ 2300, 62111,     0,    21,     4,     0])),\n",
       "  (\"These Urban Spa Moisturizing Gloves are a very effective way to moisturize your hands when they're dry and rough from gardening, household chores or dry cold weather. Simply use your favorite oil or moisturizer and then slip on these gloves. They keep the creams or oils on your hands instead of having it get all over the bedding while you sleep. In the morning, your hands feel softer and smoother, having been bathed in moisturizers all night. This can be very good for fingernails as well. If you have dry, brittle or peeling nails, the moisture will help to condition them. These gloves ensure that the hand or nail products stay on your hands or nails.\\n\\nI washed these in cold water the first time, but it was difficult to get much of the oil I used removed from them. The next time I used warm water that seemed to work better, with no detrimental effects to the gloves that I could see. They feel soft and hold up well.\",\n",
       "   tensor(4),\n",
       "   tensor([ 9081, 62111,     0,    21,     4,     0])),\n",
       "  ('Great pumice stone on a short rope. Somewhat rough, but that is how these things are. Good for working on overly thick skin areas.',\n",
       "   tensor(4),\n",
       "   tensor([ 1271, 62111,     0,    21,     4,     0])),\n",
       "  ('I admit it takes a bit of getting used to having socks on for sleep.  Especially if it is warm.  Which is when you need this product the most, during summer days running around barefooted.  You develop quite the thick-soled hooves!  I was able to do the perfect test as one of these socks slipped off during the night, so I had perfect data.\\n\\nThe foot that kept the sock on WAS smoother, moisturized, and softer.  No two ways about it.\\n\\nThe booties are really just all natural unbleached cotton no-show socks, thin material probably fits all sizes up to a 10.5, Womens.\\n\\nI used some lovely Judith Krantz moisturizer and slipped on the socks.  A couple of hours later, one was off, I kept it off to see the difference.  And there is a difference.\\n\\nI absolutely think this will be an enormous help if you have dry, cracked, and/or calloused feet.\\n\\nCold wash, hang to dry.',\n",
       "   tensor(4),\n",
       "   tensor([18032, 62111,     0,    21,     4,     0])),\n",
       "  ('Works great in the shower -- it really makes me feel cleaner after a good scrubbing, and it dries out beautifully.\\n\\nNo remaining odor after it is completely dry.\\n\\nRobert C. Ross\\nSeptember 2017',\n",
       "   tensor(4),\n",
       "   tensor([ 3052, 62111,     0,    21,     4,     0])),\n",
       "  (\"This is a great shower cap. I have very long thick hair that I don't want to wash every day, so this is perfect.  It fits my head comfortably and stays in place well.  It does a very good job at keep the water off my hair and even the edges barely get damp.  Overall, It's a very nice shower cap.\",\n",
       "   tensor(4),\n",
       "   tensor([ 2685, 62111,     0,    21,     4,     0])),\n",
       "  (\"I'm almost afraid to say it, but these gloves come in very handy! I wash my hands all day long, and I don't always have time to reach for hand cream, especially at work. As a result, my cuticles get ragged, my nails get weak, and my hands feel very uncomfortably dry. In the winter, they can even bleed and crack. I've tried putting on a heavy layer of moisturizer under a pair of socks. It works, but it makes me crazy. These gloves are so super -- they fulfill a need in a better way than I anticipated.\",\n",
       "   tensor(4),\n",
       "   tensor([ 2153, 62111,     0,    21,     4,     0]))],\n",
       " 5: []}"
      ]
     },
     "execution_count": 54,
     "metadata": {},
     "output_type": "execute_result"
    }
   ],
   "source": [
    "samples"
   ]
  },
  {
   "cell_type": "markdown",
   "metadata": {},
   "source": [
    "## FIGURE 3: AUGMENTATION SAMPLES"
   ]
  },
  {
   "cell_type": "code",
   "execution_count": 4,
   "metadata": {},
   "outputs": [
    {
     "name": "stdout",
     "output_type": "stream",
     "text": [
      "nlp_ocr\n",
      "No, he was accused of 6eing a racist white man.\n",
      "nlp_keyboard\n",
      "No, he was accused of be*ng a racist white man.\n",
      "nlp_random_char_insert\n",
      "No, he was accused of being a racist whiVte man.\n",
      "nlp_random_char_substitution\n",
      "No, he was accused of bein8 a racist white man.\n",
      "nlp_random_char_swap\n",
      "No, he was accused of being a racist wihte man.\n",
      "nlp_random_char_deletion\n",
      "No, he was accused of being a racist whte man.\n",
      "nlp_spelling_substitution\n",
      "No, he was accused ol being a racist white man.\n"
     ]
    }
   ],
   "source": [
    "import nlpaug.augmenter.char as nac\n",
    "import nlpaug.augmenter.word as naw\n",
    "import nlpaug.augmenter.sentence as nas\n",
    "\n",
    "text = \"No, he was accused of being a racist white man.\"\n",
    "\n",
    "in_progress = ['nlp_random_crop'\n",
    "               , 'nlp_random_token_split'\n",
    "               , 'nlp_back_translation_aug'\n",
    "              ]\n",
    "\n",
    "\n",
    "word_augmentations = ['nlp_random_word_swap'\n",
    "                           , 'nlp_random_word_delete'\n",
    "                           , 'nlp_random_word_substitute'\n",
    "                           , 'nlp_wordnet_synonym'\n",
    "                           , 'nlp_ppdb_synonym'\n",
    "                           , 'nlp_antonym'\n",
    "                           , 'nlp_random_contextual_word_insertion_bert_uncased_embedding'\n",
    "                          , 'nlp_random_contextual_word_substitution_bert_uncased_embedding'\n",
    "                          , 'nlp_random_token_split'\n",
    "    \n",
    "]\n",
    "\n",
    "\n",
    "char_augmentations = [\n",
    "                           'nlp_ocr'\n",
    "                           , 'nlp_keyboard'\n",
    "                           , 'nlp_random_char_insert'\n",
    "                           , 'nlp_random_char_substitution'\n",
    "                           , 'nlp_random_char_swap'\n",
    "                           , 'nlp_random_char_deletion'\n",
    "                           , 'nlp_spelling_substitution']\n",
    "\n",
    "\n",
    "\n",
    "for char_aug in char_augmentations:\n",
    "    print(char_aug)\n",
    "    aug = initialize_nlpaug_transform(char_aug\n",
    "                                       , aug_char_min = 1\n",
    "                                       , aug_char_max = 1\n",
    "                                       , aug_char_p = 1\n",
    "                                       , aug_word_p = 0.1\n",
    "                                       , aug_word_min = 1\n",
    "                                       , aug_word_max = None\n",
    "                                       , min_char = 4)\n",
    "\n",
    "    augmented_text = aug(text, n = 1)\n",
    "\n",
    "    print(augmented_text)"
   ]
  },
  {
   "cell_type": "code",
   "execution_count": 5,
   "metadata": {},
   "outputs": [
    {
     "name": "stdout",
     "output_type": "stream",
     "text": [
      "nlp_random_word_swap\n",
      "No, he was accused of being a racist white. man\n",
      "nlp_random_word_delete\n",
      "No, he was accused of a racist white man.\n",
      "nlp_random_word_substitute\n",
      "No, he was accused of _ a racist white man.\n",
      "nlp_wordnet_synonym\n",
      "No, he make up accused of being a racist white man.\n",
      "nlp_ppdb_synonym\n",
      "No, he was accused of being a racism white man.\n",
      "nlp_antonym\n",
      "No, he was accused of being a racist black man.\n",
      "nlp_random_contextual_word_insertion_bert_uncased_embedding\n",
      "no, he was accused of being a racist indian white man.\n",
      "nlp_random_contextual_word_substitution_bert_uncased_embedding\n",
      "no, he was accused of being a murdered white man.\n",
      "nlp_random_token_split\n",
      "No, he was accused of being a racist wh ite man.\n"
     ]
    }
   ],
   "source": [
    "for word_aug in word_augmentations:\n",
    "    print(word_aug)\n",
    "    aug = initialize_nlpaug_transform(word_aug\n",
    "                                       , aug_char_min = 1\n",
    "                                       , aug_char_max = 1\n",
    "                                       , aug_char_p = 1\n",
    "                                       , aug_word_p = 1\n",
    "                                       , aug_word_min = 1\n",
    "                                       , aug_word_max = 1\n",
    "                                       , min_char = 4)\n",
    "\n",
    "    augmented_text = aug(text, n = 1)\n",
    "\n",
    "    print(augmented_text)"
   ]
  },
  {
   "cell_type": "code",
   "execution_count": 7,
   "metadata": {},
   "outputs": [
    {
     "data": {
      "text/plain": [
       "['No, he was accused of being a racist white _.',\n",
       " 'No, he was _ of being a racist white man.',\n",
       " 'No, he was accused _ being a racist white man.',\n",
       " 'No, _ was accused of being a racist white man.',\n",
       " 'No, he was accused of being a racist white _.']"
      ]
     },
     "execution_count": 7,
     "metadata": {},
     "output_type": "execute_result"
    }
   ],
   "source": [
    "aug = initialize_nlpaug_transform(\"nlp_random_word_substitute\"\n",
    "                                       , aug_char_min = 1\n",
    "                                       , aug_char_max = 1\n",
    "                                       , aug_char_p = 1\n",
    "                                       , aug_word_p = 1\n",
    "                                       , aug_word_min = 1\n",
    "                                       , aug_word_max = 1\n",
    "                                       , min_char = 4)\n",
    "\n",
    "augmented_text = aug(text, n = 5)\n",
    "\n",
    "augmented_text"
   ]
  },
  {
   "cell_type": "code",
   "execution_count": 13,
   "metadata": {},
   "outputs": [
    {
     "name": "stderr",
     "output_type": "stream",
     "text": [
      "I0406 00:54:11.464222 140239587987648 filelock.py:254] Lock 140227638585776 acquired on /local/helenl/.cache/fe501e8fd6425b8ec93df37767fcce78ce626e34cc5edc859c662350cf712e41.406701565c0afd9899544c1cb8b93185a76f00b31e5ce7f6e18bbaef02241985.lock\n"
     ]
    },
    {
     "name": "stdout",
     "output_type": "stream",
     "text": [
      "nlp_abstractive_summarization_t5_small\n"
     ]
    },
    {
     "data": {
      "application/vnd.jupyter.widget-view+json": {
       "model_id": "a65a265e37864397880c4fd6b46d5654",
       "version_major": 2,
       "version_minor": 0
      },
      "text/plain": [
       "Downloading:   0%|          | 0.00/1.20k [00:00<?, ?B/s]"
      ]
     },
     "metadata": {},
     "output_type": "display_data"
    },
    {
     "name": "stderr",
     "output_type": "stream",
     "text": [
      "I0406 00:54:11.603519 140239587987648 filelock.py:317] Lock 140227638585776 released on /local/helenl/.cache/fe501e8fd6425b8ec93df37767fcce78ce626e34cc5edc859c662350cf712e41.406701565c0afd9899544c1cb8b93185a76f00b31e5ce7f6e18bbaef02241985.lock\n",
      "I0406 00:54:11.705754 140239587987648 filelock.py:254] Lock 140230878424760 acquired on /local/helenl/.cache/fee5a3a0ae379232608b6eed45d2d7a0d2966b9683728838412caccc41b4b0ed.ddacdc89ec88482db20c676f0861a336f3d0409f94748c209847b49529d73885.lock\n"
     ]
    },
    {
     "data": {
      "application/vnd.jupyter.widget-view+json": {
       "model_id": "825049f429984e2996bf00037a058a8d",
       "version_major": 2,
       "version_minor": 0
      },
      "text/plain": [
       "Downloading:   0%|          | 0.00/242M [00:00<?, ?B/s]"
      ]
     },
     "metadata": {},
     "output_type": "display_data"
    },
    {
     "name": "stderr",
     "output_type": "stream",
     "text": [
      "I0406 00:54:32.182391 140239587987648 filelock.py:317] Lock 140230878424760 released on /local/helenl/.cache/fee5a3a0ae379232608b6eed45d2d7a0d2966b9683728838412caccc41b4b0ed.ddacdc89ec88482db20c676f0861a336f3d0409f94748c209847b49529d73885.lock\n",
      "Your max_length is set to 50, but you input_length is only 17. You might consider decreasing max_length manually, e.g. summarizer('...', max_length=50)\n"
     ]
    },
    {
     "name": "stdout",
     "output_type": "stream",
     "text": [
      "no, he was accused of being a racist white man . he is a white man, not a black man, but a sex slave .\n"
     ]
    }
   ],
   "source": [
    "sentence_augmentations = [#'nlp_random_sentence_shuffle_left'\n",
    "                          #, 'nlp_random_sentence_shuffle_right'\n",
    "                          #, 'nlp_random_sentence_shuffle_neighbor'\n",
    "                          #, 'nlp_random_sentence_shuffle_random'\n",
    "                         #'nlp_contextual_sentence_insertion_gpt2_embedding'\n",
    "                          #, 'nlp_contextual_sentence_insertion_xlnet_cased_embedding'\n",
    "                          #, 'nlp_contextual_sentence_insertion_distilgpt2_embedding'\n",
    "                          #'nlp_abstractive_summarization_bart_large_cnn'\n",
    "                           'nlp_abstractive_summarization_t5_small'\n",
    "                          #, 'nlp_abstractive_summarization_t5_base'\n",
    "                          #, 'nlp_abstractive_summarization_t5_large'\n",
    "]\n",
    "\n",
    "for sentence_aug in sentence_augmentations:\n",
    "    print(sentence_aug)\n",
    "    aug = initialize_nlpaug_transform(sentence_aug\n",
    "                                       , aug_char_min = 1\n",
    "                                       , aug_char_max = 1\n",
    "                                       , aug_char_p = 1\n",
    "                                       , aug_word_p = 1\n",
    "                                       , aug_word_min = 1\n",
    "                                       , aug_word_max = 1\n",
    "                                       , min_char = 4\n",
    "                                       , aug_sentence_min = 1\n",
    "                                  , aug_sentence_max = None\n",
    "                                  , aug_sentence_p = 0.1)\n",
    "\n",
    "    augmented_text = aug(text, n = 1)\n",
    "\n",
    "    print(augmented_text)"
   ]
  },
  {
   "cell_type": "markdown",
   "metadata": {},
   "source": [
    "## FIGURE 4: OVERVIEW OF AUGMENTATION POLICY TYPES (CIVILCOMMENTS)"
   ]
  },
  {
   "cell_type": "code",
   "execution_count": null,
   "metadata": {},
   "outputs": [],
   "source": []
  },
  {
   "cell_type": "code",
   "execution_count": 50,
   "metadata": {},
   "outputs": [
    {
     "name": "stdout",
     "output_type": "stream",
     "text": [
      "nlp_random_word_swap\n"
     ]
    },
    {
     "data": {
      "application/vnd.jupyter.widget-view+json": {
       "model_id": "039986ccb7a74e5c8e8a360a4b97b17d",
       "version_major": 2,
       "version_minor": 0
      },
      "text/plain": [
       "  0%|          | 0/10 [00:00<?, ?it/s]"
      ]
     },
     "metadata": {},
     "output_type": "display_data"
    },
    {
     "name": "stdout",
     "output_type": "stream",
     "text": [
      "nlp_random_word_delete\n"
     ]
    },
    {
     "data": {
      "application/vnd.jupyter.widget-view+json": {
       "model_id": "7fcbc917825c4002a8fab456bb3780c1",
       "version_major": 2,
       "version_minor": 0
      },
      "text/plain": [
       "  0%|          | 0/10 [00:00<?, ?it/s]"
      ]
     },
     "metadata": {},
     "output_type": "display_data"
    },
    {
     "ename": "KeyboardInterrupt",
     "evalue": "",
     "output_type": "error",
     "traceback": [
      "\u001b[0;31m---------------------------------------------------------------------------\u001b[0m",
      "\u001b[0;31mKeyboardInterrupt\u001b[0m                         Traceback (most recent call last)",
      "\u001b[0;32m<ipython-input-50-c8c3a1cb3aff>\u001b[0m in \u001b[0;36m<module>\u001b[0;34m\u001b[0m\n\u001b[1;32m     28\u001b[0m \u001b[0;34m\u001b[0m\u001b[0m\n\u001b[1;32m     29\u001b[0m \u001b[0;34m\u001b[0m\u001b[0m\n\u001b[0;32m---> 30\u001b[0;31m \u001b[0mword_df\u001b[0m \u001b[0;34m=\u001b[0m \u001b[0mcreate_accuracy_graph\u001b[0m\u001b[0;34m(\u001b[0m\u001b[0mword_aug_file_paths\u001b[0m\u001b[0;34m,\u001b[0m \u001b[0maxs_4\u001b[0m\u001b[0;34m[\u001b[0m\u001b[0;36m0\u001b[0m\u001b[0;34m]\u001b[0m\u001b[0;34m,\u001b[0m \u001b[0mplot_type\u001b[0m \u001b[0;34m=\u001b[0m \u001b[0;34m\"box\"\u001b[0m\u001b[0;34m,\u001b[0m \u001b[0mtitle\u001b[0m \u001b[0;34m=\u001b[0m \u001b[0;34m\"Word-based\"\u001b[0m\u001b[0;34m,\u001b[0m \u001b[0mplot_delta\u001b[0m \u001b[0;34m=\u001b[0m \u001b[0;32mTrue\u001b[0m\u001b[0;34m)\u001b[0m\u001b[0;34m\u001b[0m\u001b[0;34m\u001b[0m\u001b[0m\n\u001b[0m",
      "\u001b[0;32m<ipython-input-46-1d0b2d06f73a>\u001b[0m in \u001b[0;36mcreate_accuracy_graph\u001b[0;34m(augmentation_file_paths, axs, plot_type, title, sampling_percent, num_runs, plot, apply_threshhold, plot_delta)\u001b[0m\n\u001b[1;32m     27\u001b[0m         \u001b[0maugmentation_name\u001b[0m \u001b[0;34m=\u001b[0m \u001b[0mfile_name\u001b[0m\u001b[0;34m.\u001b[0m\u001b[0msplit\u001b[0m\u001b[0;34m(\u001b[0m\u001b[0;34m'/'\u001b[0m\u001b[0;34m)\u001b[0m\u001b[0;34m[\u001b[0m\u001b[0;34m-\u001b[0m\u001b[0;36m1\u001b[0m\u001b[0;34m]\u001b[0m\u001b[0;34m.\u001b[0m\u001b[0msplit\u001b[0m\u001b[0;34m(\u001b[0m\u001b[0;34m'.'\u001b[0m\u001b[0;34m)\u001b[0m\u001b[0;34m[\u001b[0m\u001b[0;36m0\u001b[0m\u001b[0;34m]\u001b[0m\u001b[0;34m\u001b[0m\u001b[0;34m\u001b[0m\u001b[0m\n\u001b[1;32m     28\u001b[0m         \u001b[0mprint\u001b[0m\u001b[0;34m(\u001b[0m\u001b[0maugmentation_name\u001b[0m\u001b[0;34m)\u001b[0m\u001b[0;34m\u001b[0m\u001b[0;34m\u001b[0m\u001b[0m\n\u001b[0;32m---> 29\u001b[0;31m         \u001b[0maccuracies\u001b[0m \u001b[0;34m=\u001b[0m \u001b[0mcalculate_accuracy\u001b[0m\u001b[0;34m(\u001b[0m\u001b[0mfile_name\u001b[0m\u001b[0;34m,\u001b[0m \u001b[0msampling_percent\u001b[0m \u001b[0;34m=\u001b[0m \u001b[0msampling_percent\u001b[0m\u001b[0;34m,\u001b[0m \u001b[0mnum_runs\u001b[0m \u001b[0;34m=\u001b[0m \u001b[0mnum_runs\u001b[0m\u001b[0;34m)\u001b[0m\u001b[0;34m\u001b[0m\u001b[0;34m\u001b[0m\u001b[0m\n\u001b[0m\u001b[1;32m     30\u001b[0m \u001b[0;34m\u001b[0m\u001b[0m\n\u001b[1;32m     31\u001b[0m         \u001b[0;32mfor\u001b[0m \u001b[0mi\u001b[0m \u001b[0;32min\u001b[0m \u001b[0mrange\u001b[0m\u001b[0;34m(\u001b[0m\u001b[0mlen\u001b[0m\u001b[0;34m(\u001b[0m\u001b[0maccuracies\u001b[0m\u001b[0;34m)\u001b[0m\u001b[0;34m)\u001b[0m\u001b[0;34m:\u001b[0m\u001b[0;34m\u001b[0m\u001b[0;34m\u001b[0m\u001b[0m\n",
      "\u001b[0;32m/data/ddmg/prism/tta/work/helenl/tta_research/helenl_utils.py\u001b[0m in \u001b[0;36mcalculate_accuracy\u001b[0;34m(prediction_file, sampling_percent, num_runs)\u001b[0m\n\u001b[1;32m    391\u001b[0m         \u001b[0mclassified_predictions\u001b[0m \u001b[0;34m=\u001b[0m \u001b[0;34m[\u001b[0m\u001b[0;34m]\u001b[0m\u001b[0;34m\u001b[0m\u001b[0;34m\u001b[0m\u001b[0m\n\u001b[1;32m    392\u001b[0m         \u001b[0;32mfor\u001b[0m \u001b[0mprediction\u001b[0m \u001b[0;32min\u001b[0m \u001b[0mrand_logit_predictions\u001b[0m\u001b[0;34m:\u001b[0m\u001b[0;34m\u001b[0m\u001b[0;34m\u001b[0m\u001b[0m\n\u001b[0;32m--> 393\u001b[0;31m             \u001b[0mindex_prediction\u001b[0m \u001b[0;34m=\u001b[0m \u001b[0mnp\u001b[0m\u001b[0;34m.\u001b[0m\u001b[0margmax\u001b[0m\u001b[0;34m(\u001b[0m\u001b[0mprediction\u001b[0m\u001b[0;34m,\u001b[0m \u001b[0maxis\u001b[0m \u001b[0;34m=\u001b[0m \u001b[0;36m0\u001b[0m\u001b[0;34m)\u001b[0m\u001b[0;34m.\u001b[0m\u001b[0mtolist\u001b[0m\u001b[0;34m(\u001b[0m\u001b[0;34m)\u001b[0m\u001b[0;34m\u001b[0m\u001b[0;34m\u001b[0m\u001b[0m\n\u001b[0m\u001b[1;32m    394\u001b[0m             \u001b[0mclassified_predictions\u001b[0m\u001b[0;34m.\u001b[0m\u001b[0mappend\u001b[0m\u001b[0;34m(\u001b[0m\u001b[0mindex_prediction\u001b[0m\u001b[0;34m)\u001b[0m\u001b[0;34m\u001b[0m\u001b[0;34m\u001b[0m\u001b[0m\n\u001b[1;32m    395\u001b[0m \u001b[0;34m\u001b[0m\u001b[0m\n",
      "\u001b[0;31mKeyboardInterrupt\u001b[0m: "
     ]
    },
    {
     "data": {
      "image/png": "[encoded data removed]",
      "text/plain": [
       "<Figure size 432x288 with 4 Axes>"
      ]
     },
     "metadata": {},
     "output_type": "display_data"
    }
   ],
   "source": [
    "## PLOT WITH 4 SUBPLOTS: MULTI-SAMPLE ONE AUG, MULTI-AUG ONE SAMPLE, SINGLE-SAMPLE SINGLE-AUG\n",
    "\n",
    "fig_4, axs_4 = plt.subplots(1,4)\n",
    "\n",
    "selected_augs = ['nlp_random_contextual_word_insertion_distilroberta_base_embedding'\n",
    "                , 'nlp_random_word_swap'\n",
    "                , 'nlp_wordnet_synonym'\n",
    "                , 'nlp_random_word_delete'\n",
    "                , 'nlp_ppdb_synonym'\n",
    "                , 'nlp_antonym']\n",
    "\n",
    "\n",
    "# MULTI-SAMPLE, ONE AUG\n",
    "\n",
    "# WORD-BASED FOUR SAMPLES\n",
    "\n",
    "bert_path = OUTPUT_PATH + \"civilcomments_ERM_predictions/bert.npy\"\n",
    "\n",
    "directory = OUTPUT_PATH + \"civilcomments_ERM_predictions_optimized_params_four_samples/averaged_sample_group/with_bert/\"\n",
    "word_aug_file_paths = []\n",
    "\n",
    "for aug in all_word_augmentations:\n",
    "    if aug in selected_augs:\n",
    "        file_path = directory + aug + \".npy\"\n",
    "        word_aug_file_paths.append(file_path)\n",
    "    \n",
    "word_aug_file_paths.append(bert_path)\n",
    "\n",
    "\n",
    "word_df = create_accuracy_graph(word_aug_file_paths, axs_4[0], plot_type = \"box\", title = \"Word-based\", plot_delta = True)\n"
   ]
  },
  {
   "cell_type": "code",
   "execution_count": 63,
   "metadata": {},
   "outputs": [
    {
     "name": "stdout",
     "output_type": "stream",
     "text": [
      "359\n"
     ]
    },
    {
     "data": {
      "application/vnd.jupyter.widget-view+json": {
       "model_id": "c968de0dd34f477d9294783157a7cb35",
       "version_major": 2,
       "version_minor": 0
      },
      "text/plain": [
       "  0%|          | 0/10 [00:00<?, ?it/s]"
      ]
     },
     "metadata": {},
     "output_type": "display_data"
    },
    {
     "ename": "KeyboardInterrupt",
     "evalue": "",
     "output_type": "error",
     "traceback": [
      "\u001b[0;31m---------------------------------------------------------------------------\u001b[0m",
      "\u001b[0;31mKeyboardInterrupt\u001b[0m                         Traceback (most recent call last)",
      "\u001b[0;32m<ipython-input-63-e89551fa77c3>\u001b[0m in \u001b[0;36m<module>\u001b[0;34m\u001b[0m\n\u001b[1;32m     26\u001b[0m \u001b[0;34m\u001b[0m\u001b[0m\n\u001b[1;32m     27\u001b[0m \u001b[0;34m\u001b[0m\u001b[0m\n\u001b[0;32m---> 28\u001b[0;31m \u001b[0mmulti_multi_df\u001b[0m \u001b[0;34m=\u001b[0m \u001b[0mcreate_accuracy_graph\u001b[0m\u001b[0;34m(\u001b[0m\u001b[0maug_file_paths\u001b[0m\u001b[0;34m,\u001b[0m \u001b[0maxs_4\u001b[0m\u001b[0;34m[\u001b[0m\u001b[0;36m0\u001b[0m\u001b[0;34m]\u001b[0m\u001b[0;34m,\u001b[0m \u001b[0mplot_type\u001b[0m \u001b[0;34m=\u001b[0m \u001b[0;34m\"box\"\u001b[0m\u001b[0;34m,\u001b[0m \u001b[0mtitle\u001b[0m \u001b[0;34m=\u001b[0m \u001b[0;34m\"Word-based\"\u001b[0m\u001b[0;34m,\u001b[0m \u001b[0mplot_delta\u001b[0m \u001b[0;34m=\u001b[0m \u001b[0;32mTrue\u001b[0m\u001b[0;34m)\u001b[0m\u001b[0;34m\u001b[0m\u001b[0;34m\u001b[0m\u001b[0m\n\u001b[0m\u001b[1;32m     29\u001b[0m \u001b[0;34m\u001b[0m\u001b[0m\n",
      "\u001b[0;32m<ipython-input-62-074cfff9a38b>\u001b[0m in \u001b[0;36mcreate_accuracy_graph\u001b[0;34m(augmentation_file_paths, axs, plot_type, title, sampling_percent, num_runs, plot, apply_threshhold, plot_delta)\u001b[0m\n\u001b[1;32m     27\u001b[0m         \u001b[0maugmentation_name\u001b[0m \u001b[0;34m=\u001b[0m \u001b[0mfile_name\u001b[0m\u001b[0;34m.\u001b[0m\u001b[0msplit\u001b[0m\u001b[0;34m(\u001b[0m\u001b[0;34m'/'\u001b[0m\u001b[0;34m)\u001b[0m\u001b[0;34m[\u001b[0m\u001b[0;34m-\u001b[0m\u001b[0;36m1\u001b[0m\u001b[0;34m]\u001b[0m\u001b[0;34m.\u001b[0m\u001b[0msplit\u001b[0m\u001b[0;34m(\u001b[0m\u001b[0;34m'.'\u001b[0m\u001b[0;34m)\u001b[0m\u001b[0;34m[\u001b[0m\u001b[0;36m0\u001b[0m\u001b[0;34m]\u001b[0m\u001b[0;34m\u001b[0m\u001b[0;34m\u001b[0m\u001b[0m\n\u001b[1;32m     28\u001b[0m         \u001b[0mprint\u001b[0m\u001b[0;34m(\u001b[0m\u001b[0maugmentation_name\u001b[0m\u001b[0;34m)\u001b[0m\u001b[0;34m\u001b[0m\u001b[0;34m\u001b[0m\u001b[0m\n\u001b[0;32m---> 29\u001b[0;31m         \u001b[0maccuracies\u001b[0m \u001b[0;34m=\u001b[0m \u001b[0mcalculate_accuracy\u001b[0m\u001b[0;34m(\u001b[0m\u001b[0mfile_name\u001b[0m\u001b[0;34m,\u001b[0m \u001b[0msampling_percent\u001b[0m \u001b[0;34m=\u001b[0m \u001b[0msampling_percent\u001b[0m\u001b[0;34m,\u001b[0m \u001b[0mnum_runs\u001b[0m \u001b[0;34m=\u001b[0m \u001b[0mnum_runs\u001b[0m\u001b[0;34m)\u001b[0m\u001b[0;34m\u001b[0m\u001b[0;34m\u001b[0m\u001b[0m\n\u001b[0m\u001b[1;32m     30\u001b[0m \u001b[0;34m\u001b[0m\u001b[0m\n\u001b[1;32m     31\u001b[0m         \u001b[0;32mfor\u001b[0m \u001b[0mi\u001b[0m \u001b[0;32min\u001b[0m \u001b[0mrange\u001b[0m\u001b[0;34m(\u001b[0m\u001b[0mlen\u001b[0m\u001b[0;34m(\u001b[0m\u001b[0maccuracies\u001b[0m\u001b[0;34m)\u001b[0m\u001b[0;34m)\u001b[0m\u001b[0;34m:\u001b[0m\u001b[0;34m\u001b[0m\u001b[0;34m\u001b[0m\u001b[0m\n",
      "\u001b[0;32m/data/ddmg/prism/tta/work/helenl/tta_research/helenl_utils.py\u001b[0m in \u001b[0;36mcalculate_accuracy\u001b[0;34m(prediction_file, sampling_percent, num_runs)\u001b[0m\n\u001b[1;32m    384\u001b[0m \u001b[0;34m\u001b[0m\u001b[0m\n\u001b[1;32m    385\u001b[0m \u001b[0;34m\u001b[0m\u001b[0m\n\u001b[0;32m--> 386\u001b[0;31m         \u001b[0mrand_logit_predictions\u001b[0m \u001b[0;34m=\u001b[0m \u001b[0mnp\u001b[0m\u001b[0;34m.\u001b[0m\u001b[0mtake\u001b[0m\u001b[0;34m(\u001b[0m\u001b[0mlogit_predictions\u001b[0m\u001b[0;34m,\u001b[0m \u001b[0mrandom_indices\u001b[0m\u001b[0;34m,\u001b[0m \u001b[0maxis\u001b[0m \u001b[0;34m=\u001b[0m \u001b[0;36m0\u001b[0m\u001b[0;34m)\u001b[0m\u001b[0;34m\u001b[0m\u001b[0;34m\u001b[0m\u001b[0m\n\u001b[0m\u001b[1;32m    387\u001b[0m         \u001b[0mmatching_labels\u001b[0m \u001b[0;34m=\u001b[0m \u001b[0mnp\u001b[0m\u001b[0;34m.\u001b[0m\u001b[0mtake\u001b[0m\u001b[0;34m(\u001b[0m\u001b[0mlabels\u001b[0m\u001b[0;34m,\u001b[0m \u001b[0mrandom_indices\u001b[0m\u001b[0;34m)\u001b[0m\u001b[0;34m\u001b[0m\u001b[0;34m\u001b[0m\u001b[0m\n\u001b[1;32m    388\u001b[0m         \u001b[0;31m#print(\"labels_length\", len(matching_labels))\u001b[0m\u001b[0;34m\u001b[0m\u001b[0;34m\u001b[0m\u001b[0;34m\u001b[0m\u001b[0m\n",
      "\u001b[0;32m<__array_function__ internals>\u001b[0m in \u001b[0;36mtake\u001b[0;34m(*args, **kwargs)\u001b[0m\n",
      "\u001b[0;32m/local/helenl/.conda/envs/tta/lib/python3.6/site-packages/numpy/core/fromnumeric.py\u001b[0m in \u001b[0;36mtake\u001b[0;34m(a, indices, axis, out, mode)\u001b[0m\n\u001b[1;32m    189\u001b[0m            [5, 7]])\n\u001b[1;32m    190\u001b[0m     \"\"\"\n\u001b[0;32m--> 191\u001b[0;31m     \u001b[0;32mreturn\u001b[0m \u001b[0m_wrapfunc\u001b[0m\u001b[0;34m(\u001b[0m\u001b[0ma\u001b[0m\u001b[0;34m,\u001b[0m \u001b[0;34m'take'\u001b[0m\u001b[0;34m,\u001b[0m \u001b[0mindices\u001b[0m\u001b[0;34m,\u001b[0m \u001b[0maxis\u001b[0m\u001b[0;34m=\u001b[0m\u001b[0maxis\u001b[0m\u001b[0;34m,\u001b[0m \u001b[0mout\u001b[0m\u001b[0;34m=\u001b[0m\u001b[0mout\u001b[0m\u001b[0;34m,\u001b[0m \u001b[0mmode\u001b[0m\u001b[0;34m=\u001b[0m\u001b[0mmode\u001b[0m\u001b[0;34m)\u001b[0m\u001b[0;34m\u001b[0m\u001b[0;34m\u001b[0m\u001b[0m\n\u001b[0m\u001b[1;32m    192\u001b[0m \u001b[0;34m\u001b[0m\u001b[0m\n\u001b[1;32m    193\u001b[0m \u001b[0;34m\u001b[0m\u001b[0m\n",
      "\u001b[0;32m/local/helenl/.conda/envs/tta/lib/python3.6/site-packages/numpy/core/fromnumeric.py\u001b[0m in \u001b[0;36m_wrapfunc\u001b[0;34m(obj, method, *args, **kwds)\u001b[0m\n\u001b[1;32m     56\u001b[0m \u001b[0;34m\u001b[0m\u001b[0m\n\u001b[1;32m     57\u001b[0m     \u001b[0;32mtry\u001b[0m\u001b[0;34m:\u001b[0m\u001b[0;34m\u001b[0m\u001b[0;34m\u001b[0m\u001b[0m\n\u001b[0;32m---> 58\u001b[0;31m         \u001b[0;32mreturn\u001b[0m \u001b[0mbound\u001b[0m\u001b[0;34m(\u001b[0m\u001b[0;34m*\u001b[0m\u001b[0margs\u001b[0m\u001b[0;34m,\u001b[0m \u001b[0;34m**\u001b[0m\u001b[0mkwds\u001b[0m\u001b[0;34m)\u001b[0m\u001b[0;34m\u001b[0m\u001b[0;34m\u001b[0m\u001b[0m\n\u001b[0m\u001b[1;32m     59\u001b[0m     \u001b[0;32mexcept\u001b[0m \u001b[0mTypeError\u001b[0m\u001b[0;34m:\u001b[0m\u001b[0;34m\u001b[0m\u001b[0;34m\u001b[0m\u001b[0m\n\u001b[1;32m     60\u001b[0m         \u001b[0;31m# A TypeError occurs if the object does have such a method in its\u001b[0m\u001b[0;34m\u001b[0m\u001b[0;34m\u001b[0m\u001b[0;34m\u001b[0m\u001b[0m\n",
      "\u001b[0;31mKeyboardInterrupt\u001b[0m: "
     ]
    }
   ],
   "source": [
    "selected_multi_aug_multi_sample_ids = ['359',\n",
    " '360',\n",
    " '361',\n",
    " '362',\n",
    " '363',\n",
    " '364',\n",
    " '381',\n",
    " '382',\n",
    " '383',\n",
    " '384',\n",
    " '696',\n",
    " '697',\n",
    " '698',\n",
    " '699',\n",
    " '714']\n",
    "\n",
    "aug_file_paths = []\n",
    "directory = OUTPUT_PATH + \"civilcomments_ERM_predictions_optimized_params_four_samples/multi_aug/averaged_with_bert/\"\n",
    "\n",
    "for aug in selected_multi_aug_multi_sample_ids:\n",
    "    if aug in selected_multi_aug_multi_sample_ids:\n",
    "        file_path = directory + aug + \".npy\"\n",
    "        aug_file_paths.append(file_path)\n",
    "    \n",
    "aug_file_paths.append(bert_path)\n",
    "\n",
    "\n",
    "multi_multi_df = create_accuracy_graph(aug_file_paths, axs_4[0], plot_type = \"box\", title = \"Word-based\", plot_delta = True)\n",
    "\n"
   ]
  },
  {
   "cell_type": "code",
   "execution_count": 49,
   "metadata": {},
   "outputs": [],
   "source": [
    "plt.show()"
   ]
  },
  {
   "cell_type": "code",
   "execution_count": null,
   "metadata": {},
   "outputs": [],
   "source": []
  },
  {
   "cell_type": "markdown",
   "metadata": {},
   "source": [
    "## FIGURE 5: SINGLE-SAMPLE, SINGLE-AUGMENTATION (CIVILCOMMENTS)"
   ]
  },
  {
   "cell_type": "code",
   "execution_count": 7,
   "metadata": {},
   "outputs": [
    {
     "name": "stdout",
     "output_type": "stream",
     "text": [
      "nlp_ocr\n"
     ]
    },
    {
     "data": {
      "application/vnd.jupyter.widget-view+json": {
       "model_id": "608ae779521645f3b4af92c344faafda",
       "version_major": 2,
       "version_minor": 0
      },
      "text/plain": [
       "  0%|          | 0/10 [00:00<?, ?it/s]"
      ]
     },
     "metadata": {},
     "output_type": "display_data"
    },
    {
     "name": "stdout",
     "output_type": "stream",
     "text": [
      "nlp_keyboard\n"
     ]
    },
    {
     "data": {
      "application/vnd.jupyter.widget-view+json": {
       "model_id": "f4df9659a379421981937a7265ee9375",
       "version_major": 2,
       "version_minor": 0
      },
      "text/plain": [
       "  0%|          | 0/10 [00:00<?, ?it/s]"
      ]
     },
     "metadata": {},
     "output_type": "display_data"
    },
    {
     "name": "stdout",
     "output_type": "stream",
     "text": [
      "nlp_random_char_insert\n"
     ]
    },
    {
     "data": {
      "application/vnd.jupyter.widget-view+json": {
       "model_id": "9b6d279e8fa14ec083306ccbb7dc8d14",
       "version_major": 2,
       "version_minor": 0
      },
      "text/plain": [
       "  0%|          | 0/10 [00:00<?, ?it/s]"
      ]
     },
     "metadata": {},
     "output_type": "display_data"
    },
    {
     "name": "stdout",
     "output_type": "stream",
     "text": [
      "nlp_random_char_substitution\n"
     ]
    },
    {
     "data": {
      "application/vnd.jupyter.widget-view+json": {
       "model_id": "acf5b2e49bdb4ac19d7f1550c06e38b6",
       "version_major": 2,
       "version_minor": 0
      },
      "text/plain": [
       "  0%|          | 0/10 [00:00<?, ?it/s]"
      ]
     },
     "metadata": {},
     "output_type": "display_data"
    },
    {
     "name": "stdout",
     "output_type": "stream",
     "text": [
      "nlp_random_char_swap\n"
     ]
    },
    {
     "data": {
      "application/vnd.jupyter.widget-view+json": {
       "model_id": "7e3fcf9c4cc5471fa9d777442ba61f63",
       "version_major": 2,
       "version_minor": 0
      },
      "text/plain": [
       "  0%|          | 0/10 [00:00<?, ?it/s]"
      ]
     },
     "metadata": {},
     "output_type": "display_data"
    },
    {
     "name": "stdout",
     "output_type": "stream",
     "text": [
      "nlp_random_char_deletion\n"
     ]
    },
    {
     "data": {
      "application/vnd.jupyter.widget-view+json": {
       "model_id": "8af0545bbcc949c79c7b5345e6a8ce43",
       "version_major": 2,
       "version_minor": 0
      },
      "text/plain": [
       "  0%|          | 0/10 [00:00<?, ?it/s]"
      ]
     },
     "metadata": {},
     "output_type": "display_data"
    },
    {
     "name": "stdout",
     "output_type": "stream",
     "text": [
      "nlp_random_word_swap\n"
     ]
    },
    {
     "data": {
      "application/vnd.jupyter.widget-view+json": {
       "model_id": "9b486e0c51fd4ec0b300d870516a5a61",
       "version_major": 2,
       "version_minor": 0
      },
      "text/plain": [
       "  0%|          | 0/10 [00:00<?, ?it/s]"
      ]
     },
     "metadata": {},
     "output_type": "display_data"
    },
    {
     "name": "stdout",
     "output_type": "stream",
     "text": [
      "nlp_random_word_delete\n"
     ]
    },
    {
     "data": {
      "application/vnd.jupyter.widget-view+json": {
       "model_id": "4e9863bbd9bf4d26ad6f338d3a6bc03b",
       "version_major": 2,
       "version_minor": 0
      },
      "text/plain": [
       "  0%|          | 0/10 [00:00<?, ?it/s]"
      ]
     },
     "metadata": {},
     "output_type": "display_data"
    },
    {
     "name": "stdout",
     "output_type": "stream",
     "text": [
      "nlp_wordnet_synonym\n"
     ]
    },
    {
     "data": {
      "application/vnd.jupyter.widget-view+json": {
       "model_id": "a692c955bdc046e59f24ebe48ce83eb7",
       "version_major": 2,
       "version_minor": 0
      },
      "text/plain": [
       "  0%|          | 0/10 [00:00<?, ?it/s]"
      ]
     },
     "metadata": {},
     "output_type": "display_data"
    },
    {
     "name": "stdout",
     "output_type": "stream",
     "text": [
      "nlp_ppdb_synonym\n"
     ]
    },
    {
     "data": {
      "application/vnd.jupyter.widget-view+json": {
       "model_id": "22fbe20295844dcdab0b00b9a2bcb3f0",
       "version_major": 2,
       "version_minor": 0
      },
      "text/plain": [
       "  0%|          | 0/10 [00:00<?, ?it/s]"
      ]
     },
     "metadata": {},
     "output_type": "display_data"
    },
    {
     "name": "stdout",
     "output_type": "stream",
     "text": [
      "nlp_antonym\n"
     ]
    },
    {
     "data": {
      "application/vnd.jupyter.widget-view+json": {
       "model_id": "136f7bbaa8b4489b96c7819d7b6c70e7",
       "version_major": 2,
       "version_minor": 0
      },
      "text/plain": [
       "  0%|          | 0/10 [00:00<?, ?it/s]"
      ]
     },
     "metadata": {},
     "output_type": "display_data"
    },
    {
     "name": "stdout",
     "output_type": "stream",
     "text": [
      "nlp_random_token_split\n"
     ]
    },
    {
     "data": {
      "application/vnd.jupyter.widget-view+json": {
       "model_id": "a12713407d984220bf70bd3753aae337",
       "version_major": 2,
       "version_minor": 0
      },
      "text/plain": [
       "  0%|          | 0/10 [00:00<?, ?it/s]"
      ]
     },
     "metadata": {},
     "output_type": "display_data"
    },
    {
     "name": "stdout",
     "output_type": "stream",
     "text": [
      "nlp_spelling_substitution\n"
     ]
    },
    {
     "data": {
      "application/vnd.jupyter.widget-view+json": {
       "model_id": "443a676d7a544223951a490d71769ebb",
       "version_major": 2,
       "version_minor": 0
      },
      "text/plain": [
       "  0%|          | 0/10 [00:00<?, ?it/s]"
      ]
     },
     "metadata": {},
     "output_type": "display_data"
    },
    {
     "name": "stdout",
     "output_type": "stream",
     "text": [
      "nlp_random_contextual_word_insertion_distilroberta_base_embedding\n"
     ]
    },
    {
     "data": {
      "application/vnd.jupyter.widget-view+json": {
       "model_id": "3219f948ef614122a5ab959b62ac4f16",
       "version_major": 2,
       "version_minor": 0
      },
      "text/plain": [
       "  0%|          | 0/10 [00:00<?, ?it/s]"
      ]
     },
     "metadata": {},
     "output_type": "display_data"
    },
    {
     "name": "stdout",
     "output_type": "stream",
     "text": [
      "nlp_random_contextual_word_substitution_squeezebert_uncased_embedding\n"
     ]
    },
    {
     "data": {
      "application/vnd.jupyter.widget-view+json": {
       "model_id": "f8ab449c06d74fbcbe3d4e4ad9e4a068",
       "version_major": 2,
       "version_minor": 0
      },
      "text/plain": [
       "  0%|          | 0/10 [00:00<?, ?it/s]"
      ]
     },
     "metadata": {},
     "output_type": "display_data"
    },
    {
     "name": "stdout",
     "output_type": "stream",
     "text": [
      "bert\n"
     ]
    },
    {
     "data": {
      "application/vnd.jupyter.widget-view+json": {
       "model_id": "126ce3289bc740459dfded79c7859221",
       "version_major": 2,
       "version_minor": 0
      },
      "text/plain": [
       "  0%|          | 0/10 [00:00<?, ?it/s]"
      ]
     },
     "metadata": {},
     "output_type": "display_data"
    }
   ],
   "source": [
    "all_aug_file_paths = []\n",
    "\n",
    "all_augs = all_char_augmentations + all_word_augmentations[:9]\n",
    "\n",
    "for aug in all_augs:\n",
    "    file_path = OUTPUT_PATH + \"civilcomments_ERM_predictions_optimized_params/with_bert/\" + aug + \".npy\"\n",
    "    all_aug_file_paths.append(file_path)\n",
    "    \n",
    "bert_path = OUTPUT_PATH + \"civilcomments_ERM_predictions/bert.npy\"\n",
    "all_aug_file_paths.append(bert_path)\n",
    "\n",
    "aug_to_acc = []\n",
    "\n",
    "for file_name in all_aug_file_paths:\n",
    "\n",
    "    augmentation_name = file_name.split('/')[-1].split('.')[0]\n",
    "    print(augmentation_name)\n",
    "    accuracies = calculate_accuracy(file_name, sampling_percent = 0.8, num_runs = 10)\n",
    "\n",
    "    for i in range(len(accuracies)):\n",
    "        accuracy = accuracies[i]\n",
    "        aug_dict = {\"augmentation\":augmentation_name, \"accuracy\": accuracy, \"batch_num\": i}\n",
    "\n",
    "        aug_to_acc.append(aug_dict)\n",
    "\n",
    "    \n",
    "acc_df = pd.DataFrame(aug_to_acc).sort_values('accuracy', ascending = False)\n",
    "#print(acc_df)\n",
    "    \n",
    "threshhold_value = acc_df.loc[(acc_df[\"augmentation\"] == \"bert\")][\"accuracy\"].mean()\n",
    "\n",
    "filtered_acc_df = acc_df\n",
    "filtered_acc_df[\"delta\"] = filtered_acc_df[\"accuracy\"] - threshhold_value"
   ]
  },
  {
   "cell_type": "code",
   "execution_count": 25,
   "metadata": {},
   "outputs": [
    {
     "data": {
      "image/png": "[encoded data removed]",
      "text/plain": [
       "<Figure size 432x288 with 1 Axes>"
      ]
     },
     "metadata": {},
     "output_type": "display_data"
    }
   ],
   "source": [
    "fig, axs = plt.subplots()\n",
    "p = sns.boxplot(ax = axs, x = 'augmentation', y = \"delta\", data = filtered_acc_df)\n",
    "\n",
    "axs.set_ylim(-0.01, 0.01)\n",
    "axs.set_xticklabels(axs.get_xticklabels(), rotation=90, ha='right')\n",
    "axs.set_ylabel(\"change in accuracy\")\n",
    "axs.set_xlabel(\"augmentation transform in policy\")\n",
    "\n",
    "new_labels = []\n",
    "\n",
    "for label in axs.get_xticklabels():\n",
    "    new_label = abbreviated_mapping[label.get_text()]\n",
    "    new_labels.append(new_label)\n",
    "\n",
    "axs.set_xticklabels(new_labels)\n",
    "\n",
    "x_ticks = axs.get_xticklabels()\n",
    "for i in range(len(x_ticks)):\n",
    "    if (i < 8):\n",
    "        if x_ticks[i].get_text() != \"baseline\":\n",
    "            x_ticks[i].set_color(\"red\")\n",
    "            \n",
    "    else:\n",
    "        x_ticks[i].set_color(\"blue\")\n",
    "\n",
    "\n",
    "axs.set_title(\"Change in accuracy using single-sample, single-augmentation configuration\")\n",
    "\n",
    "format_plot()\n",
    "\n",
    "#fig.suptitle(title)\n",
    "plt.savefig(\"single-single-PDF.pdf\", format = \"pdf\", bbox_inches = \"tight\")\n",
    "plt.show()\n",
    "\n"
   ]
  },
  {
   "cell_type": "code",
   "execution_count": 21,
   "metadata": {},
   "outputs": [
    {
     "name": "stdout",
     "output_type": "stream",
     "text": [
      "nlp_ocr\n"
     ]
    },
    {
     "data": {
      "application/vnd.jupyter.widget-view+json": {
       "model_id": "54f78e72e36d468d9d5637baa761e97c",
       "version_major": 2,
       "version_minor": 0
      },
      "text/plain": [
       "  0%|          | 0/10 [00:00<?, ?it/s]"
      ]
     },
     "metadata": {},
     "output_type": "display_data"
    },
    {
     "name": "stdout",
     "output_type": "stream",
     "text": [
      "nlp_keyboard\n"
     ]
    },
    {
     "data": {
      "application/vnd.jupyter.widget-view+json": {
       "model_id": "4cf863b5258e4e6db2f5c1fa97c85568",
       "version_major": 2,
       "version_minor": 0
      },
      "text/plain": [
       "  0%|          | 0/10 [00:00<?, ?it/s]"
      ]
     },
     "metadata": {},
     "output_type": "display_data"
    },
    {
     "name": "stdout",
     "output_type": "stream",
     "text": [
      "nlp_random_char_insert\n"
     ]
    },
    {
     "data": {
      "application/vnd.jupyter.widget-view+json": {
       "model_id": "b44f8a77a32045bfa5c992fc44788fd6",
       "version_major": 2,
       "version_minor": 0
      },
      "text/plain": [
       "  0%|          | 0/10 [00:00<?, ?it/s]"
      ]
     },
     "metadata": {},
     "output_type": "display_data"
    },
    {
     "name": "stdout",
     "output_type": "stream",
     "text": [
      "nlp_random_char_substitution\n"
     ]
    },
    {
     "data": {
      "application/vnd.jupyter.widget-view+json": {
       "model_id": "e3e2b6b92e624b188f97b988748cd4b5",
       "version_major": 2,
       "version_minor": 0
      },
      "text/plain": [
       "  0%|          | 0/10 [00:00<?, ?it/s]"
      ]
     },
     "metadata": {},
     "output_type": "display_data"
    },
    {
     "name": "stdout",
     "output_type": "stream",
     "text": [
      "nlp_random_char_swap\n"
     ]
    },
    {
     "data": {
      "application/vnd.jupyter.widget-view+json": {
       "model_id": "665a035460f0449c8450b19b87d31ed9",
       "version_major": 2,
       "version_minor": 0
      },
      "text/plain": [
       "  0%|          | 0/10 [00:00<?, ?it/s]"
      ]
     },
     "metadata": {},
     "output_type": "display_data"
    },
    {
     "name": "stdout",
     "output_type": "stream",
     "text": [
      "nlp_random_char_deletion\n"
     ]
    },
    {
     "data": {
      "application/vnd.jupyter.widget-view+json": {
       "model_id": "a8be73b668a840baaa155f33cdfe3d59",
       "version_major": 2,
       "version_minor": 0
      },
      "text/plain": [
       "  0%|          | 0/10 [00:00<?, ?it/s]"
      ]
     },
     "metadata": {},
     "output_type": "display_data"
    },
    {
     "name": "stdout",
     "output_type": "stream",
     "text": [
      "bert\n"
     ]
    },
    {
     "data": {
      "application/vnd.jupyter.widget-view+json": {
       "model_id": "c510ec6e8aa2424599397f4d38a6e4c9",
       "version_major": 2,
       "version_minor": 0
      },
      "text/plain": [
       "  0%|          | 0/10 [00:00<?, ?it/s]"
      ]
     },
     "metadata": {},
     "output_type": "display_data"
    },
    {
     "data": {
      "image/png": "[encoded data removed]",
      "text/plain": [
       "<Figure size 432x288 with 1 Axes>"
      ]
     },
     "metadata": {},
     "output_type": "display_data"
    },
    {
     "data": {
      "text/html": [
       "<div>\n",
       "<style scoped>\n",
       "    .dataframe tbody tr th:only-of-type {\n",
       "        vertical-align: middle;\n",
       "    }\n",
       "\n",
       "    .dataframe tbody tr th {\n",
       "        vertical-align: top;\n",
       "    }\n",
       "\n",
       "    .dataframe thead th {\n",
       "        text-align: right;\n",
       "    }\n",
       "</style>\n",
       "<table border=\"1\" class=\"dataframe\">\n",
       "  <thead>\n",
       "    <tr style=\"text-align: right;\">\n",
       "      <th></th>\n",
       "      <th>augmentation</th>\n",
       "      <th>accuracy</th>\n",
       "      <th>batch_num</th>\n",
       "    </tr>\n",
       "  </thead>\n",
       "  <tbody>\n",
       "    <tr>\n",
       "      <th>63</th>\n",
       "      <td>bert</td>\n",
       "      <td>0.927054</td>\n",
       "      <td>3</td>\n",
       "    </tr>\n",
       "    <tr>\n",
       "      <th>67</th>\n",
       "      <td>bert</td>\n",
       "      <td>0.926989</td>\n",
       "      <td>7</td>\n",
       "    </tr>\n",
       "    <tr>\n",
       "      <th>61</th>\n",
       "      <td>bert</td>\n",
       "      <td>0.926821</td>\n",
       "      <td>1</td>\n",
       "    </tr>\n",
       "    <tr>\n",
       "      <th>65</th>\n",
       "      <td>bert</td>\n",
       "      <td>0.926783</td>\n",
       "      <td>5</td>\n",
       "    </tr>\n",
       "    <tr>\n",
       "      <th>62</th>\n",
       "      <td>bert</td>\n",
       "      <td>0.926718</td>\n",
       "      <td>2</td>\n",
       "    </tr>\n",
       "    <tr>\n",
       "      <th>...</th>\n",
       "      <td>...</td>\n",
       "      <td>...</td>\n",
       "      <td>...</td>\n",
       "    </tr>\n",
       "    <tr>\n",
       "      <th>29</th>\n",
       "      <td>nlp_random_char_insert</td>\n",
       "      <td>0.924765</td>\n",
       "      <td>9</td>\n",
       "    </tr>\n",
       "    <tr>\n",
       "      <th>54</th>\n",
       "      <td>nlp_random_char_deletion</td>\n",
       "      <td>0.924737</td>\n",
       "      <td>4</td>\n",
       "    </tr>\n",
       "    <tr>\n",
       "      <th>26</th>\n",
       "      <td>nlp_random_char_insert</td>\n",
       "      <td>0.924672</td>\n",
       "      <td>6</td>\n",
       "    </tr>\n",
       "    <tr>\n",
       "      <th>58</th>\n",
       "      <td>nlp_random_char_deletion</td>\n",
       "      <td>0.924616</td>\n",
       "      <td>8</td>\n",
       "    </tr>\n",
       "    <tr>\n",
       "      <th>59</th>\n",
       "      <td>nlp_random_char_deletion</td>\n",
       "      <td>0.924588</td>\n",
       "      <td>9</td>\n",
       "    </tr>\n",
       "  </tbody>\n",
       "</table>\n",
       "<p>70 rows × 3 columns</p>\n",
       "</div>"
      ],
      "text/plain": [
       "                augmentation  accuracy  batch_num\n",
       "63                      bert  0.927054          3\n",
       "67                      bert  0.926989          7\n",
       "61                      bert  0.926821          1\n",
       "65                      bert  0.926783          5\n",
       "62                      bert  0.926718          2\n",
       "..                       ...       ...        ...\n",
       "29    nlp_random_char_insert  0.924765          9\n",
       "54  nlp_random_char_deletion  0.924737          4\n",
       "26    nlp_random_char_insert  0.924672          6\n",
       "58  nlp_random_char_deletion  0.924616          8\n",
       "59  nlp_random_char_deletion  0.924588          9\n",
       "\n",
       "[70 rows x 3 columns]"
      ]
     },
     "execution_count": 21,
     "metadata": {},
     "output_type": "execute_result"
    }
   ],
   "source": [
    "\n",
    "\n",
    "char_aug_file_paths = []\n",
    "\n",
    "for char_aug in all_char_augmentations:\n",
    "    file_path = OUTPUT_PATH + \"civilcomments_ERM_predictions_optimized_params/with_bert/\" + char_aug + \".npy\"\n",
    "    char_aug_file_paths.append(file_path)\n",
    "    \n",
    "bert_path = OUTPUT_PATH + \"civilcomments_ERM_predictions/bert.npy\"\n",
    "char_aug_file_paths.append(bert_path)\n",
    "    \n",
    "create_accuracy_graph(char_aug_file_paths\n",
    "                     , plot_type = 'box'\n",
    "                     , title = \"Character-based\"\n",
    "                     , plot_delta = True\n",
    "                     , )"
   ]
  },
  {
   "cell_type": "code",
   "execution_count": 28,
   "metadata": {
    "scrolled": false
   },
   "outputs": [
    {
     "name": "stdout",
     "output_type": "stream",
     "text": [
      "nlp_random_word_swap\n"
     ]
    },
    {
     "data": {
      "application/vnd.jupyter.widget-view+json": {
       "model_id": "42e67777259c43e9a40a728170e6497d",
       "version_major": 2,
       "version_minor": 0
      },
      "text/plain": [
       "  0%|          | 0/10 [00:00<?, ?it/s]"
      ]
     },
     "metadata": {},
     "output_type": "display_data"
    },
    {
     "name": "stdout",
     "output_type": "stream",
     "text": [
      "nlp_random_word_delete\n"
     ]
    },
    {
     "data": {
      "application/vnd.jupyter.widget-view+json": {
       "model_id": "009429e2c26344218c0f52df827a535c",
       "version_major": 2,
       "version_minor": 0
      },
      "text/plain": [
       "  0%|          | 0/10 [00:00<?, ?it/s]"
      ]
     },
     "metadata": {},
     "output_type": "display_data"
    },
    {
     "name": "stdout",
     "output_type": "stream",
     "text": [
      "nlp_wordnet_synonym\n"
     ]
    },
    {
     "data": {
      "application/vnd.jupyter.widget-view+json": {
       "model_id": "900fabce48e14a34b50b270951232983",
       "version_major": 2,
       "version_minor": 0
      },
      "text/plain": [
       "  0%|          | 0/10 [00:00<?, ?it/s]"
      ]
     },
     "metadata": {},
     "output_type": "display_data"
    },
    {
     "name": "stdout",
     "output_type": "stream",
     "text": [
      "nlp_ppdb_synonym\n"
     ]
    },
    {
     "data": {
      "application/vnd.jupyter.widget-view+json": {
       "model_id": "5c9c2a1cb4e54ae982df930dfe65a3b2",
       "version_major": 2,
       "version_minor": 0
      },
      "text/plain": [
       "  0%|          | 0/10 [00:00<?, ?it/s]"
      ]
     },
     "metadata": {},
     "output_type": "display_data"
    },
    {
     "name": "stdout",
     "output_type": "stream",
     "text": [
      "nlp_antonym\n"
     ]
    },
    {
     "data": {
      "application/vnd.jupyter.widget-view+json": {
       "model_id": "f9316dd7c17b44ee85070c68ec81e54b",
       "version_major": 2,
       "version_minor": 0
      },
      "text/plain": [
       "  0%|          | 0/10 [00:00<?, ?it/s]"
      ]
     },
     "metadata": {},
     "output_type": "display_data"
    },
    {
     "name": "stdout",
     "output_type": "stream",
     "text": [
      "nlp_spelling_substitution\n"
     ]
    },
    {
     "data": {
      "application/vnd.jupyter.widget-view+json": {
       "model_id": "15262e14dffa443c8ce3d7dd8bd9db8b",
       "version_major": 2,
       "version_minor": 0
      },
      "text/plain": [
       "  0%|          | 0/10 [00:00<?, ?it/s]"
      ]
     },
     "metadata": {},
     "output_type": "display_data"
    },
    {
     "name": "stdout",
     "output_type": "stream",
     "text": [
      "nlp_random_contextual_word_insertion_bert_uncased_embedding\n"
     ]
    },
    {
     "data": {
      "application/vnd.jupyter.widget-view+json": {
       "model_id": "ea2a0e3653d140ff82a489f0df23600c",
       "version_major": 2,
       "version_minor": 0
      },
      "text/plain": [
       "  0%|          | 0/10 [00:00<?, ?it/s]"
      ]
     },
     "metadata": {},
     "output_type": "display_data"
    },
    {
     "name": "stdout",
     "output_type": "stream",
     "text": [
      "nlp_random_contextual_word_insertion_bert_cased_embedding\n"
     ]
    },
    {
     "data": {
      "application/vnd.jupyter.widget-view+json": {
       "model_id": "d8a66d7a35874a63947d6592051ba9a8",
       "version_major": 2,
       "version_minor": 0
      },
      "text/plain": [
       "  0%|          | 0/10 [00:00<?, ?it/s]"
      ]
     },
     "metadata": {},
     "output_type": "display_data"
    },
    {
     "name": "stdout",
     "output_type": "stream",
     "text": [
      "nlp_random_contextual_word_insertion_distilbert_uncased_embedding\n"
     ]
    },
    {
     "data": {
      "application/vnd.jupyter.widget-view+json": {
       "model_id": "7809dd138b4545f1b70ceb5d118ba5e8",
       "version_major": 2,
       "version_minor": 0
      },
      "text/plain": [
       "  0%|          | 0/10 [00:00<?, ?it/s]"
      ]
     },
     "metadata": {},
     "output_type": "display_data"
    },
    {
     "name": "stdout",
     "output_type": "stream",
     "text": [
      "nlp_random_contextual_word_insertion_distilbert_cased_embedding\n"
     ]
    },
    {
     "data": {
      "application/vnd.jupyter.widget-view+json": {
       "model_id": "c109cb9628734019b9186c62f53c3bdc",
       "version_major": 2,
       "version_minor": 0
      },
      "text/plain": [
       "  0%|          | 0/10 [00:00<?, ?it/s]"
      ]
     },
     "metadata": {},
     "output_type": "display_data"
    },
    {
     "name": "stdout",
     "output_type": "stream",
     "text": [
      "nlp_random_contextual_word_insertion_roberta_base_embedding\n"
     ]
    },
    {
     "data": {
      "application/vnd.jupyter.widget-view+json": {
       "model_id": "8c643d22359b43f8a799898066c0987c",
       "version_major": 2,
       "version_minor": 0
      },
      "text/plain": [
       "  0%|          | 0/10 [00:00<?, ?it/s]"
      ]
     },
     "metadata": {},
     "output_type": "display_data"
    },
    {
     "name": "stdout",
     "output_type": "stream",
     "text": [
      "nlp_random_contextual_word_insertion_distilroberta_base_embedding\n"
     ]
    },
    {
     "data": {
      "application/vnd.jupyter.widget-view+json": {
       "model_id": "5828f30a31c042aeb7cf4138df041c86",
       "version_major": 2,
       "version_minor": 0
      },
      "text/plain": [
       "  0%|          | 0/10 [00:00<?, ?it/s]"
      ]
     },
     "metadata": {},
     "output_type": "display_data"
    },
    {
     "name": "stdout",
     "output_type": "stream",
     "text": [
      "nlp_random_contextual_word_insertion_bart_base_embedding\n"
     ]
    },
    {
     "data": {
      "application/vnd.jupyter.widget-view+json": {
       "model_id": "375db47feccf44adac30e8efe6a3225f",
       "version_major": 2,
       "version_minor": 0
      },
      "text/plain": [
       "  0%|          | 0/10 [00:00<?, ?it/s]"
      ]
     },
     "metadata": {},
     "output_type": "display_data"
    },
    {
     "name": "stdout",
     "output_type": "stream",
     "text": [
      "nlp_random_contextual_word_insertion_squeezebert_uncased_embedding\n"
     ]
    },
    {
     "data": {
      "application/vnd.jupyter.widget-view+json": {
       "model_id": "6ecb6a529a6f48718885701a782299ba",
       "version_major": 2,
       "version_minor": 0
      },
      "text/plain": [
       "  0%|          | 0/10 [00:00<?, ?it/s]"
      ]
     },
     "metadata": {},
     "output_type": "display_data"
    },
    {
     "name": "stdout",
     "output_type": "stream",
     "text": [
      "nlp_random_contextual_word_substitution_bert_uncased_embedding\n"
     ]
    },
    {
     "data": {
      "application/vnd.jupyter.widget-view+json": {
       "model_id": "3ccf990a4f4c4e6a870991365a434dab",
       "version_major": 2,
       "version_minor": 0
      },
      "text/plain": [
       "  0%|          | 0/10 [00:00<?, ?it/s]"
      ]
     },
     "metadata": {},
     "output_type": "display_data"
    },
    {
     "name": "stdout",
     "output_type": "stream",
     "text": [
      "nlp_random_contextual_word_substitution_bert_cased_embedding\n"
     ]
    },
    {
     "data": {
      "application/vnd.jupyter.widget-view+json": {
       "model_id": "d7f0ee7419af419291c5c6a1b90c2351",
       "version_major": 2,
       "version_minor": 0
      },
      "text/plain": [
       "  0%|          | 0/10 [00:00<?, ?it/s]"
      ]
     },
     "metadata": {},
     "output_type": "display_data"
    },
    {
     "ename": "KeyboardInterrupt",
     "evalue": "",
     "output_type": "error",
     "traceback": [
      "\u001b[0;31m---------------------------------------------------------------------------\u001b[0m",
      "\u001b[0;31mKeyboardInterrupt\u001b[0m                         Traceback (most recent call last)",
      "\u001b[0;32m<ipython-input-28-3b0db7067ded>\u001b[0m in \u001b[0;36m<module>\u001b[0;34m\u001b[0m\n\u001b[1;32m     11\u001b[0m                      \u001b[0;34m,\u001b[0m \u001b[0mplot_type\u001b[0m \u001b[0;34m=\u001b[0m \u001b[0;34m'bar'\u001b[0m\u001b[0;34m\u001b[0m\u001b[0;34m\u001b[0m\u001b[0m\n\u001b[1;32m     12\u001b[0m                      \u001b[0;34m,\u001b[0m \u001b[0mtitle\u001b[0m \u001b[0;34m=\u001b[0m \u001b[0;34m\"Word-based\"\u001b[0m\u001b[0;34m\u001b[0m\u001b[0;34m\u001b[0m\u001b[0m\n\u001b[0;32m---> 13\u001b[0;31m                      , apply_threshhold = True)\n\u001b[0m",
      "\u001b[0;32m<ipython-input-3-a0931fdb9b84>\u001b[0m in \u001b[0;36mcreate_accuracy_graph\u001b[0;34m(augmentation_file_paths, plot_type, title, sampling_percent, num_runs, plot, apply_threshhold)\u001b[0m\n\u001b[1;32m     25\u001b[0m         \u001b[0maugmentation_name\u001b[0m \u001b[0;34m=\u001b[0m \u001b[0mfile_name\u001b[0m\u001b[0;34m.\u001b[0m\u001b[0msplit\u001b[0m\u001b[0;34m(\u001b[0m\u001b[0;34m'/'\u001b[0m\u001b[0;34m)\u001b[0m\u001b[0;34m[\u001b[0m\u001b[0;34m-\u001b[0m\u001b[0;36m1\u001b[0m\u001b[0;34m]\u001b[0m\u001b[0;34m.\u001b[0m\u001b[0msplit\u001b[0m\u001b[0;34m(\u001b[0m\u001b[0;34m'.'\u001b[0m\u001b[0;34m)\u001b[0m\u001b[0;34m[\u001b[0m\u001b[0;36m0\u001b[0m\u001b[0;34m]\u001b[0m\u001b[0;34m\u001b[0m\u001b[0;34m\u001b[0m\u001b[0m\n\u001b[1;32m     26\u001b[0m         \u001b[0mprint\u001b[0m\u001b[0;34m(\u001b[0m\u001b[0maugmentation_name\u001b[0m\u001b[0;34m)\u001b[0m\u001b[0;34m\u001b[0m\u001b[0;34m\u001b[0m\u001b[0m\n\u001b[0;32m---> 27\u001b[0;31m         \u001b[0maccuracies\u001b[0m \u001b[0;34m=\u001b[0m \u001b[0mcalculate_accuracy\u001b[0m\u001b[0;34m(\u001b[0m\u001b[0mfile_name\u001b[0m\u001b[0;34m,\u001b[0m \u001b[0msampling_percent\u001b[0m \u001b[0;34m=\u001b[0m \u001b[0msampling_percent\u001b[0m\u001b[0;34m,\u001b[0m \u001b[0mnum_runs\u001b[0m \u001b[0;34m=\u001b[0m \u001b[0mnum_runs\u001b[0m\u001b[0;34m)\u001b[0m\u001b[0;34m\u001b[0m\u001b[0;34m\u001b[0m\u001b[0m\n\u001b[0m\u001b[1;32m     28\u001b[0m \u001b[0;34m\u001b[0m\u001b[0m\n\u001b[1;32m     29\u001b[0m         \u001b[0;32mfor\u001b[0m \u001b[0mi\u001b[0m \u001b[0;32min\u001b[0m \u001b[0mrange\u001b[0m\u001b[0;34m(\u001b[0m\u001b[0mlen\u001b[0m\u001b[0;34m(\u001b[0m\u001b[0maccuracies\u001b[0m\u001b[0;34m)\u001b[0m\u001b[0;34m)\u001b[0m\u001b[0;34m:\u001b[0m\u001b[0;34m\u001b[0m\u001b[0;34m\u001b[0m\u001b[0m\n",
      "\u001b[0;32m/data/ddmg/prism/tta/work/helenl/tta_research/helenl_utils.py\u001b[0m in \u001b[0;36mcalculate_accuracy\u001b[0;34m(prediction_file, sampling_percent, num_runs)\u001b[0m\n\u001b[1;32m    391\u001b[0m         \u001b[0mclassified_predictions\u001b[0m \u001b[0;34m=\u001b[0m \u001b[0;34m[\u001b[0m\u001b[0;34m]\u001b[0m\u001b[0;34m\u001b[0m\u001b[0;34m\u001b[0m\u001b[0m\n\u001b[1;32m    392\u001b[0m         \u001b[0;32mfor\u001b[0m \u001b[0mprediction\u001b[0m \u001b[0;32min\u001b[0m \u001b[0mrand_logit_predictions\u001b[0m\u001b[0;34m:\u001b[0m\u001b[0;34m\u001b[0m\u001b[0;34m\u001b[0m\u001b[0m\n\u001b[0;32m--> 393\u001b[0;31m             \u001b[0mindex_prediction\u001b[0m \u001b[0;34m=\u001b[0m \u001b[0mnp\u001b[0m\u001b[0;34m.\u001b[0m\u001b[0margmax\u001b[0m\u001b[0;34m(\u001b[0m\u001b[0mprediction\u001b[0m\u001b[0;34m,\u001b[0m \u001b[0maxis\u001b[0m \u001b[0;34m=\u001b[0m \u001b[0;36m0\u001b[0m\u001b[0;34m)\u001b[0m\u001b[0;34m.\u001b[0m\u001b[0mtolist\u001b[0m\u001b[0;34m(\u001b[0m\u001b[0;34m)\u001b[0m\u001b[0;34m\u001b[0m\u001b[0;34m\u001b[0m\u001b[0m\n\u001b[0m\u001b[1;32m    394\u001b[0m             \u001b[0mclassified_predictions\u001b[0m\u001b[0;34m.\u001b[0m\u001b[0mappend\u001b[0m\u001b[0;34m(\u001b[0m\u001b[0mindex_prediction\u001b[0m\u001b[0;34m)\u001b[0m\u001b[0;34m\u001b[0m\u001b[0;34m\u001b[0m\u001b[0m\n\u001b[1;32m    395\u001b[0m \u001b[0;34m\u001b[0m\u001b[0m\n",
      "\u001b[0;31mKeyboardInterrupt\u001b[0m: "
     ]
    }
   ],
   "source": [
    "word_aug_file_paths = []\n",
    "\n",
    "for word_aug in all_word_augmentations:\n",
    "    file_path = OUTPUT_PATH + \"civilcomments_ERM_predictions_optimized_params/with_bert/\" + word_aug + \".npy\"\n",
    "    word_aug_file_paths.append(file_path)\n",
    "    \n",
    "bert_path = OUTPUT_PATH + \"civilcomments_ERM_predictions/bert.npy\"\n",
    "word_aug_file_paths.append(bert_path)\n",
    "    \n",
    "create_accuracy_graph(word_aug_file_paths\n",
    "                     , plot_type = 'bar'\n",
    "                     , title = \"Word-based\"\n",
    "                     , apply_threshhold = True)"
   ]
  },
  {
   "cell_type": "code",
   "execution_count": 40,
   "metadata": {
    "scrolled": false
   },
   "outputs": [
    {
     "name": "stdout",
     "output_type": "stream",
     "text": [
      "nlp_abstractive_summarization_bart_large_cnn\n"
     ]
    },
    {
     "data": {
      "application/vnd.jupyter.widget-view+json": {
       "model_id": "e7a75c060dec47da888caac3aebe9adf",
       "version_major": 2,
       "version_minor": 0
      },
      "text/plain": [
       "  0%|          | 0/10 [00:00<?, ?it/s]"
      ]
     },
     "metadata": {},
     "output_type": "display_data"
    },
    {
     "name": "stdout",
     "output_type": "stream",
     "text": [
      "nlp_abstractive_summarization_t5_small\n"
     ]
    },
    {
     "data": {
      "application/vnd.jupyter.widget-view+json": {
       "model_id": "aa9a861b0f0a462ca0e365c28c10c29a",
       "version_major": 2,
       "version_minor": 0
      },
      "text/plain": [
       "  0%|          | 0/10 [00:00<?, ?it/s]"
      ]
     },
     "metadata": {},
     "output_type": "display_data"
    },
    {
     "name": "stdout",
     "output_type": "stream",
     "text": [
      "nlp_abstractive_summarization_t5_base\n"
     ]
    },
    {
     "data": {
      "application/vnd.jupyter.widget-view+json": {
       "model_id": "d1adea49b50147fbbd8c9881b7d23980",
       "version_major": 2,
       "version_minor": 0
      },
      "text/plain": [
       "  0%|          | 0/10 [00:00<?, ?it/s]"
      ]
     },
     "metadata": {},
     "output_type": "display_data"
    },
    {
     "name": "stdout",
     "output_type": "stream",
     "text": [
      "bert\n"
     ]
    },
    {
     "data": {
      "application/vnd.jupyter.widget-view+json": {
       "model_id": "52b64377da80450e84260d623268b591",
       "version_major": 2,
       "version_minor": 0
      },
      "text/plain": [
       "  0%|          | 0/10 [00:00<?, ?it/s]"
      ]
     },
     "metadata": {},
     "output_type": "display_data"
    },
    {
     "data": {
      "image/png": "[encoded data removed]",
      "text/plain": [
       "<Figure size 432x288 with 1 Axes>"
      ]
     },
     "metadata": {},
     "output_type": "display_data"
    },
    {
     "data": {
      "text/html": [
       "<div>\n",
       "<style scoped>\n",
       "    .dataframe tbody tr th:only-of-type {\n",
       "        vertical-align: middle;\n",
       "    }\n",
       "\n",
       "    .dataframe tbody tr th {\n",
       "        vertical-align: top;\n",
       "    }\n",
       "\n",
       "    .dataframe thead th {\n",
       "        text-align: right;\n",
       "    }\n",
       "</style>\n",
       "<table border=\"1\" class=\"dataframe\">\n",
       "  <thead>\n",
       "    <tr style=\"text-align: right;\">\n",
       "      <th></th>\n",
       "      <th>augmentation</th>\n",
       "      <th>accuracy</th>\n",
       "      <th>batch_num</th>\n",
       "    </tr>\n",
       "  </thead>\n",
       "  <tbody>\n",
       "    <tr>\n",
       "      <th>33</th>\n",
       "      <td>bert</td>\n",
       "      <td>0.927054</td>\n",
       "      <td>3</td>\n",
       "    </tr>\n",
       "    <tr>\n",
       "      <th>37</th>\n",
       "      <td>bert</td>\n",
       "      <td>0.926989</td>\n",
       "      <td>7</td>\n",
       "    </tr>\n",
       "    <tr>\n",
       "      <th>31</th>\n",
       "      <td>bert</td>\n",
       "      <td>0.926821</td>\n",
       "      <td>1</td>\n",
       "    </tr>\n",
       "    <tr>\n",
       "      <th>35</th>\n",
       "      <td>bert</td>\n",
       "      <td>0.926783</td>\n",
       "      <td>5</td>\n",
       "    </tr>\n",
       "    <tr>\n",
       "      <th>32</th>\n",
       "      <td>bert</td>\n",
       "      <td>0.926718</td>\n",
       "      <td>2</td>\n",
       "    </tr>\n",
       "    <tr>\n",
       "      <th>30</th>\n",
       "      <td>bert</td>\n",
       "      <td>0.926578</td>\n",
       "      <td>0</td>\n",
       "    </tr>\n",
       "    <tr>\n",
       "      <th>36</th>\n",
       "      <td>bert</td>\n",
       "      <td>0.926550</td>\n",
       "      <td>6</td>\n",
       "    </tr>\n",
       "    <tr>\n",
       "      <th>34</th>\n",
       "      <td>bert</td>\n",
       "      <td>0.926484</td>\n",
       "      <td>4</td>\n",
       "    </tr>\n",
       "    <tr>\n",
       "      <th>38</th>\n",
       "      <td>bert</td>\n",
       "      <td>0.926372</td>\n",
       "      <td>8</td>\n",
       "    </tr>\n",
       "    <tr>\n",
       "      <th>39</th>\n",
       "      <td>bert</td>\n",
       "      <td>0.926316</td>\n",
       "      <td>9</td>\n",
       "    </tr>\n",
       "    <tr>\n",
       "      <th>27</th>\n",
       "      <td>nlp_abstractive_summarization_t5_base</td>\n",
       "      <td>0.919309</td>\n",
       "      <td>7</td>\n",
       "    </tr>\n",
       "    <tr>\n",
       "      <th>23</th>\n",
       "      <td>nlp_abstractive_summarization_t5_base</td>\n",
       "      <td>0.919094</td>\n",
       "      <td>3</td>\n",
       "    </tr>\n",
       "    <tr>\n",
       "      <th>21</th>\n",
       "      <td>nlp_abstractive_summarization_t5_base</td>\n",
       "      <td>0.919010</td>\n",
       "      <td>1</td>\n",
       "    </tr>\n",
       "    <tr>\n",
       "      <th>25</th>\n",
       "      <td>nlp_abstractive_summarization_t5_base</td>\n",
       "      <td>0.918916</td>\n",
       "      <td>5</td>\n",
       "    </tr>\n",
       "    <tr>\n",
       "      <th>22</th>\n",
       "      <td>nlp_abstractive_summarization_t5_base</td>\n",
       "      <td>0.918711</td>\n",
       "      <td>2</td>\n",
       "    </tr>\n",
       "    <tr>\n",
       "      <th>26</th>\n",
       "      <td>nlp_abstractive_summarization_t5_base</td>\n",
       "      <td>0.918533</td>\n",
       "      <td>6</td>\n",
       "    </tr>\n",
       "    <tr>\n",
       "      <th>20</th>\n",
       "      <td>nlp_abstractive_summarization_t5_base</td>\n",
       "      <td>0.918533</td>\n",
       "      <td>0</td>\n",
       "    </tr>\n",
       "    <tr>\n",
       "      <th>11</th>\n",
       "      <td>nlp_abstractive_summarization_t5_small</td>\n",
       "      <td>0.918514</td>\n",
       "      <td>1</td>\n",
       "    </tr>\n",
       "    <tr>\n",
       "      <th>24</th>\n",
       "      <td>nlp_abstractive_summarization_t5_base</td>\n",
       "      <td>0.918468</td>\n",
       "      <td>4</td>\n",
       "    </tr>\n",
       "    <tr>\n",
       "      <th>17</th>\n",
       "      <td>nlp_abstractive_summarization_t5_small</td>\n",
       "      <td>0.918449</td>\n",
       "      <td>7</td>\n",
       "    </tr>\n",
       "    <tr>\n",
       "      <th>28</th>\n",
       "      <td>nlp_abstractive_summarization_t5_base</td>\n",
       "      <td>0.918384</td>\n",
       "      <td>8</td>\n",
       "    </tr>\n",
       "    <tr>\n",
       "      <th>13</th>\n",
       "      <td>nlp_abstractive_summarization_t5_small</td>\n",
       "      <td>0.918327</td>\n",
       "      <td>3</td>\n",
       "    </tr>\n",
       "    <tr>\n",
       "      <th>29</th>\n",
       "      <td>nlp_abstractive_summarization_t5_base</td>\n",
       "      <td>0.918206</td>\n",
       "      <td>9</td>\n",
       "    </tr>\n",
       "    <tr>\n",
       "      <th>15</th>\n",
       "      <td>nlp_abstractive_summarization_t5_small</td>\n",
       "      <td>0.918057</td>\n",
       "      <td>5</td>\n",
       "    </tr>\n",
       "    <tr>\n",
       "      <th>16</th>\n",
       "      <td>nlp_abstractive_summarization_t5_small</td>\n",
       "      <td>0.918010</td>\n",
       "      <td>6</td>\n",
       "    </tr>\n",
       "    <tr>\n",
       "      <th>10</th>\n",
       "      <td>nlp_abstractive_summarization_t5_small</td>\n",
       "      <td>0.917991</td>\n",
       "      <td>0</td>\n",
       "    </tr>\n",
       "    <tr>\n",
       "      <th>18</th>\n",
       "      <td>nlp_abstractive_summarization_t5_small</td>\n",
       "      <td>0.917730</td>\n",
       "      <td>8</td>\n",
       "    </tr>\n",
       "    <tr>\n",
       "      <th>19</th>\n",
       "      <td>nlp_abstractive_summarization_t5_small</td>\n",
       "      <td>0.917701</td>\n",
       "      <td>9</td>\n",
       "    </tr>\n",
       "    <tr>\n",
       "      <th>14</th>\n",
       "      <td>nlp_abstractive_summarization_t5_small</td>\n",
       "      <td>0.917645</td>\n",
       "      <td>4</td>\n",
       "    </tr>\n",
       "    <tr>\n",
       "      <th>12</th>\n",
       "      <td>nlp_abstractive_summarization_t5_small</td>\n",
       "      <td>0.917617</td>\n",
       "      <td>2</td>\n",
       "    </tr>\n",
       "    <tr>\n",
       "      <th>1</th>\n",
       "      <td>nlp_abstractive_summarization_bart_large_cnn</td>\n",
       "      <td>0.915141</td>\n",
       "      <td>1</td>\n",
       "    </tr>\n",
       "    <tr>\n",
       "      <th>7</th>\n",
       "      <td>nlp_abstractive_summarization_bart_large_cnn</td>\n",
       "      <td>0.914898</td>\n",
       "      <td>7</td>\n",
       "    </tr>\n",
       "    <tr>\n",
       "      <th>4</th>\n",
       "      <td>nlp_abstractive_summarization_bart_large_cnn</td>\n",
       "      <td>0.914833</td>\n",
       "      <td>4</td>\n",
       "    </tr>\n",
       "    <tr>\n",
       "      <th>5</th>\n",
       "      <td>nlp_abstractive_summarization_bart_large_cnn</td>\n",
       "      <td>0.914609</td>\n",
       "      <td>5</td>\n",
       "    </tr>\n",
       "    <tr>\n",
       "      <th>2</th>\n",
       "      <td>nlp_abstractive_summarization_bart_large_cnn</td>\n",
       "      <td>0.914515</td>\n",
       "      <td>2</td>\n",
       "    </tr>\n",
       "    <tr>\n",
       "      <th>3</th>\n",
       "      <td>nlp_abstractive_summarization_bart_large_cnn</td>\n",
       "      <td>0.914478</td>\n",
       "      <td>3</td>\n",
       "    </tr>\n",
       "    <tr>\n",
       "      <th>0</th>\n",
       "      <td>nlp_abstractive_summarization_bart_large_cnn</td>\n",
       "      <td>0.914459</td>\n",
       "      <td>0</td>\n",
       "    </tr>\n",
       "    <tr>\n",
       "      <th>6</th>\n",
       "      <td>nlp_abstractive_summarization_bart_large_cnn</td>\n",
       "      <td>0.914450</td>\n",
       "      <td>6</td>\n",
       "    </tr>\n",
       "    <tr>\n",
       "      <th>8</th>\n",
       "      <td>nlp_abstractive_summarization_bart_large_cnn</td>\n",
       "      <td>0.914254</td>\n",
       "      <td>8</td>\n",
       "    </tr>\n",
       "    <tr>\n",
       "      <th>9</th>\n",
       "      <td>nlp_abstractive_summarization_bart_large_cnn</td>\n",
       "      <td>0.913871</td>\n",
       "      <td>9</td>\n",
       "    </tr>\n",
       "  </tbody>\n",
       "</table>\n",
       "</div>"
      ],
      "text/plain": [
       "                                    augmentation  accuracy  batch_num\n",
       "33                                          bert  0.927054          3\n",
       "37                                          bert  0.926989          7\n",
       "31                                          bert  0.926821          1\n",
       "35                                          bert  0.926783          5\n",
       "32                                          bert  0.926718          2\n",
       "30                                          bert  0.926578          0\n",
       "36                                          bert  0.926550          6\n",
       "34                                          bert  0.926484          4\n",
       "38                                          bert  0.926372          8\n",
       "39                                          bert  0.926316          9\n",
       "27         nlp_abstractive_summarization_t5_base  0.919309          7\n",
       "23         nlp_abstractive_summarization_t5_base  0.919094          3\n",
       "21         nlp_abstractive_summarization_t5_base  0.919010          1\n",
       "25         nlp_abstractive_summarization_t5_base  0.918916          5\n",
       "22         nlp_abstractive_summarization_t5_base  0.918711          2\n",
       "26         nlp_abstractive_summarization_t5_base  0.918533          6\n",
       "20         nlp_abstractive_summarization_t5_base  0.918533          0\n",
       "11        nlp_abstractive_summarization_t5_small  0.918514          1\n",
       "24         nlp_abstractive_summarization_t5_base  0.918468          4\n",
       "17        nlp_abstractive_summarization_t5_small  0.918449          7\n",
       "28         nlp_abstractive_summarization_t5_base  0.918384          8\n",
       "13        nlp_abstractive_summarization_t5_small  0.918327          3\n",
       "29         nlp_abstractive_summarization_t5_base  0.918206          9\n",
       "15        nlp_abstractive_summarization_t5_small  0.918057          5\n",
       "16        nlp_abstractive_summarization_t5_small  0.918010          6\n",
       "10        nlp_abstractive_summarization_t5_small  0.917991          0\n",
       "18        nlp_abstractive_summarization_t5_small  0.917730          8\n",
       "19        nlp_abstractive_summarization_t5_small  0.917701          9\n",
       "14        nlp_abstractive_summarization_t5_small  0.917645          4\n",
       "12        nlp_abstractive_summarization_t5_small  0.917617          2\n",
       "1   nlp_abstractive_summarization_bart_large_cnn  0.915141          1\n",
       "7   nlp_abstractive_summarization_bart_large_cnn  0.914898          7\n",
       "4   nlp_abstractive_summarization_bart_large_cnn  0.914833          4\n",
       "5   nlp_abstractive_summarization_bart_large_cnn  0.914609          5\n",
       "2   nlp_abstractive_summarization_bart_large_cnn  0.914515          2\n",
       "3   nlp_abstractive_summarization_bart_large_cnn  0.914478          3\n",
       "0   nlp_abstractive_summarization_bart_large_cnn  0.914459          0\n",
       "6   nlp_abstractive_summarization_bart_large_cnn  0.914450          6\n",
       "8   nlp_abstractive_summarization_bart_large_cnn  0.914254          8\n",
       "9   nlp_abstractive_summarization_bart_large_cnn  0.913871          9"
      ]
     },
     "execution_count": 40,
     "metadata": {},
     "output_type": "execute_result"
    }
   ],
   "source": [
    "sentence_aug_file_paths = []\n",
    "\n",
    "for sentence_aug in all_sentence_augmentations:\n",
    "    file_path = OUTPUT_PATH + \"civilcomments_ERM_predictions_optimized_params/with_bert/\" + sentence_aug + \".npy\"\n",
    "    sentence_aug_file_paths.append(file_path)\n",
    "    \n",
    "bert_path = OUTPUT_PATH + \"civilcomments_ERM_predictions/bert.npy\"\n",
    "sentence_aug_file_paths.append(bert_path)\n",
    "    \n",
    "create_accuracy_graph(sentence_aug_file_paths\n",
    "                     , plot_type = 'bar'\n",
    "                     , title = \"Sentence-based\")"
   ]
  },
  {
   "cell_type": "code",
   "execution_count": 41,
   "metadata": {
    "scrolled": false
   },
   "outputs": [
    {
     "name": "stdout",
     "output_type": "stream",
     "text": [
      "nlp_ocr\n"
     ]
    },
    {
     "data": {
      "application/vnd.jupyter.widget-view+json": {
       "model_id": "28e392bfaa304d7fa0d8d0d780e52602",
       "version_major": 2,
       "version_minor": 0
      },
      "text/plain": [
       "  0%|          | 0/10 [00:00<?, ?it/s]"
      ]
     },
     "metadata": {},
     "output_type": "display_data"
    },
    {
     "name": "stdout",
     "output_type": "stream",
     "text": [
      "nlp_keyboard\n"
     ]
    },
    {
     "data": {
      "application/vnd.jupyter.widget-view+json": {
       "model_id": "1b7dcbaf78ab4e2c8dd8e9b2fb8c2001",
       "version_major": 2,
       "version_minor": 0
      },
      "text/plain": [
       "  0%|          | 0/10 [00:00<?, ?it/s]"
      ]
     },
     "metadata": {},
     "output_type": "display_data"
    },
    {
     "name": "stdout",
     "output_type": "stream",
     "text": [
      "nlp_random_char_insert\n"
     ]
    },
    {
     "data": {
      "application/vnd.jupyter.widget-view+json": {
       "model_id": "e87bf33dde6245a384359a421d7842ef",
       "version_major": 2,
       "version_minor": 0
      },
      "text/plain": [
       "  0%|          | 0/10 [00:00<?, ?it/s]"
      ]
     },
     "metadata": {},
     "output_type": "display_data"
    },
    {
     "name": "stdout",
     "output_type": "stream",
     "text": [
      "nlp_random_char_substitution\n"
     ]
    },
    {
     "data": {
      "application/vnd.jupyter.widget-view+json": {
       "model_id": "455bfcd75870498ca71c9c7dd8e12406",
       "version_major": 2,
       "version_minor": 0
      },
      "text/plain": [
       "  0%|          | 0/10 [00:00<?, ?it/s]"
      ]
     },
     "metadata": {},
     "output_type": "display_data"
    },
    {
     "name": "stdout",
     "output_type": "stream",
     "text": [
      "nlp_random_char_swap\n"
     ]
    },
    {
     "data": {
      "application/vnd.jupyter.widget-view+json": {
       "model_id": "f4968dac4a17439d8cc5311e18353568",
       "version_major": 2,
       "version_minor": 0
      },
      "text/plain": [
       "  0%|          | 0/10 [00:00<?, ?it/s]"
      ]
     },
     "metadata": {},
     "output_type": "display_data"
    },
    {
     "name": "stdout",
     "output_type": "stream",
     "text": [
      "nlp_random_char_deletion\n"
     ]
    },
    {
     "data": {
      "application/vnd.jupyter.widget-view+json": {
       "model_id": "84c2fe8aa5c8402798830c562c19c3c4",
       "version_major": 2,
       "version_minor": 0
      },
      "text/plain": [
       "  0%|          | 0/10 [00:00<?, ?it/s]"
      ]
     },
     "metadata": {},
     "output_type": "display_data"
    },
    {
     "name": "stdout",
     "output_type": "stream",
     "text": [
      "nlp_spelling_substitution\n"
     ]
    },
    {
     "data": {
      "application/vnd.jupyter.widget-view+json": {
       "model_id": "329b647fcec54defb35e9fee877232d7",
       "version_major": 2,
       "version_minor": 0
      },
      "text/plain": [
       "  0%|          | 0/10 [00:00<?, ?it/s]"
      ]
     },
     "metadata": {},
     "output_type": "display_data"
    },
    {
     "name": "stdout",
     "output_type": "stream",
     "text": [
      "nlp_random_word_swap\n"
     ]
    },
    {
     "data": {
      "application/vnd.jupyter.widget-view+json": {
       "model_id": "6ee003021c8b468aa2bfab8b22305c4f",
       "version_major": 2,
       "version_minor": 0
      },
      "text/plain": [
       "  0%|          | 0/10 [00:00<?, ?it/s]"
      ]
     },
     "metadata": {},
     "output_type": "display_data"
    },
    {
     "name": "stdout",
     "output_type": "stream",
     "text": [
      "nlp_random_word_delete\n"
     ]
    },
    {
     "data": {
      "application/vnd.jupyter.widget-view+json": {
       "model_id": "44ccb4ed0e4a417da5c70cac95db2d1e",
       "version_major": 2,
       "version_minor": 0
      },
      "text/plain": [
       "  0%|          | 0/10 [00:00<?, ?it/s]"
      ]
     },
     "metadata": {},
     "output_type": "display_data"
    },
    {
     "name": "stdout",
     "output_type": "stream",
     "text": [
      "nlp_wordnet_synonym\n"
     ]
    },
    {
     "data": {
      "application/vnd.jupyter.widget-view+json": {
       "model_id": "ef6a7f72ba6f4f81850268014d675795",
       "version_major": 2,
       "version_minor": 0
      },
      "text/plain": [
       "  0%|          | 0/10 [00:00<?, ?it/s]"
      ]
     },
     "metadata": {},
     "output_type": "display_data"
    },
    {
     "name": "stdout",
     "output_type": "stream",
     "text": [
      "nlp_ppdb_synonym\n"
     ]
    },
    {
     "data": {
      "application/vnd.jupyter.widget-view+json": {
       "model_id": "5fe125789ac84d65bc26f7d27160baa5",
       "version_major": 2,
       "version_minor": 0
      },
      "text/plain": [
       "  0%|          | 0/10 [00:00<?, ?it/s]"
      ]
     },
     "metadata": {},
     "output_type": "display_data"
    },
    {
     "name": "stdout",
     "output_type": "stream",
     "text": [
      "nlp_antonym\n"
     ]
    },
    {
     "data": {
      "application/vnd.jupyter.widget-view+json": {
       "model_id": "536ac41b52014ff3bd4848ce0a5cd056",
       "version_major": 2,
       "version_minor": 0
      },
      "text/plain": [
       "  0%|          | 0/10 [00:00<?, ?it/s]"
      ]
     },
     "metadata": {},
     "output_type": "display_data"
    },
    {
     "name": "stdout",
     "output_type": "stream",
     "text": [
      "nlp_random_token_split\n"
     ]
    },
    {
     "data": {
      "application/vnd.jupyter.widget-view+json": {
       "model_id": "a80f79087a134856a36dc8d389c10d8d",
       "version_major": 2,
       "version_minor": 0
      },
      "text/plain": [
       "  0%|          | 0/10 [00:00<?, ?it/s]"
      ]
     },
     "metadata": {},
     "output_type": "display_data"
    },
    {
     "name": "stdout",
     "output_type": "stream",
     "text": [
      "nlp_random_contextual_word_insertion_bert_uncased_embedding\n"
     ]
    },
    {
     "data": {
      "application/vnd.jupyter.widget-view+json": {
       "model_id": "e7c22baf5bd94047b4277ed8e8f1da36",
       "version_major": 2,
       "version_minor": 0
      },
      "text/plain": [
       "  0%|          | 0/10 [00:00<?, ?it/s]"
      ]
     },
     "metadata": {},
     "output_type": "display_data"
    },
    {
     "name": "stdout",
     "output_type": "stream",
     "text": [
      "nlp_random_contextual_word_insertion_bert_cased_embedding\n"
     ]
    },
    {
     "data": {
      "application/vnd.jupyter.widget-view+json": {
       "model_id": "fd4430eabb784ba0aa29dc32685ad7e6",
       "version_major": 2,
       "version_minor": 0
      },
      "text/plain": [
       "  0%|          | 0/10 [00:00<?, ?it/s]"
      ]
     },
     "metadata": {},
     "output_type": "display_data"
    },
    {
     "name": "stdout",
     "output_type": "stream",
     "text": [
      "nlp_random_contextual_word_insertion_distilbert_uncased_embedding\n"
     ]
    },
    {
     "data": {
      "application/vnd.jupyter.widget-view+json": {
       "model_id": "9f87efa86ac64c49bd916da5fcbaa3ab",
       "version_major": 2,
       "version_minor": 0
      },
      "text/plain": [
       "  0%|          | 0/10 [00:00<?, ?it/s]"
      ]
     },
     "metadata": {},
     "output_type": "display_data"
    },
    {
     "name": "stdout",
     "output_type": "stream",
     "text": [
      "nlp_random_contextual_word_insertion_distilbert_cased_embedding\n"
     ]
    },
    {
     "data": {
      "application/vnd.jupyter.widget-view+json": {
       "model_id": "9220b85ea3494fe2847375f16767db7a",
       "version_major": 2,
       "version_minor": 0
      },
      "text/plain": [
       "  0%|          | 0/10 [00:00<?, ?it/s]"
      ]
     },
     "metadata": {},
     "output_type": "display_data"
    },
    {
     "name": "stdout",
     "output_type": "stream",
     "text": [
      "nlp_random_contextual_word_insertion_roberta_base_embedding\n"
     ]
    },
    {
     "data": {
      "application/vnd.jupyter.widget-view+json": {
       "model_id": "9aa25ddd7b3548a0ad6fa3bd73b4dce5",
       "version_major": 2,
       "version_minor": 0
      },
      "text/plain": [
       "  0%|          | 0/10 [00:00<?, ?it/s]"
      ]
     },
     "metadata": {},
     "output_type": "display_data"
    },
    {
     "name": "stdout",
     "output_type": "stream",
     "text": [
      "nlp_random_contextual_word_insertion_distilroberta_base_embedding\n"
     ]
    },
    {
     "data": {
      "application/vnd.jupyter.widget-view+json": {
       "model_id": "4383538b6ea54a07ae146f44b273eb06",
       "version_major": 2,
       "version_minor": 0
      },
      "text/plain": [
       "  0%|          | 0/10 [00:00<?, ?it/s]"
      ]
     },
     "metadata": {},
     "output_type": "display_data"
    },
    {
     "name": "stdout",
     "output_type": "stream",
     "text": [
      "nlp_random_contextual_word_insertion_bart_base_embedding\n"
     ]
    },
    {
     "data": {
      "application/vnd.jupyter.widget-view+json": {
       "model_id": "20ad406833224ccd800b0a0b365478aa",
       "version_major": 2,
       "version_minor": 0
      },
      "text/plain": [
       "  0%|          | 0/10 [00:00<?, ?it/s]"
      ]
     },
     "metadata": {},
     "output_type": "display_data"
    },
    {
     "name": "stdout",
     "output_type": "stream",
     "text": [
      "nlp_random_contextual_word_insertion_squeezebert_uncased_embedding\n"
     ]
    },
    {
     "data": {
      "application/vnd.jupyter.widget-view+json": {
       "model_id": "12ab4b207b8540cfa217556cd1718b91",
       "version_major": 2,
       "version_minor": 0
      },
      "text/plain": [
       "  0%|          | 0/10 [00:00<?, ?it/s]"
      ]
     },
     "metadata": {},
     "output_type": "display_data"
    },
    {
     "name": "stdout",
     "output_type": "stream",
     "text": [
      "nlp_random_contextual_word_substitution_bert_uncased_embedding\n"
     ]
    },
    {
     "data": {
      "application/vnd.jupyter.widget-view+json": {
       "model_id": "043acb3e1db242919ae91f3737bd49c7",
       "version_major": 2,
       "version_minor": 0
      },
      "text/plain": [
       "  0%|          | 0/10 [00:00<?, ?it/s]"
      ]
     },
     "metadata": {},
     "output_type": "display_data"
    },
    {
     "name": "stdout",
     "output_type": "stream",
     "text": [
      "nlp_random_contextual_word_substitution_bert_cased_embedding\n"
     ]
    },
    {
     "data": {
      "application/vnd.jupyter.widget-view+json": {
       "model_id": "e9f789ca10cb4c73a5fb9240e55a7f8a",
       "version_major": 2,
       "version_minor": 0
      },
      "text/plain": [
       "  0%|          | 0/10 [00:00<?, ?it/s]"
      ]
     },
     "metadata": {},
     "output_type": "display_data"
    },
    {
     "name": "stdout",
     "output_type": "stream",
     "text": [
      "nlp_random_contextual_word_substitution_distilbert_uncased_embedding\n"
     ]
    },
    {
     "data": {
      "application/vnd.jupyter.widget-view+json": {
       "model_id": "6e97e19938774c46841471a8c96fddf5",
       "version_major": 2,
       "version_minor": 0
      },
      "text/plain": [
       "  0%|          | 0/10 [00:00<?, ?it/s]"
      ]
     },
     "metadata": {},
     "output_type": "display_data"
    },
    {
     "name": "stdout",
     "output_type": "stream",
     "text": [
      "nlp_random_contextual_word_substitution_distilbert_cased_embedding\n"
     ]
    },
    {
     "data": {
      "application/vnd.jupyter.widget-view+json": {
       "model_id": "ea5937e424cc48f3ab5b9fb9d4aad620",
       "version_major": 2,
       "version_minor": 0
      },
      "text/plain": [
       "  0%|          | 0/10 [00:00<?, ?it/s]"
      ]
     },
     "metadata": {},
     "output_type": "display_data"
    },
    {
     "name": "stdout",
     "output_type": "stream",
     "text": [
      "nlp_random_contextual_word_substitution_roberta_embedding\n"
     ]
    },
    {
     "data": {
      "application/vnd.jupyter.widget-view+json": {
       "model_id": "cf52e310c9114b838d209ce543d7f6b5",
       "version_major": 2,
       "version_minor": 0
      },
      "text/plain": [
       "  0%|          | 0/10 [00:00<?, ?it/s]"
      ]
     },
     "metadata": {},
     "output_type": "display_data"
    },
    {
     "name": "stdout",
     "output_type": "stream",
     "text": [
      "nlp_random_contextual_word_substitution_distilroberta_base_embedding\n"
     ]
    },
    {
     "data": {
      "application/vnd.jupyter.widget-view+json": {
       "model_id": "bb308d3422254ab7ae51c760731e97e5",
       "version_major": 2,
       "version_minor": 0
      },
      "text/plain": [
       "  0%|          | 0/10 [00:00<?, ?it/s]"
      ]
     },
     "metadata": {},
     "output_type": "display_data"
    },
    {
     "name": "stdout",
     "output_type": "stream",
     "text": [
      "nlp_random_contextual_word_substitution_bart_base_embedding\n"
     ]
    },
    {
     "data": {
      "application/vnd.jupyter.widget-view+json": {
       "model_id": "b6954decd38c4e119e3f44bbbd843be5",
       "version_major": 2,
       "version_minor": 0
      },
      "text/plain": [
       "  0%|          | 0/10 [00:00<?, ?it/s]"
      ]
     },
     "metadata": {},
     "output_type": "display_data"
    },
    {
     "name": "stdout",
     "output_type": "stream",
     "text": [
      "nlp_random_contextual_word_substitution_squeezebert_uncased_embedding\n"
     ]
    },
    {
     "data": {
      "application/vnd.jupyter.widget-view+json": {
       "model_id": "31ef76282c8649e893735786d96d8c40",
       "version_major": 2,
       "version_minor": 0
      },
      "text/plain": [
       "  0%|          | 0/10 [00:00<?, ?it/s]"
      ]
     },
     "metadata": {},
     "output_type": "display_data"
    },
    {
     "name": "stdout",
     "output_type": "stream",
     "text": [
      "nlp_abstractive_summarization_bart_large_cnn\n"
     ]
    },
    {
     "data": {
      "application/vnd.jupyter.widget-view+json": {
       "model_id": "7f512d0846a542bcb3649d2f691954bc",
       "version_major": 2,
       "version_minor": 0
      },
      "text/plain": [
       "  0%|          | 0/10 [00:00<?, ?it/s]"
      ]
     },
     "metadata": {},
     "output_type": "display_data"
    },
    {
     "name": "stdout",
     "output_type": "stream",
     "text": [
      "nlp_abstractive_summarization_t5_small\n"
     ]
    },
    {
     "data": {
      "application/vnd.jupyter.widget-view+json": {
       "model_id": "4dac5742c6e94954b422f72cde54fc17",
       "version_major": 2,
       "version_minor": 0
      },
      "text/plain": [
       "  0%|          | 0/10 [00:00<?, ?it/s]"
      ]
     },
     "metadata": {},
     "output_type": "display_data"
    },
    {
     "name": "stdout",
     "output_type": "stream",
     "text": [
      "nlp_abstractive_summarization_t5_base\n"
     ]
    },
    {
     "data": {
      "application/vnd.jupyter.widget-view+json": {
       "model_id": "36d4ed15763041c4b7925ee0fa53bba3",
       "version_major": 2,
       "version_minor": 0
      },
      "text/plain": [
       "  0%|          | 0/10 [00:00<?, ?it/s]"
      ]
     },
     "metadata": {},
     "output_type": "display_data"
    },
    {
     "name": "stdout",
     "output_type": "stream",
     "text": [
      "bert\n"
     ]
    },
    {
     "data": {
      "application/vnd.jupyter.widget-view+json": {
       "model_id": "ce30a1868c0542a2acf2f636190316c9",
       "version_major": 2,
       "version_minor": 0
      },
      "text/plain": [
       "  0%|          | 0/10 [00:00<?, ?it/s]"
      ]
     },
     "metadata": {},
     "output_type": "display_data"
    },
    {
     "data": {
      "image/png": "[encoded data removed]",
      "text/plain": [
       "<Figure size 432x288 with 1 Axes>"
      ]
     },
     "metadata": {},
     "output_type": "display_data"
    },
    {
     "data": {
      "text/html": [
       "<div>\n",
       "<style scoped>\n",
       "    .dataframe tbody tr th:only-of-type {\n",
       "        vertical-align: middle;\n",
       "    }\n",
       "\n",
       "    .dataframe tbody tr th {\n",
       "        vertical-align: top;\n",
       "    }\n",
       "\n",
       "    .dataframe thead th {\n",
       "        text-align: right;\n",
       "    }\n",
       "</style>\n",
       "<table border=\"1\" class=\"dataframe\">\n",
       "  <thead>\n",
       "    <tr style=\"text-align: right;\">\n",
       "      <th></th>\n",
       "      <th>augmentation</th>\n",
       "      <th>accuracy</th>\n",
       "      <th>batch_num</th>\n",
       "    </tr>\n",
       "  </thead>\n",
       "  <tbody>\n",
       "    <tr>\n",
       "      <th>103</th>\n",
       "      <td>nlp_ppdb_synonym</td>\n",
       "      <td>0.927307</td>\n",
       "      <td>3</td>\n",
       "    </tr>\n",
       "    <tr>\n",
       "      <th>107</th>\n",
       "      <td>nlp_ppdb_synonym</td>\n",
       "      <td>0.927288</td>\n",
       "      <td>7</td>\n",
       "    </tr>\n",
       "    <tr>\n",
       "      <th>323</th>\n",
       "      <td>bert</td>\n",
       "      <td>0.927054</td>\n",
       "      <td>3</td>\n",
       "    </tr>\n",
       "    <tr>\n",
       "      <th>327</th>\n",
       "      <td>bert</td>\n",
       "      <td>0.926989</td>\n",
       "      <td>7</td>\n",
       "    </tr>\n",
       "    <tr>\n",
       "      <th>77</th>\n",
       "      <td>nlp_random_word_swap</td>\n",
       "      <td>0.926952</td>\n",
       "      <td>7</td>\n",
       "    </tr>\n",
       "    <tr>\n",
       "      <th>105</th>\n",
       "      <td>nlp_ppdb_synonym</td>\n",
       "      <td>0.926914</td>\n",
       "      <td>5</td>\n",
       "    </tr>\n",
       "    <tr>\n",
       "      <th>102</th>\n",
       "      <td>nlp_ppdb_synonym</td>\n",
       "      <td>0.926868</td>\n",
       "      <td>2</td>\n",
       "    </tr>\n",
       "    <tr>\n",
       "      <th>73</th>\n",
       "      <td>nlp_random_word_swap</td>\n",
       "      <td>0.926868</td>\n",
       "      <td>3</td>\n",
       "    </tr>\n",
       "    <tr>\n",
       "      <th>197</th>\n",
       "      <td>nlp_random_contextual_word_insertion_bart_base...</td>\n",
       "      <td>0.926830</td>\n",
       "      <td>7</td>\n",
       "    </tr>\n",
       "    <tr>\n",
       "      <th>321</th>\n",
       "      <td>bert</td>\n",
       "      <td>0.926821</td>\n",
       "      <td>1</td>\n",
       "    </tr>\n",
       "    <tr>\n",
       "      <th>71</th>\n",
       "      <td>nlp_random_word_swap</td>\n",
       "      <td>0.926821</td>\n",
       "      <td>1</td>\n",
       "    </tr>\n",
       "    <tr>\n",
       "      <th>101</th>\n",
       "      <td>nlp_ppdb_synonym</td>\n",
       "      <td>0.926802</td>\n",
       "      <td>1</td>\n",
       "    </tr>\n",
       "    <tr>\n",
       "      <th>325</th>\n",
       "      <td>bert</td>\n",
       "      <td>0.926783</td>\n",
       "      <td>5</td>\n",
       "    </tr>\n",
       "    <tr>\n",
       "      <th>100</th>\n",
       "      <td>nlp_ppdb_synonym</td>\n",
       "      <td>0.926755</td>\n",
       "      <td>0</td>\n",
       "    </tr>\n",
       "    <tr>\n",
       "      <th>104</th>\n",
       "      <td>nlp_ppdb_synonym</td>\n",
       "      <td>0.926755</td>\n",
       "      <td>4</td>\n",
       "    </tr>\n",
       "    <tr>\n",
       "      <th>193</th>\n",
       "      <td>nlp_random_contextual_word_insertion_bart_base...</td>\n",
       "      <td>0.926737</td>\n",
       "      <td>3</td>\n",
       "    </tr>\n",
       "    <tr>\n",
       "      <th>106</th>\n",
       "      <td>nlp_ppdb_synonym</td>\n",
       "      <td>0.926727</td>\n",
       "      <td>6</td>\n",
       "    </tr>\n",
       "    <tr>\n",
       "      <th>322</th>\n",
       "      <td>bert</td>\n",
       "      <td>0.926718</td>\n",
       "      <td>2</td>\n",
       "    </tr>\n",
       "    <tr>\n",
       "      <th>113</th>\n",
       "      <td>nlp_antonym</td>\n",
       "      <td>0.926709</td>\n",
       "      <td>3</td>\n",
       "    </tr>\n",
       "    <tr>\n",
       "      <th>75</th>\n",
       "      <td>nlp_random_word_swap</td>\n",
       "      <td>0.926699</td>\n",
       "      <td>5</td>\n",
       "    </tr>\n",
       "    <tr>\n",
       "      <th>108</th>\n",
       "      <td>nlp_ppdb_synonym</td>\n",
       "      <td>0.926690</td>\n",
       "      <td>8</td>\n",
       "    </tr>\n",
       "    <tr>\n",
       "      <th>153</th>\n",
       "      <td>nlp_random_contextual_word_insertion_distilber...</td>\n",
       "      <td>0.926671</td>\n",
       "      <td>3</td>\n",
       "    </tr>\n",
       "    <tr>\n",
       "      <th>117</th>\n",
       "      <td>nlp_antonym</td>\n",
       "      <td>0.926671</td>\n",
       "      <td>7</td>\n",
       "    </tr>\n",
       "  </tbody>\n",
       "</table>\n",
       "</div>"
      ],
      "text/plain": [
       "                                          augmentation  accuracy  batch_num\n",
       "103                                   nlp_ppdb_synonym  0.927307          3\n",
       "107                                   nlp_ppdb_synonym  0.927288          7\n",
       "323                                               bert  0.927054          3\n",
       "327                                               bert  0.926989          7\n",
       "77                                nlp_random_word_swap  0.926952          7\n",
       "105                                   nlp_ppdb_synonym  0.926914          5\n",
       "102                                   nlp_ppdb_synonym  0.926868          2\n",
       "73                                nlp_random_word_swap  0.926868          3\n",
       "197  nlp_random_contextual_word_insertion_bart_base...  0.926830          7\n",
       "321                                               bert  0.926821          1\n",
       "71                                nlp_random_word_swap  0.926821          1\n",
       "101                                   nlp_ppdb_synonym  0.926802          1\n",
       "325                                               bert  0.926783          5\n",
       "100                                   nlp_ppdb_synonym  0.926755          0\n",
       "104                                   nlp_ppdb_synonym  0.926755          4\n",
       "193  nlp_random_contextual_word_insertion_bart_base...  0.926737          3\n",
       "106                                   nlp_ppdb_synonym  0.926727          6\n",
       "322                                               bert  0.926718          2\n",
       "113                                        nlp_antonym  0.926709          3\n",
       "75                                nlp_random_word_swap  0.926699          5\n",
       "108                                   nlp_ppdb_synonym  0.926690          8\n",
       "153  nlp_random_contextual_word_insertion_distilber...  0.926671          3\n",
       "117                                        nlp_antonym  0.926671          7"
      ]
     },
     "execution_count": 41,
     "metadata": {},
     "output_type": "execute_result"
    }
   ],
   "source": [
    "all_aug_file_paths = []\n",
    "\n",
    "all_augmentations = all_char_augmentations + all_word_augmentations + all_sentence_augmentations\n",
    "\n",
    "for sentence_aug in all_augmentations:\n",
    "    file_path = OUTPUT_PATH + \"civilcomments_ERM_predictions_optimized_params/with_bert/\" + sentence_aug + \".npy\"\n",
    "    all_aug_file_paths.append(file_path)\n",
    "    \n",
    "bert_path = OUTPUT_PATH + \"civilcomments_ERM_predictions/bert.npy\"\n",
    "all_aug_file_paths.append(bert_path)\n",
    "    \n",
    "create_accuracy_graph(all_aug_file_paths\n",
    "                     , plot_type = 'bar'\n",
    "                     , title = \"All augmentations\"\n",
    "                     , apply_threshhold = True)"
   ]
  },
  {
   "cell_type": "markdown",
   "metadata": {},
   "source": [
    "## FIGURE 4B: SINGLE-SAMPLE, SINGLE-AUGMENTATION (AMAZON)"
   ]
  },
  {
   "cell_type": "code",
   "execution_count": 35,
   "metadata": {},
   "outputs": [
    {
     "name": "stdout",
     "output_type": "stream",
     "text": [
      "nlp_ocr\n"
     ]
    },
    {
     "data": {
      "application/vnd.jupyter.widget-view+json": {
       "model_id": "41e51aab1e6a4171b88e8ca53ff20a91",
       "version_major": 2,
       "version_minor": 0
      },
      "text/plain": [
       "  0%|          | 0/10 [00:00<?, ?it/s]"
      ]
     },
     "metadata": {},
     "output_type": "display_data"
    },
    {
     "ename": "IndexError",
     "evalue": "index 366725 is out of bounds for axis 0 with size 100050",
     "output_type": "error",
     "traceback": [
      "\u001b[0;31m---------------------------------------------------------------------------\u001b[0m",
      "\u001b[0;31mIndexError\u001b[0m                                Traceback (most recent call last)",
      "\u001b[0;32m<ipython-input-35-dcaa37e3efad>\u001b[0m in \u001b[0;36m<module>\u001b[0;34m\u001b[0m\n\u001b[1;32m     10\u001b[0m create_accuracy_graph(char_aug_file_paths\n\u001b[1;32m     11\u001b[0m                      \u001b[0;34m,\u001b[0m \u001b[0mplot_type\u001b[0m \u001b[0;34m=\u001b[0m \u001b[0;34m'bar'\u001b[0m\u001b[0;34m\u001b[0m\u001b[0;34m\u001b[0m\u001b[0m\n\u001b[0;32m---> 12\u001b[0;31m                      , title = \"Character-based\")\n\u001b[0m",
      "\u001b[0;32m<ipython-input-3-a0931fdb9b84>\u001b[0m in \u001b[0;36mcreate_accuracy_graph\u001b[0;34m(augmentation_file_paths, plot_type, title, sampling_percent, num_runs, plot, apply_threshhold)\u001b[0m\n\u001b[1;32m     25\u001b[0m         \u001b[0maugmentation_name\u001b[0m \u001b[0;34m=\u001b[0m \u001b[0mfile_name\u001b[0m\u001b[0;34m.\u001b[0m\u001b[0msplit\u001b[0m\u001b[0;34m(\u001b[0m\u001b[0;34m'/'\u001b[0m\u001b[0;34m)\u001b[0m\u001b[0;34m[\u001b[0m\u001b[0;34m-\u001b[0m\u001b[0;36m1\u001b[0m\u001b[0;34m]\u001b[0m\u001b[0;34m.\u001b[0m\u001b[0msplit\u001b[0m\u001b[0;34m(\u001b[0m\u001b[0;34m'.'\u001b[0m\u001b[0;34m)\u001b[0m\u001b[0;34m[\u001b[0m\u001b[0;36m0\u001b[0m\u001b[0;34m]\u001b[0m\u001b[0;34m\u001b[0m\u001b[0;34m\u001b[0m\u001b[0m\n\u001b[1;32m     26\u001b[0m         \u001b[0mprint\u001b[0m\u001b[0;34m(\u001b[0m\u001b[0maugmentation_name\u001b[0m\u001b[0;34m)\u001b[0m\u001b[0;34m\u001b[0m\u001b[0;34m\u001b[0m\u001b[0m\n\u001b[0;32m---> 27\u001b[0;31m         \u001b[0maccuracies\u001b[0m \u001b[0;34m=\u001b[0m \u001b[0mcalculate_accuracy\u001b[0m\u001b[0;34m(\u001b[0m\u001b[0mfile_name\u001b[0m\u001b[0;34m,\u001b[0m \u001b[0msampling_percent\u001b[0m \u001b[0;34m=\u001b[0m \u001b[0msampling_percent\u001b[0m\u001b[0;34m,\u001b[0m \u001b[0mnum_runs\u001b[0m \u001b[0;34m=\u001b[0m \u001b[0mnum_runs\u001b[0m\u001b[0;34m)\u001b[0m\u001b[0;34m\u001b[0m\u001b[0;34m\u001b[0m\u001b[0m\n\u001b[0m\u001b[1;32m     28\u001b[0m \u001b[0;34m\u001b[0m\u001b[0m\n\u001b[1;32m     29\u001b[0m         \u001b[0;32mfor\u001b[0m \u001b[0mi\u001b[0m \u001b[0;32min\u001b[0m \u001b[0mrange\u001b[0m\u001b[0;34m(\u001b[0m\u001b[0mlen\u001b[0m\u001b[0;34m(\u001b[0m\u001b[0maccuracies\u001b[0m\u001b[0;34m)\u001b[0m\u001b[0;34m)\u001b[0m\u001b[0;34m:\u001b[0m\u001b[0;34m\u001b[0m\u001b[0;34m\u001b[0m\u001b[0m\n",
      "\u001b[0;32m/data/ddmg/prism/tta/work/helenl/tta_research/helenl_utils.py\u001b[0m in \u001b[0;36mcalculate_accuracy\u001b[0;34m(prediction_file, sampling_percent, num_runs)\u001b[0m\n\u001b[1;32m    385\u001b[0m \u001b[0;34m\u001b[0m\u001b[0m\n\u001b[1;32m    386\u001b[0m         \u001b[0mrand_logit_predictions\u001b[0m \u001b[0;34m=\u001b[0m \u001b[0mnp\u001b[0m\u001b[0;34m.\u001b[0m\u001b[0mtake\u001b[0m\u001b[0;34m(\u001b[0m\u001b[0mlogit_predictions\u001b[0m\u001b[0;34m,\u001b[0m \u001b[0mrandom_indices\u001b[0m\u001b[0;34m,\u001b[0m \u001b[0maxis\u001b[0m \u001b[0;34m=\u001b[0m \u001b[0;36m0\u001b[0m\u001b[0;34m)\u001b[0m\u001b[0;34m\u001b[0m\u001b[0;34m\u001b[0m\u001b[0m\n\u001b[0;32m--> 387\u001b[0;31m         \u001b[0mmatching_labels\u001b[0m \u001b[0;34m=\u001b[0m \u001b[0mnp\u001b[0m\u001b[0;34m.\u001b[0m\u001b[0mtake\u001b[0m\u001b[0;34m(\u001b[0m\u001b[0mlabels\u001b[0m\u001b[0;34m,\u001b[0m \u001b[0mrandom_indices\u001b[0m\u001b[0;34m)\u001b[0m\u001b[0;34m\u001b[0m\u001b[0;34m\u001b[0m\u001b[0m\n\u001b[0m\u001b[1;32m    388\u001b[0m         \u001b[0;31m#print(\"labels_length\", len(matching_labels))\u001b[0m\u001b[0;34m\u001b[0m\u001b[0;34m\u001b[0m\u001b[0;34m\u001b[0m\u001b[0m\n\u001b[1;32m    389\u001b[0m         \u001b[0;31m#print(\"samples_length\", rand_logit_predictions[0])\u001b[0m\u001b[0;34m\u001b[0m\u001b[0;34m\u001b[0m\u001b[0;34m\u001b[0m\u001b[0m\n",
      "\u001b[0;32m<__array_function__ internals>\u001b[0m in \u001b[0;36mtake\u001b[0;34m(*args, **kwargs)\u001b[0m\n",
      "\u001b[0;32m/local/helenl/.conda/envs/tta/lib/python3.6/site-packages/numpy/core/fromnumeric.py\u001b[0m in \u001b[0;36mtake\u001b[0;34m(a, indices, axis, out, mode)\u001b[0m\n\u001b[1;32m    189\u001b[0m            [5, 7]])\n\u001b[1;32m    190\u001b[0m     \"\"\"\n\u001b[0;32m--> 191\u001b[0;31m     \u001b[0;32mreturn\u001b[0m \u001b[0m_wrapfunc\u001b[0m\u001b[0;34m(\u001b[0m\u001b[0ma\u001b[0m\u001b[0;34m,\u001b[0m \u001b[0;34m'take'\u001b[0m\u001b[0;34m,\u001b[0m \u001b[0mindices\u001b[0m\u001b[0;34m,\u001b[0m \u001b[0maxis\u001b[0m\u001b[0;34m=\u001b[0m\u001b[0maxis\u001b[0m\u001b[0;34m,\u001b[0m \u001b[0mout\u001b[0m\u001b[0;34m=\u001b[0m\u001b[0mout\u001b[0m\u001b[0;34m,\u001b[0m \u001b[0mmode\u001b[0m\u001b[0;34m=\u001b[0m\u001b[0mmode\u001b[0m\u001b[0;34m)\u001b[0m\u001b[0;34m\u001b[0m\u001b[0;34m\u001b[0m\u001b[0m\n\u001b[0m\u001b[1;32m    192\u001b[0m \u001b[0;34m\u001b[0m\u001b[0m\n\u001b[1;32m    193\u001b[0m \u001b[0;34m\u001b[0m\u001b[0m\n",
      "\u001b[0;32m/local/helenl/.conda/envs/tta/lib/python3.6/site-packages/numpy/core/fromnumeric.py\u001b[0m in \u001b[0;36m_wrapfunc\u001b[0;34m(obj, method, *args, **kwds)\u001b[0m\n\u001b[1;32m     56\u001b[0m \u001b[0;34m\u001b[0m\u001b[0m\n\u001b[1;32m     57\u001b[0m     \u001b[0;32mtry\u001b[0m\u001b[0;34m:\u001b[0m\u001b[0;34m\u001b[0m\u001b[0;34m\u001b[0m\u001b[0m\n\u001b[0;32m---> 58\u001b[0;31m         \u001b[0;32mreturn\u001b[0m \u001b[0mbound\u001b[0m\u001b[0;34m(\u001b[0m\u001b[0;34m*\u001b[0m\u001b[0margs\u001b[0m\u001b[0;34m,\u001b[0m \u001b[0;34m**\u001b[0m\u001b[0mkwds\u001b[0m\u001b[0;34m)\u001b[0m\u001b[0;34m\u001b[0m\u001b[0;34m\u001b[0m\u001b[0m\n\u001b[0m\u001b[1;32m     59\u001b[0m     \u001b[0;32mexcept\u001b[0m \u001b[0mTypeError\u001b[0m\u001b[0;34m:\u001b[0m\u001b[0;34m\u001b[0m\u001b[0;34m\u001b[0m\u001b[0m\n\u001b[1;32m     60\u001b[0m         \u001b[0;31m# A TypeError occurs if the object does have such a method in its\u001b[0m\u001b[0;34m\u001b[0m\u001b[0;34m\u001b[0m\u001b[0;34m\u001b[0m\u001b[0m\n",
      "\u001b[0;31mIndexError\u001b[0m: index 366725 is out of bounds for axis 0 with size 100050"
     ]
    }
   ],
   "source": [
    "char_aug_file_paths = []\n",
    "\n",
    "for char_aug in all_char_augmentations:\n",
    "    file_path = OUTPUT_PATH + \"amazon_ERM_predictions_optimized_params/with_bert/\" + char_aug + \".npy\"\n",
    "    char_aug_file_paths.append(file_path)\n",
    "    \n",
    "bert_path = OUTPUT_PATH + \"amazon_ERM_predictions_optimized_params/bert.npy\"\n",
    "char_aug_file_paths.append(bert_path)\n",
    "    \n",
    "create_accuracy_graph(char_aug_file_paths\n",
    "                     , plot_type = 'bar'\n",
    "                     , title = \"Character-based\")"
   ]
  },
  {
   "cell_type": "code",
   "execution_count": 36,
   "metadata": {},
   "outputs": [
    {
     "name": "stdout",
     "output_type": "stream",
     "text": [
      "nlp_random_word_swap\n"
     ]
    },
    {
     "ename": "FileNotFoundError",
     "evalue": "[Errno 2] No such file or directory: '/data/ddmg/prism/tta/outputs/amazon_ERM_predictions_optimized_params/with_bert/nlp_random_word_swap.npy'",
     "output_type": "error",
     "traceback": [
      "\u001b[0;31m---------------------------------------------------------------------------\u001b[0m",
      "\u001b[0;31mFileNotFoundError\u001b[0m                         Traceback (most recent call last)",
      "\u001b[0;32m<ipython-input-36-c586401f974b>\u001b[0m in \u001b[0;36m<module>\u001b[0;34m\u001b[0m\n\u001b[1;32m     10\u001b[0m create_accuracy_graph(word_aug_file_paths\n\u001b[1;32m     11\u001b[0m                      \u001b[0;34m,\u001b[0m \u001b[0mplot_type\u001b[0m \u001b[0;34m=\u001b[0m \u001b[0;34m'bar'\u001b[0m\u001b[0;34m\u001b[0m\u001b[0;34m\u001b[0m\u001b[0m\n\u001b[0;32m---> 12\u001b[0;31m                      , title = \"Character-based\")\n\u001b[0m",
      "\u001b[0;32m<ipython-input-3-a0931fdb9b84>\u001b[0m in \u001b[0;36mcreate_accuracy_graph\u001b[0;34m(augmentation_file_paths, plot_type, title, sampling_percent, num_runs, plot, apply_threshhold)\u001b[0m\n\u001b[1;32m     25\u001b[0m         \u001b[0maugmentation_name\u001b[0m \u001b[0;34m=\u001b[0m \u001b[0mfile_name\u001b[0m\u001b[0;34m.\u001b[0m\u001b[0msplit\u001b[0m\u001b[0;34m(\u001b[0m\u001b[0;34m'/'\u001b[0m\u001b[0;34m)\u001b[0m\u001b[0;34m[\u001b[0m\u001b[0;34m-\u001b[0m\u001b[0;36m1\u001b[0m\u001b[0;34m]\u001b[0m\u001b[0;34m.\u001b[0m\u001b[0msplit\u001b[0m\u001b[0;34m(\u001b[0m\u001b[0;34m'.'\u001b[0m\u001b[0;34m)\u001b[0m\u001b[0;34m[\u001b[0m\u001b[0;36m0\u001b[0m\u001b[0;34m]\u001b[0m\u001b[0;34m\u001b[0m\u001b[0;34m\u001b[0m\u001b[0m\n\u001b[1;32m     26\u001b[0m         \u001b[0mprint\u001b[0m\u001b[0;34m(\u001b[0m\u001b[0maugmentation_name\u001b[0m\u001b[0;34m)\u001b[0m\u001b[0;34m\u001b[0m\u001b[0;34m\u001b[0m\u001b[0m\n\u001b[0;32m---> 27\u001b[0;31m         \u001b[0maccuracies\u001b[0m \u001b[0;34m=\u001b[0m \u001b[0mcalculate_accuracy\u001b[0m\u001b[0;34m(\u001b[0m\u001b[0mfile_name\u001b[0m\u001b[0;34m,\u001b[0m \u001b[0msampling_percent\u001b[0m \u001b[0;34m=\u001b[0m \u001b[0msampling_percent\u001b[0m\u001b[0;34m,\u001b[0m \u001b[0mnum_runs\u001b[0m \u001b[0;34m=\u001b[0m \u001b[0mnum_runs\u001b[0m\u001b[0;34m)\u001b[0m\u001b[0;34m\u001b[0m\u001b[0;34m\u001b[0m\u001b[0m\n\u001b[0m\u001b[1;32m     28\u001b[0m \u001b[0;34m\u001b[0m\u001b[0m\n\u001b[1;32m     29\u001b[0m         \u001b[0;32mfor\u001b[0m \u001b[0mi\u001b[0m \u001b[0;32min\u001b[0m \u001b[0mrange\u001b[0m\u001b[0;34m(\u001b[0m\u001b[0mlen\u001b[0m\u001b[0;34m(\u001b[0m\u001b[0maccuracies\u001b[0m\u001b[0;34m)\u001b[0m\u001b[0;34m)\u001b[0m\u001b[0;34m:\u001b[0m\u001b[0;34m\u001b[0m\u001b[0;34m\u001b[0m\u001b[0m\n",
      "\u001b[0;32m/data/ddmg/prism/tta/work/helenl/tta_research/helenl_utils.py\u001b[0m in \u001b[0;36mcalculate_accuracy\u001b[0;34m(prediction_file, sampling_percent, num_runs)\u001b[0m\n\u001b[1;32m    368\u001b[0m     \u001b[0mlabels\u001b[0m \u001b[0;34m=\u001b[0m \u001b[0;34m[\u001b[0m\u001b[0;34m]\u001b[0m\u001b[0;34m\u001b[0m\u001b[0;34m\u001b[0m\u001b[0m\n\u001b[1;32m    369\u001b[0m \u001b[0;34m\u001b[0m\u001b[0m\n\u001b[0;32m--> 370\u001b[0;31m     \u001b[0;32mwith\u001b[0m \u001b[0mopen\u001b[0m\u001b[0;34m(\u001b[0m\u001b[0mprediction_file\u001b[0m\u001b[0;34m,\u001b[0m \u001b[0;34m'rb'\u001b[0m\u001b[0;34m)\u001b[0m \u001b[0;32mas\u001b[0m \u001b[0mfile\u001b[0m\u001b[0;34m:\u001b[0m\u001b[0;34m\u001b[0m\u001b[0;34m\u001b[0m\u001b[0m\n\u001b[0m\u001b[1;32m    371\u001b[0m         \u001b[0mlogit_predictions\u001b[0m \u001b[0;34m=\u001b[0m \u001b[0mnp\u001b[0m\u001b[0;34m.\u001b[0m\u001b[0mload\u001b[0m\u001b[0;34m(\u001b[0m\u001b[0mfile\u001b[0m\u001b[0;34m,\u001b[0m \u001b[0mallow_pickle\u001b[0m \u001b[0;34m=\u001b[0m \u001b[0;32mTrue\u001b[0m\u001b[0;34m)\u001b[0m\u001b[0;34m\u001b[0m\u001b[0;34m\u001b[0m\u001b[0m\n\u001b[1;32m    372\u001b[0m         \u001b[0mlabels\u001b[0m \u001b[0;34m=\u001b[0m \u001b[0mnp\u001b[0m\u001b[0;34m.\u001b[0m\u001b[0mload\u001b[0m\u001b[0;34m(\u001b[0m\u001b[0mfile\u001b[0m\u001b[0;34m,\u001b[0m \u001b[0mallow_pickle\u001b[0m \u001b[0;34m=\u001b[0m \u001b[0;32mTrue\u001b[0m\u001b[0;34m)\u001b[0m\u001b[0;34m\u001b[0m\u001b[0;34m\u001b[0m\u001b[0m\n",
      "\u001b[0;31mFileNotFoundError\u001b[0m: [Errno 2] No such file or directory: '/data/ddmg/prism/tta/outputs/amazon_ERM_predictions_optimized_params/with_bert/nlp_random_word_swap.npy'"
     ]
    }
   ],
   "source": [
    "word_aug_file_paths = []\n",
    "\n",
    "for word_aug in all_word_augmentations:\n",
    "    file_path = OUTPUT_PATH + \"amazon_ERM_predictions_optimized_params/with_bert/\" + word_aug + \".npy\"\n",
    "    word_aug_file_paths.append(file_path)\n",
    "    \n",
    "bert_path = OUTPUT_PATH + \"amazon_ERM_predictions_optimized_params/bert.npy\"\n",
    "word_aug_file_paths.append(bert_path)\n",
    "    \n",
    "create_accuracy_graph(word_aug_file_paths\n",
    "                     , plot_type = 'bar'\n",
    "                     , title = \"Character-based\")"
   ]
  },
  {
   "cell_type": "code",
   "execution_count": 44,
   "metadata": {},
   "outputs": [
    {
     "name": "stdout",
     "output_type": "stream",
     "text": [
      "nlp_wordnet_synonym\n"
     ]
    },
    {
     "data": {
      "application/vnd.jupyter.widget-view+json": {
       "model_id": "d4d1790f0c994a04927ed68100490d2d",
       "version_major": 2,
       "version_minor": 0
      },
      "text/plain": [
       "  0%|          | 0/10 [00:00<?, ?it/s]"
      ]
     },
     "metadata": {},
     "output_type": "display_data"
    },
    {
     "ename": "IndexError",
     "evalue": "index 366725 is out of bounds for axis 0 with size 100050",
     "output_type": "error",
     "traceback": [
      "\u001b[0;31m---------------------------------------------------------------------------\u001b[0m",
      "\u001b[0;31mIndexError\u001b[0m                                Traceback (most recent call last)",
      "\u001b[0;32m<ipython-input-44-377a6fd5db5f>\u001b[0m in \u001b[0;36m<module>\u001b[0;34m\u001b[0m\n\u001b[1;32m     12\u001b[0m                      \u001b[0;34m,\u001b[0m \u001b[0mplot_type\u001b[0m \u001b[0;34m=\u001b[0m \u001b[0;34m'bar'\u001b[0m\u001b[0;34m\u001b[0m\u001b[0;34m\u001b[0m\u001b[0m\n\u001b[1;32m     13\u001b[0m                      \u001b[0;34m,\u001b[0m \u001b[0mtitle\u001b[0m \u001b[0;34m=\u001b[0m \u001b[0;34m\"All augmentations\"\u001b[0m\u001b[0;34m\u001b[0m\u001b[0;34m\u001b[0m\u001b[0m\n\u001b[0;32m---> 14\u001b[0;31m                      , apply_threshhold = False)\n\u001b[0m",
      "\u001b[0;32m<ipython-input-29-a0931fdb9b84>\u001b[0m in \u001b[0;36mcreate_accuracy_graph\u001b[0;34m(augmentation_file_paths, plot_type, title, sampling_percent, num_runs, plot, apply_threshhold)\u001b[0m\n\u001b[1;32m     25\u001b[0m         \u001b[0maugmentation_name\u001b[0m \u001b[0;34m=\u001b[0m \u001b[0mfile_name\u001b[0m\u001b[0;34m.\u001b[0m\u001b[0msplit\u001b[0m\u001b[0;34m(\u001b[0m\u001b[0;34m'/'\u001b[0m\u001b[0;34m)\u001b[0m\u001b[0;34m[\u001b[0m\u001b[0;34m-\u001b[0m\u001b[0;36m1\u001b[0m\u001b[0;34m]\u001b[0m\u001b[0;34m.\u001b[0m\u001b[0msplit\u001b[0m\u001b[0;34m(\u001b[0m\u001b[0;34m'.'\u001b[0m\u001b[0;34m)\u001b[0m\u001b[0;34m[\u001b[0m\u001b[0;36m0\u001b[0m\u001b[0;34m]\u001b[0m\u001b[0;34m\u001b[0m\u001b[0;34m\u001b[0m\u001b[0m\n\u001b[1;32m     26\u001b[0m         \u001b[0mprint\u001b[0m\u001b[0;34m(\u001b[0m\u001b[0maugmentation_name\u001b[0m\u001b[0;34m)\u001b[0m\u001b[0;34m\u001b[0m\u001b[0;34m\u001b[0m\u001b[0m\n\u001b[0;32m---> 27\u001b[0;31m         \u001b[0maccuracies\u001b[0m \u001b[0;34m=\u001b[0m \u001b[0mcalculate_accuracy\u001b[0m\u001b[0;34m(\u001b[0m\u001b[0mfile_name\u001b[0m\u001b[0;34m,\u001b[0m \u001b[0msampling_percent\u001b[0m \u001b[0;34m=\u001b[0m \u001b[0msampling_percent\u001b[0m\u001b[0;34m,\u001b[0m \u001b[0mnum_runs\u001b[0m \u001b[0;34m=\u001b[0m \u001b[0mnum_runs\u001b[0m\u001b[0;34m)\u001b[0m\u001b[0;34m\u001b[0m\u001b[0;34m\u001b[0m\u001b[0m\n\u001b[0m\u001b[1;32m     28\u001b[0m \u001b[0;34m\u001b[0m\u001b[0m\n\u001b[1;32m     29\u001b[0m         \u001b[0;32mfor\u001b[0m \u001b[0mi\u001b[0m \u001b[0;32min\u001b[0m \u001b[0mrange\u001b[0m\u001b[0;34m(\u001b[0m\u001b[0mlen\u001b[0m\u001b[0;34m(\u001b[0m\u001b[0maccuracies\u001b[0m\u001b[0;34m)\u001b[0m\u001b[0;34m)\u001b[0m\u001b[0;34m:\u001b[0m\u001b[0;34m\u001b[0m\u001b[0;34m\u001b[0m\u001b[0m\n",
      "\u001b[0;32m/data/ddmg/prism/tta/work/helenl/tta_research/helenl_utils.py\u001b[0m in \u001b[0;36mcalculate_accuracy\u001b[0;34m(prediction_file, sampling_percent, num_runs)\u001b[0m\n\u001b[1;32m    382\u001b[0m \u001b[0;34m\u001b[0m\u001b[0m\n\u001b[1;32m    383\u001b[0m         \u001b[0mrand_logit_predictions\u001b[0m \u001b[0;34m=\u001b[0m \u001b[0mnp\u001b[0m\u001b[0;34m.\u001b[0m\u001b[0mtake\u001b[0m\u001b[0;34m(\u001b[0m\u001b[0mlogit_predictions\u001b[0m\u001b[0;34m,\u001b[0m \u001b[0mrandom_indices\u001b[0m\u001b[0;34m,\u001b[0m \u001b[0maxis\u001b[0m \u001b[0;34m=\u001b[0m \u001b[0;36m0\u001b[0m\u001b[0;34m)\u001b[0m\u001b[0;34m\u001b[0m\u001b[0;34m\u001b[0m\u001b[0m\n\u001b[0;32m--> 384\u001b[0;31m         \u001b[0mmatching_labels\u001b[0m \u001b[0;34m=\u001b[0m \u001b[0mnp\u001b[0m\u001b[0;34m.\u001b[0m\u001b[0mtake\u001b[0m\u001b[0;34m(\u001b[0m\u001b[0mlabels\u001b[0m\u001b[0;34m,\u001b[0m \u001b[0mrandom_indices\u001b[0m\u001b[0;34m)\u001b[0m\u001b[0;34m\u001b[0m\u001b[0;34m\u001b[0m\u001b[0m\n\u001b[0m\u001b[1;32m    385\u001b[0m         \u001b[0;31m#print(\"labels_length\", len(matching_labels))\u001b[0m\u001b[0;34m\u001b[0m\u001b[0;34m\u001b[0m\u001b[0;34m\u001b[0m\u001b[0m\n\u001b[1;32m    386\u001b[0m         \u001b[0;31m#print(\"samples_length\", rand_logit_predictions[0])\u001b[0m\u001b[0;34m\u001b[0m\u001b[0;34m\u001b[0m\u001b[0;34m\u001b[0m\u001b[0m\n",
      "\u001b[0;32m<__array_function__ internals>\u001b[0m in \u001b[0;36mtake\u001b[0;34m(*args, **kwargs)\u001b[0m\n",
      "\u001b[0;32m/local/helenl/.conda/envs/tta/lib/python3.6/site-packages/numpy/core/fromnumeric.py\u001b[0m in \u001b[0;36mtake\u001b[0;34m(a, indices, axis, out, mode)\u001b[0m\n\u001b[1;32m    189\u001b[0m            [5, 7]])\n\u001b[1;32m    190\u001b[0m     \"\"\"\n\u001b[0;32m--> 191\u001b[0;31m     \u001b[0;32mreturn\u001b[0m \u001b[0m_wrapfunc\u001b[0m\u001b[0;34m(\u001b[0m\u001b[0ma\u001b[0m\u001b[0;34m,\u001b[0m \u001b[0;34m'take'\u001b[0m\u001b[0;34m,\u001b[0m \u001b[0mindices\u001b[0m\u001b[0;34m,\u001b[0m \u001b[0maxis\u001b[0m\u001b[0;34m=\u001b[0m\u001b[0maxis\u001b[0m\u001b[0;34m,\u001b[0m \u001b[0mout\u001b[0m\u001b[0;34m=\u001b[0m\u001b[0mout\u001b[0m\u001b[0;34m,\u001b[0m \u001b[0mmode\u001b[0m\u001b[0;34m=\u001b[0m\u001b[0mmode\u001b[0m\u001b[0;34m)\u001b[0m\u001b[0;34m\u001b[0m\u001b[0;34m\u001b[0m\u001b[0m\n\u001b[0m\u001b[1;32m    192\u001b[0m \u001b[0;34m\u001b[0m\u001b[0m\n\u001b[1;32m    193\u001b[0m \u001b[0;34m\u001b[0m\u001b[0m\n",
      "\u001b[0;32m/local/helenl/.conda/envs/tta/lib/python3.6/site-packages/numpy/core/fromnumeric.py\u001b[0m in \u001b[0;36m_wrapfunc\u001b[0;34m(obj, method, *args, **kwds)\u001b[0m\n\u001b[1;32m     56\u001b[0m \u001b[0;34m\u001b[0m\u001b[0m\n\u001b[1;32m     57\u001b[0m     \u001b[0;32mtry\u001b[0m\u001b[0;34m:\u001b[0m\u001b[0;34m\u001b[0m\u001b[0;34m\u001b[0m\u001b[0m\n\u001b[0;32m---> 58\u001b[0;31m         \u001b[0;32mreturn\u001b[0m \u001b[0mbound\u001b[0m\u001b[0;34m(\u001b[0m\u001b[0;34m*\u001b[0m\u001b[0margs\u001b[0m\u001b[0;34m,\u001b[0m \u001b[0;34m**\u001b[0m\u001b[0mkwds\u001b[0m\u001b[0;34m)\u001b[0m\u001b[0;34m\u001b[0m\u001b[0;34m\u001b[0m\u001b[0m\n\u001b[0m\u001b[1;32m     59\u001b[0m     \u001b[0;32mexcept\u001b[0m \u001b[0mTypeError\u001b[0m\u001b[0;34m:\u001b[0m\u001b[0;34m\u001b[0m\u001b[0;34m\u001b[0m\u001b[0m\n\u001b[1;32m     60\u001b[0m         \u001b[0;31m# A TypeError occurs if the object does have such a method in its\u001b[0m\u001b[0;34m\u001b[0m\u001b[0;34m\u001b[0m\u001b[0;34m\u001b[0m\u001b[0m\n",
      "\u001b[0;31mIndexError\u001b[0m: index 366725 is out of bounds for axis 0 with size 100050"
     ]
    }
   ],
   "source": [
    "all_aug_file_paths = []\n",
    "\n",
    "amazon_file_paths = OUTPUT_PATH + \"amazon_ERM_predictions_optimized_params/with_bert/\"\n",
    "\n",
    "amazon_aug_file_paths = os.listdir(amazon_file_paths)\n",
    "\n",
    "for aug in amazon_aug_file_paths:\n",
    "    file_path = OUTPUT_PATH + \"amazon_ERM_predictions_optimized_params/with_bert/\" + aug\n",
    "    all_aug_file_paths.append(file_path)\n",
    "    \n",
    "create_accuracy_graph(all_aug_file_paths\n",
    "                     , plot_type = 'bar'\n",
    "                     , title = \"All augmentations\"\n",
    "                     , apply_threshhold = False)"
   ]
  },
  {
   "cell_type": "markdown",
   "metadata": {},
   "source": [
    "## FIGURE 5A: SINGLE-SAMPLE, MULTI-AUGMENTATION (CIVILCOMMENTS)"
   ]
  },
  {
   "cell_type": "code",
   "execution_count": 6,
   "metadata": {
    "scrolled": true
   },
   "outputs": [
    {
     "name": "stdout",
     "output_type": "stream",
     "text": [
      "30\n"
     ]
    },
    {
     "data": {
      "application/vnd.jupyter.widget-view+json": {
       "model_id": "320361ebd40d48ce946e3578579b57c0",
       "version_major": 2,
       "version_minor": 0
      },
      "text/plain": [
       "  0%|          | 0/1 [00:00<?, ?it/s]"
      ]
     },
     "metadata": {},
     "output_type": "display_data"
    },
    {
     "name": "stdout",
     "output_type": "stream",
     "text": [
      "7\n"
     ]
    },
    {
     "data": {
      "application/vnd.jupyter.widget-view+json": {
       "model_id": "a2fcf94f178f4cf1b95f78e7d3e67de7",
       "version_major": 2,
       "version_minor": 0
      },
      "text/plain": [
       "  0%|          | 0/1 [00:00<?, ?it/s]"
      ]
     },
     "metadata": {},
     "output_type": "display_data"
    },
    {
     "name": "stdout",
     "output_type": "stream",
     "text": [
      "9\n"
     ]
    },
    {
     "data": {
      "application/vnd.jupyter.widget-view+json": {
       "model_id": "993d1598003742649303aa73fe40a86f",
       "version_major": 2,
       "version_minor": 0
      },
      "text/plain": [
       "  0%|          | 0/1 [00:00<?, ?it/s]"
      ]
     },
     "metadata": {},
     "output_type": "display_data"
    },
    {
     "name": "stdout",
     "output_type": "stream",
     "text": [
      "14\n"
     ]
    },
    {
     "data": {
      "application/vnd.jupyter.widget-view+json": {
       "model_id": "862ce7750b1741fb88461c05b952af2c",
       "version_major": 2,
       "version_minor": 0
      },
      "text/plain": [
       "  0%|          | 0/1 [00:00<?, ?it/s]"
      ]
     },
     "metadata": {},
     "output_type": "display_data"
    },
    {
     "name": "stdout",
     "output_type": "stream",
     "text": [
      "13\n"
     ]
    },
    {
     "data": {
      "application/vnd.jupyter.widget-view+json": {
       "model_id": "80fa8e91e33e427786062bbec207c0bf",
       "version_major": 2,
       "version_minor": 0
      },
      "text/plain": [
       "  0%|          | 0/1 [00:00<?, ?it/s]"
      ]
     },
     "metadata": {},
     "output_type": "display_data"
    },
    {
     "name": "stdout",
     "output_type": "stream",
     "text": [
      "28\n"
     ]
    },
    {
     "data": {
      "application/vnd.jupyter.widget-view+json": {
       "model_id": "0e5d6f4298ce4abda1644e6e190c1ae6",
       "version_major": 2,
       "version_minor": 0
      },
      "text/plain": [
       "  0%|          | 0/1 [00:00<?, ?it/s]"
      ]
     },
     "metadata": {},
     "output_type": "display_data"
    },
    {
     "name": "stdout",
     "output_type": "stream",
     "text": [
      "26\n"
     ]
    },
    {
     "data": {
      "application/vnd.jupyter.widget-view+json": {
       "model_id": "e878d91b97b64009b70ea5f2bcb0466e",
       "version_major": 2,
       "version_minor": 0
      },
      "text/plain": [
       "  0%|          | 0/1 [00:00<?, ?it/s]"
      ]
     },
     "metadata": {},
     "output_type": "display_data"
    },
    {
     "name": "stdout",
     "output_type": "stream",
     "text": [
      "21\n"
     ]
    },
    {
     "data": {
      "application/vnd.jupyter.widget-view+json": {
       "model_id": "95d299452cb943fc9982fec402877335",
       "version_major": 2,
       "version_minor": 0
      },
      "text/plain": [
       "  0%|          | 0/1 [00:00<?, ?it/s]"
      ]
     },
     "metadata": {},
     "output_type": "display_data"
    },
    {
     "name": "stdout",
     "output_type": "stream",
     "text": [
      "8\n"
     ]
    },
    {
     "data": {
      "application/vnd.jupyter.widget-view+json": {
       "model_id": "c5b0ce90acde46348b2214c0c062f0ab",
       "version_major": 2,
       "version_minor": 0
      },
      "text/plain": [
       "  0%|          | 0/1 [00:00<?, ?it/s]"
      ]
     },
     "metadata": {},
     "output_type": "display_data"
    },
    {
     "name": "stdout",
     "output_type": "stream",
     "text": [
      "1\n"
     ]
    },
    {
     "data": {
      "application/vnd.jupyter.widget-view+json": {
       "model_id": "df1148fa9c7a4ec48d3eb28fefac3c2f",
       "version_major": 2,
       "version_minor": 0
      },
      "text/plain": [
       "  0%|          | 0/1 [00:00<?, ?it/s]"
      ]
     },
     "metadata": {},
     "output_type": "display_data"
    },
    {
     "name": "stdout",
     "output_type": "stream",
     "text": [
      "6\n"
     ]
    },
    {
     "data": {
      "application/vnd.jupyter.widget-view+json": {
       "model_id": "b6375ddcbc464ba4a5165e6e3a0dfd97",
       "version_major": 2,
       "version_minor": 0
      },
      "text/plain": [
       "  0%|          | 0/1 [00:00<?, ?it/s]"
      ]
     },
     "metadata": {},
     "output_type": "display_data"
    },
    {
     "name": "stdout",
     "output_type": "stream",
     "text": [
      "31\n"
     ]
    },
    {
     "data": {
      "application/vnd.jupyter.widget-view+json": {
       "model_id": "e1dacfc885f24df7afb84317ba5d4d87",
       "version_major": 2,
       "version_minor": 0
      },
      "text/plain": [
       "  0%|          | 0/1 [00:00<?, ?it/s]"
      ]
     },
     "metadata": {},
     "output_type": "display_data"
    },
    {
     "name": "stdout",
     "output_type": "stream",
     "text": [
      "20\n"
     ]
    },
    {
     "data": {
      "application/vnd.jupyter.widget-view+json": {
       "model_id": "4081bf8ebd15462bb0b1c6c71e20aa0d",
       "version_major": 2,
       "version_minor": 0
      },
      "text/plain": [
       "  0%|          | 0/1 [00:00<?, ?it/s]"
      ]
     },
     "metadata": {},
     "output_type": "display_data"
    },
    {
     "name": "stdout",
     "output_type": "stream",
     "text": [
      "27\n"
     ]
    },
    {
     "data": {
      "application/vnd.jupyter.widget-view+json": {
       "model_id": "cf2d3191b2594aee9f162492e79ec8c8",
       "version_major": 2,
       "version_minor": 0
      },
      "text/plain": [
       "  0%|          | 0/1 [00:00<?, ?it/s]"
      ]
     },
     "metadata": {},
     "output_type": "display_data"
    },
    {
     "name": "stdout",
     "output_type": "stream",
     "text": [
      "29\n"
     ]
    },
    {
     "data": {
      "application/vnd.jupyter.widget-view+json": {
       "model_id": "a0bdf8f1010d44b89f6e3f59b1181e94",
       "version_major": 2,
       "version_minor": 0
      },
      "text/plain": [
       "  0%|          | 0/1 [00:00<?, ?it/s]"
      ]
     },
     "metadata": {},
     "output_type": "display_data"
    },
    {
     "name": "stdout",
     "output_type": "stream",
     "text": [
      "12\n"
     ]
    },
    {
     "data": {
      "application/vnd.jupyter.widget-view+json": {
       "model_id": "8a9946957c5f4c2d9e852b3145b228fe",
       "version_major": 2,
       "version_minor": 0
      },
      "text/plain": [
       "  0%|          | 0/1 [00:00<?, ?it/s]"
      ]
     },
     "metadata": {},
     "output_type": "display_data"
    },
    {
     "name": "stdout",
     "output_type": "stream",
     "text": [
      "15\n"
     ]
    },
    {
     "data": {
      "application/vnd.jupyter.widget-view+json": {
       "model_id": "9566a8af2c8d402cacfb0b37d586501c",
       "version_major": 2,
       "version_minor": 0
      },
      "text/plain": [
       "  0%|          | 0/1 [00:00<?, ?it/s]"
      ]
     },
     "metadata": {},
     "output_type": "display_data"
    },
    {
     "name": "stdout",
     "output_type": "stream",
     "text": [
      "24\n"
     ]
    },
    {
     "data": {
      "application/vnd.jupyter.widget-view+json": {
       "model_id": "eebdf78053c343adb5a4d76c90229a2b",
       "version_major": 2,
       "version_minor": 0
      },
      "text/plain": [
       "  0%|          | 0/1 [00:00<?, ?it/s]"
      ]
     },
     "metadata": {},
     "output_type": "display_data"
    },
    {
     "name": "stdout",
     "output_type": "stream",
     "text": [
      "23\n"
     ]
    },
    {
     "data": {
      "application/vnd.jupyter.widget-view+json": {
       "model_id": "a58de3cf62bd4d3e934d8ed0bf07475d",
       "version_major": 2,
       "version_minor": 0
      },
      "text/plain": [
       "  0%|          | 0/1 [00:00<?, ?it/s]"
      ]
     },
     "metadata": {},
     "output_type": "display_data"
    },
    {
     "name": "stdout",
     "output_type": "stream",
     "text": [
      "18\n"
     ]
    },
    {
     "data": {
      "application/vnd.jupyter.widget-view+json": {
       "model_id": "76583cf34cde4fffa4250df72773b877",
       "version_major": 2,
       "version_minor": 0
      },
      "text/plain": [
       "  0%|          | 0/1 [00:00<?, ?it/s]"
      ]
     },
     "metadata": {},
     "output_type": "display_data"
    },
    {
     "name": "stdout",
     "output_type": "stream",
     "text": [
      "16\n"
     ]
    },
    {
     "data": {
      "application/vnd.jupyter.widget-view+json": {
       "model_id": "9b8198a7991b423e861c54a34770923c",
       "version_major": 2,
       "version_minor": 0
      },
      "text/plain": [
       "  0%|          | 0/1 [00:00<?, ?it/s]"
      ]
     },
     "metadata": {},
     "output_type": "display_data"
    },
    {
     "name": "stdout",
     "output_type": "stream",
     "text": [
      "11\n"
     ]
    },
    {
     "data": {
      "application/vnd.jupyter.widget-view+json": {
       "model_id": "dad9b20a305741bfa4c9fda9ec7b7cf5",
       "version_major": 2,
       "version_minor": 0
      },
      "text/plain": [
       "  0%|          | 0/1 [00:00<?, ?it/s]"
      ]
     },
     "metadata": {},
     "output_type": "display_data"
    },
    {
     "name": "stdout",
     "output_type": "stream",
     "text": [
      "5\n"
     ]
    },
    {
     "data": {
      "application/vnd.jupyter.widget-view+json": {
       "model_id": "f34740bb1f254659bdb0b50a4a1635a5",
       "version_major": 2,
       "version_minor": 0
      },
      "text/plain": [
       "  0%|          | 0/1 [00:00<?, ?it/s]"
      ]
     },
     "metadata": {},
     "output_type": "display_data"
    },
    {
     "name": "stdout",
     "output_type": "stream",
     "text": [
      "2\n"
     ]
    },
    {
     "data": {
      "application/vnd.jupyter.widget-view+json": {
       "model_id": "19c2c04aba704c299826380840f68147",
       "version_major": 2,
       "version_minor": 0
      },
      "text/plain": [
       "  0%|          | 0/1 [00:00<?, ?it/s]"
      ]
     },
     "metadata": {},
     "output_type": "display_data"
    },
    {
     "name": "stdout",
     "output_type": "stream",
     "text": [
      "32\n"
     ]
    },
    {
     "data": {
      "application/vnd.jupyter.widget-view+json": {
       "model_id": "63662927b9e0485b9dc4216c8fde0110",
       "version_major": 2,
       "version_minor": 0
      },
      "text/plain": [
       "  0%|          | 0/1 [00:00<?, ?it/s]"
      ]
     },
     "metadata": {},
     "output_type": "display_data"
    },
    {
     "name": "stdout",
     "output_type": "stream",
     "text": [
      "35\n"
     ]
    },
    {
     "data": {
      "application/vnd.jupyter.widget-view+json": {
       "model_id": "b61232efc8af4625bf901c1c6adf5626",
       "version_major": 2,
       "version_minor": 0
      },
      "text/plain": [
       "  0%|          | 0/1 [00:00<?, ?it/s]"
      ]
     },
     "metadata": {},
     "output_type": "display_data"
    },
    {
     "name": "stdout",
     "output_type": "stream",
     "text": [
      "10\n"
     ]
    },
    {
     "data": {
      "application/vnd.jupyter.widget-view+json": {
       "model_id": "85e2726b409343d78303f0f66b9c5869",
       "version_major": 2,
       "version_minor": 0
      },
      "text/plain": [
       "  0%|          | 0/1 [00:00<?, ?it/s]"
      ]
     },
     "metadata": {},
     "output_type": "display_data"
    },
    {
     "name": "stdout",
     "output_type": "stream",
     "text": [
      "17\n"
     ]
    },
    {
     "data": {
      "application/vnd.jupyter.widget-view+json": {
       "model_id": "6fc1ab6988ce45c7b5c583d383344ade",
       "version_major": 2,
       "version_minor": 0
      },
      "text/plain": [
       "  0%|          | 0/1 [00:00<?, ?it/s]"
      ]
     },
     "metadata": {},
     "output_type": "display_data"
    },
    {
     "name": "stdout",
     "output_type": "stream",
     "text": [
      "19\n"
     ]
    },
    {
     "data": {
      "application/vnd.jupyter.widget-view+json": {
       "model_id": "ba476bb85e5a4e1882bd2a538fa602ae",
       "version_major": 2,
       "version_minor": 0
      },
      "text/plain": [
       "  0%|          | 0/1 [00:00<?, ?it/s]"
      ]
     },
     "metadata": {},
     "output_type": "display_data"
    },
    {
     "name": "stdout",
     "output_type": "stream",
     "text": [
      "22\n"
     ]
    },
    {
     "data": {
      "application/vnd.jupyter.widget-view+json": {
       "model_id": "12596244462847dba1e61d8407eebe3c",
       "version_major": 2,
       "version_minor": 0
      },
      "text/plain": [
       "  0%|          | 0/1 [00:00<?, ?it/s]"
      ]
     },
     "metadata": {},
     "output_type": "display_data"
    },
    {
     "name": "stdout",
     "output_type": "stream",
     "text": [
      "25\n"
     ]
    },
    {
     "data": {
      "application/vnd.jupyter.widget-view+json": {
       "model_id": "c86c7fa4eebb4b2d97b5e8c04485087f",
       "version_major": 2,
       "version_minor": 0
      },
      "text/plain": [
       "  0%|          | 0/1 [00:00<?, ?it/s]"
      ]
     },
     "metadata": {},
     "output_type": "display_data"
    },
    {
     "name": "stdout",
     "output_type": "stream",
     "text": [
      "34\n"
     ]
    },
    {
     "data": {
      "application/vnd.jupyter.widget-view+json": {
       "model_id": "ad7c4f8b795f4e1e9598aa793561f0e4",
       "version_major": 2,
       "version_minor": 0
      },
      "text/plain": [
       "  0%|          | 0/1 [00:00<?, ?it/s]"
      ]
     },
     "metadata": {},
     "output_type": "display_data"
    },
    {
     "name": "stdout",
     "output_type": "stream",
     "text": [
      "33\n"
     ]
    },
    {
     "data": {
      "application/vnd.jupyter.widget-view+json": {
       "model_id": "ad3d5ff85ddd485f8364dc7bcf09b589",
       "version_major": 2,
       "version_minor": 0
      },
      "text/plain": [
       "  0%|          | 0/1 [00:00<?, ?it/s]"
      ]
     },
     "metadata": {},
     "output_type": "display_data"
    },
    {
     "name": "stdout",
     "output_type": "stream",
     "text": [
      "3\n"
     ]
    },
    {
     "data": {
      "application/vnd.jupyter.widget-view+json": {
       "model_id": "3ecb5de8e98647eaa996f75f4b1ba5c2",
       "version_major": 2,
       "version_minor": 0
      },
      "text/plain": [
       "  0%|          | 0/1 [00:00<?, ?it/s]"
      ]
     },
     "metadata": {},
     "output_type": "display_data"
    },
    {
     "name": "stdout",
     "output_type": "stream",
     "text": [
      "4\n"
     ]
    },
    {
     "data": {
      "application/vnd.jupyter.widget-view+json": {
       "model_id": "1d645934343d48ac86895b6bbf4bbf12",
       "version_major": 2,
       "version_minor": 0
      },
      "text/plain": [
       "  0%|          | 0/1 [00:00<?, ?it/s]"
      ]
     },
     "metadata": {},
     "output_type": "display_data"
    },
    {
     "name": "stdout",
     "output_type": "stream",
     "text": [
      "bert\n"
     ]
    },
    {
     "data": {
      "application/vnd.jupyter.widget-view+json": {
       "model_id": "0e43f647b9fa441eabfb354c5e56eed5",
       "version_major": 2,
       "version_minor": 0
      },
      "text/plain": [
       "  0%|          | 0/1 [00:00<?, ?it/s]"
      ]
     },
     "metadata": {},
     "output_type": "display_data"
    },
    {
     "data": {
      "image/png": "[encoded data removed]",
      "text/plain": [
       "<Figure size 432x288 with 1 Axes>"
      ]
     },
     "metadata": {},
     "output_type": "display_data"
    },
    {
     "data": {
      "text/html": [
       "<div>\n",
       "<style scoped>\n",
       "    .dataframe tbody tr th:only-of-type {\n",
       "        vertical-align: middle;\n",
       "    }\n",
       "\n",
       "    .dataframe tbody tr th {\n",
       "        vertical-align: top;\n",
       "    }\n",
       "\n",
       "    .dataframe thead th {\n",
       "        text-align: right;\n",
       "    }\n",
       "</style>\n",
       "<table border=\"1\" class=\"dataframe\">\n",
       "  <thead>\n",
       "    <tr style=\"text-align: right;\">\n",
       "      <th></th>\n",
       "      <th>augmentation</th>\n",
       "      <th>accuracy</th>\n",
       "      <th>batch_num</th>\n",
       "    </tr>\n",
       "  </thead>\n",
       "  <tbody>\n",
       "    <tr>\n",
       "      <th>25</th>\n",
       "      <td>35</td>\n",
       "      <td>0.927139</td>\n",
       "      <td>0</td>\n",
       "    </tr>\n",
       "    <tr>\n",
       "      <th>19</th>\n",
       "      <td>18</td>\n",
       "      <td>0.926942</td>\n",
       "      <td>0</td>\n",
       "    </tr>\n",
       "    <tr>\n",
       "      <th>27</th>\n",
       "      <td>17</td>\n",
       "      <td>0.926905</td>\n",
       "      <td>0</td>\n",
       "    </tr>\n",
       "    <tr>\n",
       "      <th>21</th>\n",
       "      <td>11</td>\n",
       "      <td>0.926840</td>\n",
       "      <td>0</td>\n",
       "    </tr>\n",
       "    <tr>\n",
       "      <th>22</th>\n",
       "      <td>5</td>\n",
       "      <td>0.926699</td>\n",
       "      <td>0</td>\n",
       "    </tr>\n",
       "    <tr>\n",
       "      <th>28</th>\n",
       "      <td>19</td>\n",
       "      <td>0.926653</td>\n",
       "      <td>0</td>\n",
       "    </tr>\n",
       "    <tr>\n",
       "      <th>5</th>\n",
       "      <td>28</td>\n",
       "      <td>0.926643</td>\n",
       "      <td>0</td>\n",
       "    </tr>\n",
       "    <tr>\n",
       "      <th>24</th>\n",
       "      <td>32</td>\n",
       "      <td>0.926625</td>\n",
       "      <td>0</td>\n",
       "    </tr>\n",
       "    <tr>\n",
       "      <th>35</th>\n",
       "      <td>bert</td>\n",
       "      <td>0.926578</td>\n",
       "      <td>0</td>\n",
       "    </tr>\n",
       "  </tbody>\n",
       "</table>\n",
       "</div>"
      ],
      "text/plain": [
       "   augmentation  accuracy  batch_num\n",
       "25           35  0.927139          0\n",
       "19           18  0.926942          0\n",
       "27           17  0.926905          0\n",
       "21           11  0.926840          0\n",
       "22            5  0.926699          0\n",
       "28           19  0.926653          0\n",
       "5            28  0.926643          0\n",
       "24           32  0.926625          0\n",
       "35         bert  0.926578          0"
      ]
     },
     "execution_count": 6,
     "metadata": {},
     "output_type": "execute_result"
    }
   ],
   "source": [
    "plotted_accuracies = []\n",
    "directory = OUTPUT_PATH + 'civilcomments_ERM_predictions_optimized_params/single_sample_four_optimized_aug/char_based/'\n",
    "bert_path = OUTPUT_PATH + 'civilcomments_ERM_predictions/bert.npy'\n",
    "\n",
    "\n",
    "for file in os.listdir(directory):\n",
    "    if file.split('.')[-1] == 'npy':\n",
    "        plotted_accuracies.append(directory + file)\n",
    "\n",
    "plotted_accuracies.append(bert_path)\n",
    "\n",
    "\n",
    "df = create_accuracy_graph(plotted_accuracies, \"bar\", num_runs = 1, plot = True, apply_threshhold = True, title = \"Character-based\")\n",
    "\n",
    "#df.groupby(\"augmentation\", as_index = False).mean().sort_values(by=['accuracy'], ascending=False)\n",
    "\n",
    "\"\"\"\n",
    "top_35_quads = df.groupby(\"augmentation\", as_index = False).mean().sort_values(by=['accuracy'], ascending=False)[:35]\n",
    "top_35_quad_ids = top_35_quads[\"augmentation\"].tolist()\n",
    "\n",
    "\n",
    "top_accuracies = []\n",
    "\n",
    "for quad in top_35_quad_ids:\n",
    "    file = directory + str(quad) + \".npy\"\n",
    "    top_accuracies.append(file)\n",
    "\n",
    "\n",
    "top_accuracies.append('./data/civilcomments_ERM_predictions/bert.npy')\n",
    "\n",
    "\n",
    "top_35_df = create_accuracy_graph(plotted_accuracies, \"bar\", num_runs = 10)\n",
    "\"\"\"\n",
    "\n",
    "df"
   ]
  },
  {
   "cell_type": "code",
   "execution_count": 9,
   "metadata": {},
   "outputs": [
    {
     "data": {
      "text/html": [
       "<div>\n",
       "<style scoped>\n",
       "    .dataframe tbody tr th:only-of-type {\n",
       "        vertical-align: middle;\n",
       "    }\n",
       "\n",
       "    .dataframe tbody tr th {\n",
       "        vertical-align: top;\n",
       "    }\n",
       "\n",
       "    .dataframe thead th {\n",
       "        text-align: right;\n",
       "    }\n",
       "</style>\n",
       "<table border=\"1\" class=\"dataframe\">\n",
       "  <thead>\n",
       "    <tr style=\"text-align: right;\">\n",
       "      <th></th>\n",
       "      <th>0</th>\n",
       "      <th>1</th>\n",
       "      <th>2</th>\n",
       "      <th>3</th>\n",
       "      <th>4</th>\n",
       "    </tr>\n",
       "  </thead>\n",
       "  <tbody>\n",
       "    <tr>\n",
       "      <th>35</th>\n",
       "      <td>nlp_spelling_substitution</td>\n",
       "      <td>nlp_random_char_deletion</td>\n",
       "      <td>nlp_random_char_insert</td>\n",
       "      <td>nlp_keyboard</td>\n",
       "      <td>bert</td>\n",
       "    </tr>\n",
       "    <tr>\n",
       "      <th>18</th>\n",
       "      <td>nlp_ocr</td>\n",
       "      <td>nlp_spelling_substitution</td>\n",
       "      <td>nlp_random_char_deletion</td>\n",
       "      <td>nlp_keyboard</td>\n",
       "      <td>bert</td>\n",
       "    </tr>\n",
       "    <tr>\n",
       "      <th>17</th>\n",
       "      <td>nlp_ocr</td>\n",
       "      <td>nlp_spelling_substitution</td>\n",
       "      <td>nlp_random_char_deletion</td>\n",
       "      <td>nlp_random_char_insert</td>\n",
       "      <td>bert</td>\n",
       "    </tr>\n",
       "    <tr>\n",
       "      <th>11</th>\n",
       "      <td>nlp_ocr</td>\n",
       "      <td>nlp_random_char_substitution</td>\n",
       "      <td>nlp_spelling_substitution</td>\n",
       "      <td>nlp_random_char_deletion</td>\n",
       "      <td>bert</td>\n",
       "    </tr>\n",
       "    <tr>\n",
       "      <th>5</th>\n",
       "      <td>nlp_ocr</td>\n",
       "      <td>nlp_random_char_swap</td>\n",
       "      <td>nlp_spelling_substitution</td>\n",
       "      <td>nlp_random_char_deletion</td>\n",
       "      <td>bert</td>\n",
       "    </tr>\n",
       "    <tr>\n",
       "      <th>19</th>\n",
       "      <td>nlp_ocr</td>\n",
       "      <td>nlp_spelling_substitution</td>\n",
       "      <td>nlp_random_char_insert</td>\n",
       "      <td>nlp_keyboard</td>\n",
       "      <td>bert</td>\n",
       "    </tr>\n",
       "    <tr>\n",
       "      <th>28</th>\n",
       "      <td>nlp_random_char_swap</td>\n",
       "      <td>nlp_spelling_substitution</td>\n",
       "      <td>nlp_random_char_deletion</td>\n",
       "      <td>nlp_keyboard</td>\n",
       "      <td>bert</td>\n",
       "    </tr>\n",
       "    <tr>\n",
       "      <th>32</th>\n",
       "      <td>nlp_random_char_substitution</td>\n",
       "      <td>nlp_spelling_substitution</td>\n",
       "      <td>nlp_random_char_deletion</td>\n",
       "      <td>nlp_keyboard</td>\n",
       "      <td>bert</td>\n",
       "    </tr>\n",
       "  </tbody>\n",
       "</table>\n",
       "</div>"
      ],
      "text/plain": [
       "                               0                             1  \\\n",
       "35     nlp_spelling_substitution      nlp_random_char_deletion   \n",
       "18                       nlp_ocr     nlp_spelling_substitution   \n",
       "17                       nlp_ocr     nlp_spelling_substitution   \n",
       "11                       nlp_ocr  nlp_random_char_substitution   \n",
       "5                        nlp_ocr          nlp_random_char_swap   \n",
       "19                       nlp_ocr     nlp_spelling_substitution   \n",
       "28          nlp_random_char_swap     nlp_spelling_substitution   \n",
       "32  nlp_random_char_substitution     nlp_spelling_substitution   \n",
       "\n",
       "                            2                         3     4  \n",
       "35     nlp_random_char_insert              nlp_keyboard  bert  \n",
       "18   nlp_random_char_deletion              nlp_keyboard  bert  \n",
       "17   nlp_random_char_deletion    nlp_random_char_insert  bert  \n",
       "11  nlp_spelling_substitution  nlp_random_char_deletion  bert  \n",
       "5   nlp_spelling_substitution  nlp_random_char_deletion  bert  \n",
       "19     nlp_random_char_insert              nlp_keyboard  bert  \n",
       "28   nlp_random_char_deletion              nlp_keyboard  bert  \n",
       "32   nlp_random_char_deletion              nlp_keyboard  bert  "
      ]
     },
     "execution_count": 9,
     "metadata": {},
     "output_type": "execute_result"
    }
   ],
   "source": [
    "char_combo_file = OUTPUT_PATH + \"civilcomments_ERM_predictions_optimized_params/single_sample_four_optimized_aug/char_based/combo_id_to_combo.txt\"\n",
    "\n",
    "with open(char_combo_file, 'r') as file:\n",
    "    combo_dict = json.load(file)\n",
    "    \n",
    "combo_id_to_combo_name = {}\n",
    "\n",
    "char_aug_directory = OUTPUT_PATH + 'civilcomments_ERM_predictions_optimized_params/single_sample_four_optimized_aug/char_based/'\n",
    "\n",
    "for combo_id in df[\"augmentation\"].tolist():\n",
    "    \n",
    "    if combo_id != \"bert\":\n",
    "        \n",
    "        improved_combo = combo_dict[str(combo_id)]\n",
    "        combo_id_to_combo_name[combo_id] = improved_combo\n",
    "\n",
    "combo_names = pd.DataFrame(combo_id_to_combo_name).transpose()\n",
    "    \n",
    "combo_names"
   ]
  },
  {
   "cell_type": "code",
   "execution_count": 31,
   "metadata": {
    "scrolled": true
   },
   "outputs": [
    {
     "name": "stdout",
     "output_type": "stream",
     "text": [
      "563\n"
     ]
    },
    {
     "data": {
      "application/vnd.jupyter.widget-view+json": {
       "model_id": "97ec59f8d7cb4570b6f52e6bc23cadf9",
       "version_major": 2,
       "version_minor": 0
      },
      "text/plain": [
       "  0%|          | 0/10 [00:00<?, ?it/s]"
      ]
     },
     "metadata": {},
     "output_type": "display_data"
    },
    {
     "name": "stdout",
     "output_type": "stream",
     "text": [
      "539\n"
     ]
    },
    {
     "data": {
      "application/vnd.jupyter.widget-view+json": {
       "model_id": "5016900648ec4e8a828c48e0edd9792f",
       "version_major": 2,
       "version_minor": 0
      },
      "text/plain": [
       "  0%|          | 0/10 [00:00<?, ?it/s]"
      ]
     },
     "metadata": {},
     "output_type": "display_data"
    },
    {
     "name": "stdout",
     "output_type": "stream",
     "text": [
      "548\n"
     ]
    },
    {
     "data": {
      "application/vnd.jupyter.widget-view+json": {
       "model_id": "4640a048cce44030ba8b2c9557a7074f",
       "version_major": 2,
       "version_minor": 0
      },
      "text/plain": [
       "  0%|          | 0/10 [00:00<?, ?it/s]"
      ]
     },
     "metadata": {},
     "output_type": "display_data"
    },
    {
     "name": "stdout",
     "output_type": "stream",
     "text": [
      "396\n"
     ]
    },
    {
     "data": {
      "application/vnd.jupyter.widget-view+json": {
       "model_id": "c5bf6f14efb64844895a90ea80fddd4d",
       "version_major": 2,
       "version_minor": 0
      },
      "text/plain": [
       "  0%|          | 0/10 [00:00<?, ?it/s]"
      ]
     },
     "metadata": {},
     "output_type": "display_data"
    },
    {
     "name": "stdout",
     "output_type": "stream",
     "text": [
      "bert\n"
     ]
    },
    {
     "data": {
      "application/vnd.jupyter.widget-view+json": {
       "model_id": "94142a8827a9426cb6ae4bf0be6ed3e2",
       "version_major": 2,
       "version_minor": 0
      },
      "text/plain": [
       "  0%|          | 0/10 [00:00<?, ?it/s]"
      ]
     },
     "metadata": {},
     "output_type": "display_data"
    }
   ],
   "source": [
    "plotted_accuracies = []\n",
    "combo_ids = [\"563\", \"539\", \"548\", \"396\"]\n",
    "\n",
    "directory = OUTPUT_PATH + 'civilcomments_ERM_predictions_optimized_params/single_sample_four_optimized_aug/word_based/'\n",
    "bert_path = OUTPUT_PATH + 'civilcomments_ERM_predictions/bert.npy'\n",
    "\n",
    "for combo_id in combo_ids:\n",
    "    path = directory + combo_id + '.npy'\n",
    "    plotted_accuracies.append(path)\n",
    "\n",
    "\n",
    "plotted_accuracies.append(bert_path)\n",
    "\n",
    "\n",
    "aug_to_acc = []\n",
    "\n",
    "for file_name in plotted_accuracies:\n",
    "\n",
    "    augmentation_name = file_name.split('/')[-1].split('.')[0]\n",
    "    print(augmentation_name)\n",
    "    accuracies = calculate_accuracy(file_name, sampling_percent = 0.8, num_runs = 10)\n",
    "\n",
    "    for i in range(len(accuracies)):\n",
    "        accuracy = accuracies[i]\n",
    "        aug_dict = {\"augmentation\":augmentation_name, \"accuracy\": accuracy, \"batch_num\": i}\n",
    "\n",
    "        aug_to_acc.append(aug_dict)\n",
    "\n",
    "    \n",
    "acc_df = pd.DataFrame(aug_to_acc).sort_values('accuracy', ascending = False)\n",
    "#print(acc_df)\n",
    "    \n",
    "threshhold_value = acc_df.loc[(acc_df[\"augmentation\"] == \"bert\")][\"accuracy\"].mean()\n",
    "\n",
    "filtered_acc_df = acc_df\n",
    "filtered_acc_df[\"delta\"] = filtered_acc_df[\"accuracy\"] - threshhold_value\n",
    "\n",
    "#df = create_accuracy_graph(plotted_accuracies, \"bar\", num_runs = 1, plot = False, apply_threshhold = True)\n",
    "\n",
    "#df.groupby(\"augmentation\", as_index = False).mean().sort_values(by=['accuracy'], ascending=False)\n",
    "\n",
    "#print(len(df.index)) #357\n"
   ]
  },
  {
   "cell_type": "code",
   "execution_count": 34,
   "metadata": {},
   "outputs": [
    {
     "data": {
      "image/png": "[encoded data removed]",
      "text/plain": [
       "<Figure size 432x288 with 1 Axes>"
      ]
     },
     "metadata": {},
     "output_type": "display_data"
    }
   ],
   "source": [
    "fig, axs = plt.subplots()\n",
    "p = sns.boxplot(ax = axs, x = 'augmentation', y = \"delta\", data = filtered_acc_df)\n",
    "\n",
    "axs.set_ylim(-0.01, 0.01)\n",
    "axs.set_xticklabels(axs.get_xticklabels(), rotation=90, ha='right')\n",
    "axs.set_ylabel(\"change in accuracy\")\n",
    "axs.set_xlabel(\"augmentation transform in policy\")\n",
    "\n",
    "\n",
    "new_labels = [\"antonym+insertion+split+ppdb_synonym\"\n",
    "             , \"antonym+insertion+swap+ppdb_synonym\"\n",
    "             , \"antonym+swap+split+ppdb_synonym\"\n",
    "             , \"insertion_split+swap+synonym\"\n",
    "             , \"baseline\"]\n",
    "\n",
    "\n",
    "axs.set_xticklabels(new_labels)\n",
    "\n",
    "x_ticks = axs.get_xticklabels()\n",
    "\n",
    "for i in range(len(x_ticks)):\n",
    "    if x_ticks[i].get_text() != \"baseline\":\n",
    "            x_ticks[i].set_color(\"red\")\n",
    "            \n",
    "    else:\n",
    "        x_ticks[i].set_color(\"black\")\n",
    "\n",
    "\n",
    "axs.set_title(\"Change in accuracy using single-sample, multi-augmentation configuration\")\n",
    "\n",
    "format_plot()\n",
    "\n",
    "#fig.suptitle(title)\n",
    "plt.savefig(\"single-multi-PDF.pdf\", format = \"pdf\", bbox_inches = \"tight\")\n",
    "plt.show()\n",
    "\n",
    "\n"
   ]
  },
  {
   "cell_type": "code",
   "execution_count": 30,
   "metadata": {
    "scrolled": true
   },
   "outputs": [
    {
     "name": "stdout",
     "output_type": "stream",
     "text": [
      "396\n"
     ]
    },
    {
     "data": {
      "application/vnd.jupyter.widget-view+json": {
       "model_id": "c9495f1d69b04a2ea006b9034c1f5ddd",
       "version_major": 2,
       "version_minor": 0
      },
      "text/plain": [
       "  0%|          | 0/10 [00:00<?, ?it/s]"
      ]
     },
     "metadata": {},
     "output_type": "display_data"
    },
    {
     "name": "stdout",
     "output_type": "stream",
     "text": [
      "430\n"
     ]
    },
    {
     "data": {
      "application/vnd.jupyter.widget-view+json": {
       "model_id": "02d9f9ac6e104b5684f49f43478a5a12",
       "version_major": 2,
       "version_minor": 0
      },
      "text/plain": [
       "  0%|          | 0/10 [00:00<?, ?it/s]"
      ]
     },
     "metadata": {},
     "output_type": "display_data"
    },
    {
     "name": "stdout",
     "output_type": "stream",
     "text": [
      "475\n"
     ]
    },
    {
     "data": {
      "application/vnd.jupyter.widget-view+json": {
       "model_id": "802b1b1c06cf4efba15973684ff77a9d",
       "version_major": 2,
       "version_minor": 0
      },
      "text/plain": [
       "  0%|          | 0/10 [00:00<?, ?it/s]"
      ]
     },
     "metadata": {},
     "output_type": "display_data"
    },
    {
     "name": "stdout",
     "output_type": "stream",
     "text": [
      "539\n"
     ]
    },
    {
     "data": {
      "application/vnd.jupyter.widget-view+json": {
       "model_id": "f4b4aa3737ad43f29bdceab958e0eb8f",
       "version_major": 2,
       "version_minor": 0
      },
      "text/plain": [
       "  0%|          | 0/10 [00:00<?, ?it/s]"
      ]
     },
     "metadata": {},
     "output_type": "display_data"
    },
    {
     "name": "stdout",
     "output_type": "stream",
     "text": [
      "402\n"
     ]
    },
    {
     "data": {
      "application/vnd.jupyter.widget-view+json": {
       "model_id": "5a803fcf4f924593902728a415e8e1f3",
       "version_major": 2,
       "version_minor": 0
      },
      "text/plain": [
       "  0%|          | 0/10 [00:00<?, ?it/s]"
      ]
     },
     "metadata": {},
     "output_type": "display_data"
    },
    {
     "name": "stdout",
     "output_type": "stream",
     "text": [
      "479\n"
     ]
    },
    {
     "data": {
      "application/vnd.jupyter.widget-view+json": {
       "model_id": "dca08b507c7a4b7aa9db6c373b047bd3",
       "version_major": 2,
       "version_minor": 0
      },
      "text/plain": [
       "  0%|          | 0/10 [00:00<?, ?it/s]"
      ]
     },
     "metadata": {},
     "output_type": "display_data"
    },
    {
     "name": "stdout",
     "output_type": "stream",
     "text": [
      "650\n"
     ]
    },
    {
     "data": {
      "application/vnd.jupyter.widget-view+json": {
       "model_id": "c651c29752a24dff8acfb56adf0f41b3",
       "version_major": 2,
       "version_minor": 0
      },
      "text/plain": [
       "  0%|          | 0/10 [00:00<?, ?it/s]"
      ]
     },
     "metadata": {},
     "output_type": "display_data"
    },
    {
     "name": "stdout",
     "output_type": "stream",
     "text": [
      "548\n"
     ]
    },
    {
     "data": {
      "application/vnd.jupyter.widget-view+json": {
       "model_id": "f7a61b1133264b98903146c0c5deede7",
       "version_major": 2,
       "version_minor": 0
      },
      "text/plain": [
       "  0%|          | 0/10 [00:00<?, ?it/s]"
      ]
     },
     "metadata": {},
     "output_type": "display_data"
    },
    {
     "name": "stdout",
     "output_type": "stream",
     "text": [
      "478\n"
     ]
    },
    {
     "data": {
      "application/vnd.jupyter.widget-view+json": {
       "model_id": "9d4a12ba012b4ceb8ddc5fa2aedd4226",
       "version_major": 2,
       "version_minor": 0
      },
      "text/plain": [
       "  0%|          | 0/10 [00:00<?, ?it/s]"
      ]
     },
     "metadata": {},
     "output_type": "display_data"
    },
    {
     "name": "stdout",
     "output_type": "stream",
     "text": [
      "563\n"
     ]
    },
    {
     "data": {
      "application/vnd.jupyter.widget-view+json": {
       "model_id": "ea7b884ae01a450c8e3e2624f2d4b21b",
       "version_major": 2,
       "version_minor": 0
      },
      "text/plain": [
       "  0%|          | 0/10 [00:00<?, ?it/s]"
      ]
     },
     "metadata": {},
     "output_type": "display_data"
    },
    {
     "name": "stdout",
     "output_type": "stream",
     "text": [
      "bert\n"
     ]
    },
    {
     "data": {
      "application/vnd.jupyter.widget-view+json": {
       "model_id": "debcfcc7c88d41a4a009fdfee1664368",
       "version_major": 2,
       "version_minor": 0
      },
      "text/plain": [
       "  0%|          | 0/10 [00:00<?, ?it/s]"
      ]
     },
     "metadata": {},
     "output_type": "display_data"
    },
    {
     "data": {
      "image/png": "[encoded data removed]",
      "text/plain": [
       "<Figure size 432x288 with 1 Axes>"
      ]
     },
     "metadata": {},
     "output_type": "display_data"
    }
   ],
   "source": [
    "directory = directory = OUTPUT_PATH + 'civilcomments_ERM_predictions_optimized_params/single_sample_four_optimized_aug/word_based/'\n",
    "\n",
    "\n",
    "top_10_quads = df.groupby(\"augmentation\", as_index = False).mean().sort_values(by=['accuracy'], ascending=False)[:10]\n",
    "top_10_quad_ids = top_10_quads[\"augmentation\"].tolist()\n",
    "\n",
    "\n",
    "top_accuracies = []\n",
    "\n",
    "for quad in top_10_quad_ids:\n",
    "    file = directory + str(quad) + \".npy\"\n",
    "    top_accuracies.append(file)\n",
    "\n",
    "\n",
    "top_accuracies.append(bert_path)\n",
    "\n",
    "\n",
    "top_10_df = create_accuracy_graph(top_accuracies, \"bar\", num_runs = 10)"
   ]
  },
  {
   "cell_type": "code",
   "execution_count": 31,
   "metadata": {},
   "outputs": [
    {
     "data": {
      "text/html": [
       "<div>\n",
       "<style scoped>\n",
       "    .dataframe tbody tr th:only-of-type {\n",
       "        vertical-align: middle;\n",
       "    }\n",
       "\n",
       "    .dataframe tbody tr th {\n",
       "        vertical-align: top;\n",
       "    }\n",
       "\n",
       "    .dataframe thead th {\n",
       "        text-align: right;\n",
       "    }\n",
       "</style>\n",
       "<table border=\"1\" class=\"dataframe\">\n",
       "  <thead>\n",
       "    <tr style=\"text-align: right;\">\n",
       "      <th></th>\n",
       "      <th>augmentation</th>\n",
       "      <th>accuracy</th>\n",
       "      <th>batch_num</th>\n",
       "    </tr>\n",
       "  </thead>\n",
       "  <tbody>\n",
       "    <tr>\n",
       "      <th>3</th>\n",
       "      <td>475</td>\n",
       "      <td>0.927112</td>\n",
       "      <td>4.5</td>\n",
       "    </tr>\n",
       "    <tr>\n",
       "      <th>8</th>\n",
       "      <td>563</td>\n",
       "      <td>0.927100</td>\n",
       "      <td>4.5</td>\n",
       "    </tr>\n",
       "    <tr>\n",
       "      <th>5</th>\n",
       "      <td>479</td>\n",
       "      <td>0.927077</td>\n",
       "      <td>4.5</td>\n",
       "    </tr>\n",
       "    <tr>\n",
       "      <th>0</th>\n",
       "      <td>396</td>\n",
       "      <td>0.927077</td>\n",
       "      <td>4.5</td>\n",
       "    </tr>\n",
       "    <tr>\n",
       "      <th>2</th>\n",
       "      <td>430</td>\n",
       "      <td>0.927067</td>\n",
       "      <td>4.5</td>\n",
       "    </tr>\n",
       "    <tr>\n",
       "      <th>6</th>\n",
       "      <td>539</td>\n",
       "      <td>0.927057</td>\n",
       "      <td>4.5</td>\n",
       "    </tr>\n",
       "    <tr>\n",
       "      <th>7</th>\n",
       "      <td>548</td>\n",
       "      <td>0.927025</td>\n",
       "      <td>4.5</td>\n",
       "    </tr>\n",
       "    <tr>\n",
       "      <th>9</th>\n",
       "      <td>650</td>\n",
       "      <td>0.927000</td>\n",
       "      <td>4.5</td>\n",
       "    </tr>\n",
       "    <tr>\n",
       "      <th>1</th>\n",
       "      <td>402</td>\n",
       "      <td>0.926972</td>\n",
       "      <td>4.5</td>\n",
       "    </tr>\n",
       "    <tr>\n",
       "      <th>4</th>\n",
       "      <td>478</td>\n",
       "      <td>0.926959</td>\n",
       "      <td>4.5</td>\n",
       "    </tr>\n",
       "    <tr>\n",
       "      <th>10</th>\n",
       "      <td>bert</td>\n",
       "      <td>0.926667</td>\n",
       "      <td>4.5</td>\n",
       "    </tr>\n",
       "  </tbody>\n",
       "</table>\n",
       "</div>"
      ],
      "text/plain": [
       "   augmentation  accuracy  batch_num\n",
       "3           475  0.927112        4.5\n",
       "8           563  0.927100        4.5\n",
       "5           479  0.927077        4.5\n",
       "0           396  0.927077        4.5\n",
       "2           430  0.927067        4.5\n",
       "6           539  0.927057        4.5\n",
       "7           548  0.927025        4.5\n",
       "9           650  0.927000        4.5\n",
       "1           402  0.926972        4.5\n",
       "4           478  0.926959        4.5\n",
       "10         bert  0.926667        4.5"
      ]
     },
     "execution_count": 31,
     "metadata": {},
     "output_type": "execute_result"
    }
   ],
   "source": [
    "top_10_df.groupby(\"augmentation\", as_index = False).mean().sort_values(by=['accuracy'], ascending=False)\n"
   ]
  },
  {
   "cell_type": "code",
   "execution_count": 33,
   "metadata": {
    "scrolled": true
   },
   "outputs": [
    {
     "data": {
      "text/html": [
       "<div>\n",
       "<style scoped>\n",
       "    .dataframe tbody tr th:only-of-type {\n",
       "        vertical-align: middle;\n",
       "    }\n",
       "\n",
       "    .dataframe tbody tr th {\n",
       "        vertical-align: top;\n",
       "    }\n",
       "\n",
       "    .dataframe thead th {\n",
       "        text-align: right;\n",
       "    }\n",
       "</style>\n",
       "<table border=\"1\" class=\"dataframe\">\n",
       "  <thead>\n",
       "    <tr style=\"text-align: right;\">\n",
       "      <th></th>\n",
       "      <th>0</th>\n",
       "      <th>1</th>\n",
       "      <th>2</th>\n",
       "      <th>3</th>\n",
       "      <th>4</th>\n",
       "    </tr>\n",
       "  </thead>\n",
       "  <tbody>\n",
       "    <tr>\n",
       "      <th>563</th>\n",
       "      <td>nlp_antonym</td>\n",
       "      <td>nlp_random_contextual_word_insertion_distilrob...</td>\n",
       "      <td>nlp_random_token_split</td>\n",
       "      <td>nlp_ppdb_synonym</td>\n",
       "      <td>bert</td>\n",
       "    </tr>\n",
       "    <tr>\n",
       "      <th>539</th>\n",
       "      <td>nlp_antonym</td>\n",
       "      <td>nlp_random_word_swap</td>\n",
       "      <td>nlp_random_contextual_word_insertion_distilrob...</td>\n",
       "      <td>nlp_ppdb_synonym</td>\n",
       "      <td>bert</td>\n",
       "    </tr>\n",
       "    <tr>\n",
       "      <th>475</th>\n",
       "      <td>nlp_random_contextual_word_insertion_distilber...</td>\n",
       "      <td>nlp_random_contextual_word_insertion_distilrob...</td>\n",
       "      <td>nlp_random_word_substitute</td>\n",
       "      <td>nlp_ppdb_synonym</td>\n",
       "      <td>bert</td>\n",
       "    </tr>\n",
       "    <tr>\n",
       "      <th>548</th>\n",
       "      <td>nlp_antonym</td>\n",
       "      <td>nlp_random_word_swap</td>\n",
       "      <td>nlp_random_token_split</td>\n",
       "      <td>nlp_ppdb_synonym</td>\n",
       "      <td>bert</td>\n",
       "    </tr>\n",
       "    <tr>\n",
       "      <th>479</th>\n",
       "      <td>nlp_random_contextual_word_insertion_distilber...</td>\n",
       "      <td>nlp_random_contextual_word_insertion_distilrob...</td>\n",
       "      <td>nlp_random_token_split</td>\n",
       "      <td>nlp_ppdb_synonym</td>\n",
       "      <td>bert</td>\n",
       "    </tr>\n",
       "    <tr>\n",
       "      <th>430</th>\n",
       "      <td>nlp_random_contextual_word_insertion_distilber...</td>\n",
       "      <td>nlp_random_contextual_word_insertion_distilber...</td>\n",
       "      <td>nlp_random_contextual_word_insertion_distilrob...</td>\n",
       "      <td>nlp_random_token_split</td>\n",
       "      <td>bert</td>\n",
       "    </tr>\n",
       "    <tr>\n",
       "      <th>402</th>\n",
       "      <td>nlp_random_contextual_word_insertion_distilber...</td>\n",
       "      <td>nlp_antonym</td>\n",
       "      <td>nlp_random_contextual_word_insertion_distilrob...</td>\n",
       "      <td>nlp_random_token_split</td>\n",
       "      <td>bert</td>\n",
       "    </tr>\n",
       "    <tr>\n",
       "      <th>396</th>\n",
       "      <td>nlp_random_contextual_word_insertion_distilber...</td>\n",
       "      <td>nlp_antonym</td>\n",
       "      <td>nlp_random_word_swap</td>\n",
       "      <td>nlp_random_token_split</td>\n",
       "      <td>bert</td>\n",
       "    </tr>\n",
       "    <tr>\n",
       "      <th>650</th>\n",
       "      <td>nlp_random_word_swap</td>\n",
       "      <td>nlp_random_contextual_word_insertion_distilrob...</td>\n",
       "      <td>nlp_random_word_substitute</td>\n",
       "      <td>nlp_ppdb_synonym</td>\n",
       "      <td>bert</td>\n",
       "    </tr>\n",
       "    <tr>\n",
       "      <th>478</th>\n",
       "      <td>nlp_random_contextual_word_insertion_distilber...</td>\n",
       "      <td>nlp_random_contextual_word_insertion_distilrob...</td>\n",
       "      <td>nlp_random_token_split</td>\n",
       "      <td>nlp_wordnet_synonym</td>\n",
       "      <td>bert</td>\n",
       "    </tr>\n",
       "  </tbody>\n",
       "</table>\n",
       "</div>"
      ],
      "text/plain": [
       "                                                     0  \\\n",
       "563                                        nlp_antonym   \n",
       "539                                        nlp_antonym   \n",
       "475  nlp_random_contextual_word_insertion_distilber...   \n",
       "548                                        nlp_antonym   \n",
       "479  nlp_random_contextual_word_insertion_distilber...   \n",
       "430  nlp_random_contextual_word_insertion_distilber...   \n",
       "402  nlp_random_contextual_word_insertion_distilber...   \n",
       "396  nlp_random_contextual_word_insertion_distilber...   \n",
       "650                               nlp_random_word_swap   \n",
       "478  nlp_random_contextual_word_insertion_distilber...   \n",
       "\n",
       "                                                     1  \\\n",
       "563  nlp_random_contextual_word_insertion_distilrob...   \n",
       "539                               nlp_random_word_swap   \n",
       "475  nlp_random_contextual_word_insertion_distilrob...   \n",
       "548                               nlp_random_word_swap   \n",
       "479  nlp_random_contextual_word_insertion_distilrob...   \n",
       "430  nlp_random_contextual_word_insertion_distilber...   \n",
       "402                                        nlp_antonym   \n",
       "396                                        nlp_antonym   \n",
       "650  nlp_random_contextual_word_insertion_distilrob...   \n",
       "478  nlp_random_contextual_word_insertion_distilrob...   \n",
       "\n",
       "                                                     2  \\\n",
       "563                             nlp_random_token_split   \n",
       "539  nlp_random_contextual_word_insertion_distilrob...   \n",
       "475                         nlp_random_word_substitute   \n",
       "548                             nlp_random_token_split   \n",
       "479                             nlp_random_token_split   \n",
       "430  nlp_random_contextual_word_insertion_distilrob...   \n",
       "402  nlp_random_contextual_word_insertion_distilrob...   \n",
       "396                               nlp_random_word_swap   \n",
       "650                         nlp_random_word_substitute   \n",
       "478                             nlp_random_token_split   \n",
       "\n",
       "                          3     4  \n",
       "563        nlp_ppdb_synonym  bert  \n",
       "539        nlp_ppdb_synonym  bert  \n",
       "475        nlp_ppdb_synonym  bert  \n",
       "548        nlp_ppdb_synonym  bert  \n",
       "479        nlp_ppdb_synonym  bert  \n",
       "430  nlp_random_token_split  bert  \n",
       "402  nlp_random_token_split  bert  \n",
       "396  nlp_random_token_split  bert  \n",
       "650        nlp_ppdb_synonym  bert  \n",
       "478     nlp_wordnet_synonym  bert  "
      ]
     },
     "execution_count": 33,
     "metadata": {},
     "output_type": "execute_result"
    }
   ],
   "source": [
    "word_combo_file = OUTPUT_PATH + \"civilcomments_ERM_predictions_optimized_params/single_sample_four_optimized_aug/word_based/combo_id_to_combo.txt\"\n",
    "\n",
    "with open(word_combo_file, 'r') as file:\n",
    "    combo_dict = json.load(file)\n",
    "    \n",
    "combo_id_to_combo_name = {}\n",
    "\n",
    "word_aug_directory = OUTPUT_PATH + 'civilcomments_ERM_predictions_optimized_params/single_sample_four_optimized_aug/word_based/'\n",
    "\n",
    "for combo_id in top_10_df[\"augmentation\"].tolist():\n",
    "    \n",
    "    if combo_id != \"bert\":\n",
    "        \n",
    "        improved_combo = combo_dict[str(combo_id)]\n",
    "        combo_id_to_combo_name[combo_id] = improved_combo\n",
    "\n",
    "combo_names = pd.DataFrame(combo_id_to_combo_name).transpose()\n",
    "    \n",
    "combo_names"
   ]
  },
  {
   "cell_type": "markdown",
   "metadata": {},
   "source": [
    "## FIGURE 5B: SINGLE-SAMPLE, MULTI-AUGMENTATION (AMAZON)"
   ]
  },
  {
   "cell_type": "markdown",
   "metadata": {},
   "source": [
    "## FIGURE 6A: MULTI-SAMPLE, SINGLE-AUGMENTATION (WILDS)"
   ]
  },
  {
   "cell_type": "code",
   "execution_count": 22,
   "metadata": {},
   "outputs": [
    {
     "name": "stdout",
     "output_type": "stream",
     "text": [
      "['/data/ddmg/prism/tta/outputs/civilcomments_ERM_predictions_optimized_params_four_samples/averaged_sample_group/with_bert/nlp_ocr.npy', '/data/ddmg/prism/tta/outputs/civilcomments_ERM_predictions_optimized_params_four_samples/averaged_sample_group/with_bert/nlp_keyboard.npy', '/data/ddmg/prism/tta/outputs/civilcomments_ERM_predictions_optimized_params_four_samples/averaged_sample_group/with_bert/nlp_random_char_insert.npy', '/data/ddmg/prism/tta/outputs/civilcomments_ERM_predictions_optimized_params_four_samples/averaged_sample_group/with_bert/nlp_random_char_substitution.npy', '/data/ddmg/prism/tta/outputs/civilcomments_ERM_predictions_optimized_params_four_samples/averaged_sample_group/with_bert/nlp_random_char_swap.npy', '/data/ddmg/prism/tta/outputs/civilcomments_ERM_predictions_optimized_params_four_samples/averaged_sample_group/with_bert/nlp_random_char_deletion.npy', '/data/ddmg/prism/tta/outputs/civilcomments_ERM_predictions/bert.npy']\n",
      "nlp_ocr\n"
     ]
    },
    {
     "data": {
      "application/vnd.jupyter.widget-view+json": {
       "model_id": "9092aed1bab6473cb2f199baec4af186",
       "version_major": 2,
       "version_minor": 0
      },
      "text/plain": [
       "  0%|          | 0/10 [00:00<?, ?it/s]"
      ]
     },
     "metadata": {},
     "output_type": "display_data"
    },
    {
     "name": "stdout",
     "output_type": "stream",
     "text": [
      "nlp_keyboard\n"
     ]
    },
    {
     "data": {
      "application/vnd.jupyter.widget-view+json": {
       "model_id": "06ef98ab5e204a28b96ebc6fbf17c3ea",
       "version_major": 2,
       "version_minor": 0
      },
      "text/plain": [
       "  0%|          | 0/10 [00:00<?, ?it/s]"
      ]
     },
     "metadata": {},
     "output_type": "display_data"
    },
    {
     "name": "stdout",
     "output_type": "stream",
     "text": [
      "nlp_random_char_insert\n"
     ]
    },
    {
     "data": {
      "application/vnd.jupyter.widget-view+json": {
       "model_id": "7d3483a0111c49eb964440c2e20ec369",
       "version_major": 2,
       "version_minor": 0
      },
      "text/plain": [
       "  0%|          | 0/10 [00:00<?, ?it/s]"
      ]
     },
     "metadata": {},
     "output_type": "display_data"
    },
    {
     "name": "stdout",
     "output_type": "stream",
     "text": [
      "nlp_random_char_substitution\n"
     ]
    },
    {
     "data": {
      "application/vnd.jupyter.widget-view+json": {
       "model_id": "d54d9a733fa8481e9a661e70b6c7595b",
       "version_major": 2,
       "version_minor": 0
      },
      "text/plain": [
       "  0%|          | 0/10 [00:00<?, ?it/s]"
      ]
     },
     "metadata": {},
     "output_type": "display_data"
    },
    {
     "name": "stdout",
     "output_type": "stream",
     "text": [
      "nlp_random_char_swap\n"
     ]
    },
    {
     "data": {
      "application/vnd.jupyter.widget-view+json": {
       "model_id": "815f0052decb4d7397f397b47d455905",
       "version_major": 2,
       "version_minor": 0
      },
      "text/plain": [
       "  0%|          | 0/10 [00:00<?, ?it/s]"
      ]
     },
     "metadata": {},
     "output_type": "display_data"
    },
    {
     "name": "stdout",
     "output_type": "stream",
     "text": [
      "nlp_random_char_deletion\n"
     ]
    },
    {
     "data": {
      "application/vnd.jupyter.widget-view+json": {
       "model_id": "c20d133efe2c4ef59c572d7792895f27",
       "version_major": 2,
       "version_minor": 0
      },
      "text/plain": [
       "  0%|          | 0/10 [00:00<?, ?it/s]"
      ]
     },
     "metadata": {},
     "output_type": "display_data"
    },
    {
     "name": "stdout",
     "output_type": "stream",
     "text": [
      "bert\n"
     ]
    },
    {
     "data": {
      "application/vnd.jupyter.widget-view+json": {
       "model_id": "473b93500bcc4333afa680960ca8f073",
       "version_major": 2,
       "version_minor": 0
      },
      "text/plain": [
       "  0%|          | 0/10 [00:00<?, ?it/s]"
      ]
     },
     "metadata": {},
     "output_type": "display_data"
    },
    {
     "data": {
      "image/png": "[encoded data removed]",
      "text/plain": [
       "<Figure size 432x288 with 1 Axes>"
      ]
     },
     "metadata": {},
     "output_type": "display_data"
    },
    {
     "data": {
      "text/html": [
       "<div>\n",
       "<style scoped>\n",
       "    .dataframe tbody tr th:only-of-type {\n",
       "        vertical-align: middle;\n",
       "    }\n",
       "\n",
       "    .dataframe tbody tr th {\n",
       "        vertical-align: top;\n",
       "    }\n",
       "\n",
       "    .dataframe thead th {\n",
       "        text-align: right;\n",
       "    }\n",
       "</style>\n",
       "<table border=\"1\" class=\"dataframe\">\n",
       "  <thead>\n",
       "    <tr style=\"text-align: right;\">\n",
       "      <th></th>\n",
       "      <th>augmentation</th>\n",
       "      <th>accuracy</th>\n",
       "      <th>batch_num</th>\n",
       "    </tr>\n",
       "  </thead>\n",
       "  <tbody>\n",
       "    <tr>\n",
       "      <th>63</th>\n",
       "      <td>bert</td>\n",
       "      <td>0.927054</td>\n",
       "      <td>3</td>\n",
       "    </tr>\n",
       "    <tr>\n",
       "      <th>67</th>\n",
       "      <td>bert</td>\n",
       "      <td>0.926989</td>\n",
       "      <td>7</td>\n",
       "    </tr>\n",
       "    <tr>\n",
       "      <th>57</th>\n",
       "      <td>nlp_random_char_deletion</td>\n",
       "      <td>0.926942</td>\n",
       "      <td>7</td>\n",
       "    </tr>\n",
       "    <tr>\n",
       "      <th>61</th>\n",
       "      <td>bert</td>\n",
       "      <td>0.926821</td>\n",
       "      <td>1</td>\n",
       "    </tr>\n",
       "    <tr>\n",
       "      <th>65</th>\n",
       "      <td>bert</td>\n",
       "      <td>0.926783</td>\n",
       "      <td>5</td>\n",
       "    </tr>\n",
       "    <tr>\n",
       "      <th>...</th>\n",
       "      <td>...</td>\n",
       "      <td>...</td>\n",
       "      <td>...</td>\n",
       "    </tr>\n",
       "    <tr>\n",
       "      <th>0</th>\n",
       "      <td>nlp_ocr</td>\n",
       "      <td>0.921317</td>\n",
       "      <td>0</td>\n",
       "    </tr>\n",
       "    <tr>\n",
       "      <th>8</th>\n",
       "      <td>nlp_ocr</td>\n",
       "      <td>0.921149</td>\n",
       "      <td>8</td>\n",
       "    </tr>\n",
       "    <tr>\n",
       "      <th>5</th>\n",
       "      <td>nlp_ocr</td>\n",
       "      <td>0.921037</td>\n",
       "      <td>5</td>\n",
       "    </tr>\n",
       "    <tr>\n",
       "      <th>3</th>\n",
       "      <td>nlp_ocr</td>\n",
       "      <td>0.920953</td>\n",
       "      <td>3</td>\n",
       "    </tr>\n",
       "    <tr>\n",
       "      <th>9</th>\n",
       "      <td>nlp_ocr</td>\n",
       "      <td>0.920701</td>\n",
       "      <td>9</td>\n",
       "    </tr>\n",
       "  </tbody>\n",
       "</table>\n",
       "<p>70 rows × 3 columns</p>\n",
       "</div>"
      ],
      "text/plain": [
       "                augmentation  accuracy  batch_num\n",
       "63                      bert  0.927054          3\n",
       "67                      bert  0.926989          7\n",
       "57  nlp_random_char_deletion  0.926942          7\n",
       "61                      bert  0.926821          1\n",
       "65                      bert  0.926783          5\n",
       "..                       ...       ...        ...\n",
       "0                    nlp_ocr  0.921317          0\n",
       "8                    nlp_ocr  0.921149          8\n",
       "5                    nlp_ocr  0.921037          5\n",
       "3                    nlp_ocr  0.920953          3\n",
       "9                    nlp_ocr  0.920701          9\n",
       "\n",
       "[70 rows x 3 columns]"
      ]
     },
     "execution_count": 22,
     "metadata": {},
     "output_type": "execute_result"
    }
   ],
   "source": [
    "# CHARACTER-BASED FOUR SAMPLES\n",
    "\n",
    "directory = OUTPUT_PATH + \"civilcomments_ERM_predictions_optimized_params_four_samples/averaged_sample_group/with_bert/\"\n",
    "char_aug_file_paths = []\n",
    "\n",
    "for aug in all_char_augmentations:\n",
    "    file_path = directory + aug + \".npy\"\n",
    "    char_aug_file_paths.append(file_path)\n",
    "    \n",
    "char_aug_file_paths.append(bert_path)\n",
    "\n",
    "print(char_aug_file_paths)\n",
    "\n",
    "create_accuracy_graph(char_aug_file_paths, plot_type = \"bar\", title = \"Character-based\")"
   ]
  },
  {
   "cell_type": "code",
   "execution_count": 21,
   "metadata": {
    "scrolled": false
   },
   "outputs": [
    {
     "name": "stdout",
     "output_type": "stream",
     "text": [
      "nlp_random_word_swap\n"
     ]
    },
    {
     "data": {
      "application/vnd.jupyter.widget-view+json": {
       "model_id": "b5696a0a93574d30942d8424103d9d0a",
       "version_major": 2,
       "version_minor": 0
      },
      "text/plain": [
       "  0%|          | 0/10 [00:00<?, ?it/s]"
      ]
     },
     "metadata": {},
     "output_type": "display_data"
    },
    {
     "name": "stdout",
     "output_type": "stream",
     "text": [
      "nlp_random_word_delete\n"
     ]
    },
    {
     "data": {
      "application/vnd.jupyter.widget-view+json": {
       "model_id": "302848d120d443b18c6d429888515e35",
       "version_major": 2,
       "version_minor": 0
      },
      "text/plain": [
       "  0%|          | 0/10 [00:00<?, ?it/s]"
      ]
     },
     "metadata": {},
     "output_type": "display_data"
    },
    {
     "name": "stdout",
     "output_type": "stream",
     "text": [
      "nlp_wordnet_synonym\n"
     ]
    },
    {
     "data": {
      "application/vnd.jupyter.widget-view+json": {
       "model_id": "587c391adef643d5a7e4734f1f462e10",
       "version_major": 2,
       "version_minor": 0
      },
      "text/plain": [
       "  0%|          | 0/10 [00:00<?, ?it/s]"
      ]
     },
     "metadata": {},
     "output_type": "display_data"
    },
    {
     "name": "stdout",
     "output_type": "stream",
     "text": [
      "nlp_ppdb_synonym\n"
     ]
    },
    {
     "data": {
      "application/vnd.jupyter.widget-view+json": {
       "model_id": "f17b8318273a43c6be161a804e1a9162",
       "version_major": 2,
       "version_minor": 0
      },
      "text/plain": [
       "  0%|          | 0/10 [00:00<?, ?it/s]"
      ]
     },
     "metadata": {},
     "output_type": "display_data"
    },
    {
     "name": "stdout",
     "output_type": "stream",
     "text": [
      "nlp_antonym\n"
     ]
    },
    {
     "data": {
      "application/vnd.jupyter.widget-view+json": {
       "model_id": "c05e4f9bee8542839b1d43dfee8feb24",
       "version_major": 2,
       "version_minor": 0
      },
      "text/plain": [
       "  0%|          | 0/10 [00:00<?, ?it/s]"
      ]
     },
     "metadata": {},
     "output_type": "display_data"
    },
    {
     "name": "stdout",
     "output_type": "stream",
     "text": [
      "nlp_random_token_split\n",
      "nlp_spelling_substitution\n"
     ]
    },
    {
     "data": {
      "application/vnd.jupyter.widget-view+json": {
       "model_id": "d3f00fa4f46a4f4ea69a208ec4e3cdd1",
       "version_major": 2,
       "version_minor": 0
      },
      "text/plain": [
       "  0%|          | 0/10 [00:00<?, ?it/s]"
      ]
     },
     "metadata": {},
     "output_type": "display_data"
    },
    {
     "name": "stdout",
     "output_type": "stream",
     "text": [
      "nlp_random_contextual_word_insertion_distilroberta_base_embedding\n"
     ]
    },
    {
     "data": {
      "application/vnd.jupyter.widget-view+json": {
       "model_id": "0aadc00454684ff3a6f0bc9f1e8fe4d3",
       "version_major": 2,
       "version_minor": 0
      },
      "text/plain": [
       "  0%|          | 0/10 [00:00<?, ?it/s]"
      ]
     },
     "metadata": {},
     "output_type": "display_data"
    },
    {
     "name": "stdout",
     "output_type": "stream",
     "text": [
      "nlp_random_contextual_word_substitution_squeezebert_uncased_embedding\n"
     ]
    },
    {
     "data": {
      "application/vnd.jupyter.widget-view+json": {
       "model_id": "f929347c0c254a54b3e2cbf6412c55f5",
       "version_major": 2,
       "version_minor": 0
      },
      "text/plain": [
       "  0%|          | 0/10 [00:00<?, ?it/s]"
      ]
     },
     "metadata": {},
     "output_type": "display_data"
    },
    {
     "name": "stdout",
     "output_type": "stream",
     "text": [
      "bert\n"
     ]
    },
    {
     "data": {
      "application/vnd.jupyter.widget-view+json": {
       "model_id": "da2329a8bba84eceb1a651d24ccb8810",
       "version_major": 2,
       "version_minor": 0
      },
      "text/plain": [
       "  0%|          | 0/10 [00:00<?, ?it/s]"
      ]
     },
     "metadata": {},
     "output_type": "display_data"
    },
    {
     "name": "stdout",
     "output_type": "stream",
     "text": [
      "bert\n"
     ]
    },
    {
     "data": {
      "application/vnd.jupyter.widget-view+json": {
       "model_id": "fb2ab548230e4dd3ac6cbb0f71d7590a",
       "version_major": 2,
       "version_minor": 0
      },
      "text/plain": [
       "  0%|          | 0/10 [00:00<?, ?it/s]"
      ]
     },
     "metadata": {},
     "output_type": "display_data"
    }
   ],
   "source": [
    "# WORD-BASED FOUR SAMPLES\n",
    "\n",
    "directory = OUTPUT_PATH + \"civilcomments_ERM_predictions_optimized_params_four_samples/averaged_sample_group/with_bert/\"\n",
    "word_aug_file_paths = []\n",
    "\n",
    "for aug in all_word_augmentations[:9]:\n",
    "    file_path = directory + aug + \".npy\"\n",
    "    word_aug_file_paths.append(file_path)\n",
    "    \n",
    "word_aug_file_paths.append(bert_path)\n",
    "\n",
    "    \n",
    "bert_path = OUTPUT_PATH + \"civilcomments_ERM_predictions/bert.npy\"\n",
    "word_aug_file_paths.append(bert_path)\n",
    "\n",
    "aug_to_acc = []\n",
    "\n",
    "for file_name in word_aug_file_paths:\n",
    "\n",
    "    augmentation_name = file_name.split('/')[-1].split('.')[0]\n",
    "    print(augmentation_name)\n",
    "    \n",
    "    if augmentation_name != \"nlp_random_token_split\":\n",
    "        accuracies = calculate_accuracy(file_name, sampling_percent = 0.8, num_runs = 10)\n",
    "\n",
    "    for i in range(len(accuracies)):\n",
    "        accuracy = accuracies[i]\n",
    "        aug_dict = {\"augmentation\":augmentation_name, \"accuracy\": accuracy, \"batch_num\": i}\n",
    "\n",
    "        aug_to_acc.append(aug_dict)\n",
    "\n",
    "    \n",
    "acc_df = pd.DataFrame(aug_to_acc).sort_values('accuracy', ascending = False)\n",
    "#print(acc_df)\n",
    "    \n",
    "threshhold_value = acc_df.loc[(acc_df[\"augmentation\"] == \"bert\")][\"accuracy\"].mean()\n",
    "\n",
    "filtered_acc_df = acc_df\n",
    "filtered_acc_df[\"delta\"] = filtered_acc_df[\"accuracy\"] - threshhold_value"
   ]
  },
  {
   "cell_type": "code",
   "execution_count": 24,
   "metadata": {},
   "outputs": [
    {
     "data": {
      "image/png": "[encoded data removed]",
      "text/plain": [
       "<Figure size 432x288 with 1 Axes>"
      ]
     },
     "metadata": {},
     "output_type": "display_data"
    }
   ],
   "source": [
    "fig, axs = plt.subplots()\n",
    "p = sns.boxplot(ax = axs, x = 'augmentation', y = \"delta\", data = filtered_acc_df)\n",
    "\n",
    "axs.set_ylim(Y_AXIS_MIN, Y_AXIS_MAX)\n",
    "axs.set_xticklabels(axs.get_xticklabels(), rotation=90, ha='right')\n",
    "axs.set_ylabel(\"change in accuracy\")\n",
    "axs.set_xlabel(\"augmentation transform in policy\")\n",
    "\n",
    "new_labels = []\n",
    "\n",
    "x_ticks = axs.get_xticklabels()\n",
    "\n",
    "for label in x_ticks:\n",
    "    new_label = abbreviated_mapping[label.get_text()]\n",
    "    new_labels.append(new_label)\n",
    "\n",
    "axs.set_xticklabels(new_labels)\n",
    "\n",
    "\n",
    "for i in range(len(x_ticks)):\n",
    "    x_ticks[i].set_color(\"red\")\n",
    "            \n",
    "    \n",
    "axs.set_title(\"Change in accuracy using multi-sample, single-augmentation configuration\")\n",
    "\n",
    "format_plot()\n",
    "\n",
    "#fig.suptitle(title)\n",
    "plt.savefig(\"multi-single-PDF.pdf\", format = \"pdf\", bbox_inches = \"tight\")\n",
    "plt.show()\n",
    "\n",
    "\n"
   ]
  },
  {
   "cell_type": "code",
   "execution_count": null,
   "metadata": {},
   "outputs": [],
   "source": [
    "improved_augs = ['nlp_spelling_substitution'\n",
    "                 , 'nlp_random_contextual_word_insertion_distilroberta_base_embedding'\n",
    "                 , 'nlp_random_contextual_word_insertion_roberta_base_embedding'\n",
    "                 , 'nlp_random_contextual_word_insertion_distilbert_uncased_embedding'\n",
    "                 , 'nlp_random_contextual_word_insertion_distilbert_cased_embedding'\n",
    "                 , 'nlp_random_contextual_word_substitution_bert_uncased_embedding'\n",
    "                 , 'nlp_random_word_swap'\n",
    "                 , 'nlp_random_contextual_word_insertion_bart_base_embedding'\n",
    "                 , 'nlp_random_contextual_word_insertion_squeezebert_uncased_embedding'\n",
    "                 , 'nlp_random_word_delete'\n",
    "                 , 'nlp_wordnet_synonym'\n",
    "                 , 'nlp_ppdb_synonym'\n",
    "                 , 'nlp_antonym'\n",
    "                ]\n"
   ]
  },
  {
   "cell_type": "markdown",
   "metadata": {},
   "source": [
    "## FIGURE 6B: MULTI-SAMPLE, SINGLE-AUGMENTATION (AMAZON)"
   ]
  },
  {
   "cell_type": "markdown",
   "metadata": {},
   "source": [
    "## FIGURE 7A: MULTI-SAMPLE, MULTI-AUGMENTATION (CIVILCOMMENTS)"
   ]
  },
  {
   "cell_type": "code",
   "execution_count": null,
   "metadata": {},
   "outputs": [],
   "source": [
    "\"\"\"\n",
    "[a, a, a]\n",
    "[a, a, a]\n",
    "[a, a, a]\n",
    "[a, a, a]\n",
    "[b, b, b]\n",
    "...\n",
    "\n",
    "\"\"\"\n",
    "\n"
   ]
  },
  {
   "cell_type": "markdown",
   "metadata": {},
   "source": [
    "## FIGURE 7B: MULTI-SAMPLE, MULTI-AUGMENTATION (AMAZON)"
   ]
  },
  {
   "cell_type": "code",
   "execution_count": null,
   "metadata": {},
   "outputs": [],
   "source": []
  }
 ],
 "metadata": {
  "kernelspec": {
   "display_name": "Python 3",
   "language": "python",
   "name": "python3"
  },
  "language_info": {
   "codemirror_mode": {
    "name": "ipython",
    "version": 3
   },
   "file_extension": ".py",
   "mimetype": "text/x-python",
   "name": "python",
   "nbconvert_exporter": "python",
   "pygments_lexer": "ipython3",
   "version": "3.6.13"
  }
 },
 "nbformat": 4,
 "nbformat_minor": 2
}
