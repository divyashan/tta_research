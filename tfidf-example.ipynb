{
 "cells": [
  {
   "cell_type": "code",
   "execution_count": 63,
   "metadata": {},
   "outputs": [],
   "source": [
    "from sklearn.feature_extraction.text import TfidfVectorizer\n",
    "import numpy as np\n",
    "from collections import Counter\n"
   ]
  },
  {
   "cell_type": "code",
   "execution_count": 68,
   "metadata": {},
   "outputs": [],
   "source": [
    "corrections = [\n",
    "    'The Internal Revenue Service will kick off the approaching tax season with a backlog of at least 10 million unprocessed returns from last year, according to a new report by the National Taxpayer Advocate.',\n",
    "    'The pile of returns remaining are from the “most challenging year taxpayers and tax professionals have ever experienced,” the advocate, Erin M. Collins, wrote in her report.',\n",
    "    'One reason for the backlog: Stimulus payments to the people from the government during the pandemic have been largely routed through the I.R.S., which Ms. Collins said was already short staffed.',\n",
    "    'The vast majority of taxpayers — 77 percent — received refunds in 2021, but tens of millions of them experienced delays. Ms. Collins called last year’s situation “horrendous” from the standpoint of taxpayers. Although the backlog is not too different from last season’s, it is far higher than the backlog the I.R.S. typically faced before the pandemic began.']\n",
    "\n",
    "corruptions = [\n",
    "    'The latest Covid-19 wave has left millions of Americans scrambling for tests, braving long lines in the cold at pop-up sites or searching furiously online for kits to use at home. But for a select group of employees at some of the country’s largest companies, tests are free and often readily available.',\n",
    "    'Without an adequate federal system for developing and distributing rapid tests, companies have put their own testing services in place.',\n",
    "    'Google will send full-time employees in the United States free at-home tests that deliver results within minutes and retail for more than $70 each. BlackRock, an investment firm that manages nearly $10 trillion in assets, offers tele-health supervision as employees self-administer rapid tests for international travel. At JPMorgan Chase, bankers, including those at its retail sites, can order at-home rapid tests from an internal company site.',\n",
    "    'Some companies are using the tests to call their staff back to the office. For others, at-home Covid testing has become the newest wellness benefit, a perk to keep employees healthy and working — even from their couches — while providing peace of mind.']\n",
    "\n",
    "all_corrections = ' '.join(corrections) \n",
    "all_corruptions = ' '.join(corruptions)"
   ]
  },
  {
   "cell_type": "code",
   "execution_count": 87,
   "metadata": {},
   "outputs": [],
   "source": [
    "vectorizer = TfidfVectorizer(use_idf=True)\n",
    "vectorizer.fit_transform([all_corrections, all_corruptions])\n",
    "feats = np.array(vectorizer.get_feature_names())"
   ]
  },
  {
   "cell_type": "code",
   "execution_count": 94,
   "metadata": {},
   "outputs": [],
   "source": [
    "transformed_corrections = np.array(vectorizer.transform([all_corrections]).todense())[0]\n",
    "transformed_corruptions = np.array(vectorizer.transform([all_corruptions]).todense())[0]"
   ]
  },
  {
   "cell_type": "code",
   "execution_count": 102,
   "metadata": {},
   "outputs": [
    {
     "data": {
      "text/plain": [
       "array(['the', 'of', 'backlog', 'from', 'last', 'taxpayers', 'collins',\n",
       "       'year', 'report', 'season', 'advocate', 'ms', 'experienced',\n",
       "       'pandemic', 'is', 'tax', 'returns', 'have', 'to', 'in', 'which',\n",
       "       'received', 'refunds', 'remaining', 'routed', 'revenue', 'said',\n",
       "       'horrendous', 'higher', 'her', 'reason', 'largely', 'it',\n",
       "       'million', 'not', 'new', 'one', 'national', 'most', 'wrote',\n",
       "       'payments', 'people', 'kick', 'percent', 'majority', 'pile',\n",
       "       'least', '2021', 'professionals', 'service'], dtype='<U13')"
      ]
     },
     "execution_count": 102,
     "metadata": {},
     "output_type": "execute_result"
    }
   ],
   "source": [
    "# most frequest correction words \n",
    "feats[np.argsort(transformed_corrections)][::-1][:50]"
   ]
  },
  {
   "cell_type": "code",
   "execution_count": 99,
   "metadata": {},
   "outputs": [
    {
     "data": {
      "text/plain": [
       "array(['tests', 'at', 'for', 'the', 'employees', 'home', 'companies',\n",
       "       'an', 'their', 'rapid', 'in', 'of', 'to', 'and', 'sites', 'retail',\n",
       "       'testing', 'free', 'some', 'has', 'covid', 'that', 'from', 'are',\n",
       "       'order', 'others', 'or', 'minutes', 'peace', 'own', 'firm',\n",
       "       'federal', 'even', 'perk', 'place', 'pop', 'each', 'providing',\n",
       "       'put', 'readily', 'online', 'furiously', 'often', 'manages',\n",
       "       'jpmorgan', 'keep', 'international', 'kits', 'largest',\n",
       "       'including', 'latest', 'left', 'lines', 'long', 'healthy',\n",
       "       'office', 'health', 'mind', 'more', 'group', 'google', 'nearly',\n",
       "       'developing', 'newest', 'full', 'offers', 'distributing',\n",
       "       'company', 'deliver', 'using', 'available', 'assets', 'those',\n",
       "       'as', 'time', 'travel', 'trillion', 'united', 'up', 'use',\n",
       "       'americans', 'country', 'administer', 'wave', 'wellness',\n",
       "       'adequate', 'while', '70', '19', 'within', 'without', 'working',\n",
       "       'tele', 'back', 'bankers', 'become', 'results', 'couches',\n",
       "       'investment', 'cold', 'scrambling', 'searching', 'chase', 'select',\n",
       "       'self', 'send', 'can', 'services', 'call', 'site', 'staff',\n",
       "       'braving', 'blackrock', 'states', 'benefit', 'supervision',\n",
       "       'system', 'its', 'but', 'have', 'internal', '10', 'than',\n",
       "       'millions', 'will', 'taxpayer', 'tax', 'been', 'before', 'began',\n",
       "       'stimulus', 'standpoint', 'staffed', 'situation', 'taxpayers',\n",
       "       'by', 'short', 'called', 'service', 'challenging', 'season',\n",
       "       'said', 'backlog', 'is', 'tens', 'already', 'with', '2021', '77',\n",
       "       'according', 'which', 'was', 'advocate', 'although', 'routed',\n",
       "       'vast', 'unprocessed', 'typically', 'approaching', 'too',\n",
       "       'through', 'them', 'collins', 'revenue', 'it', 'returns', 'off',\n",
       "       'not', 'new', 'national', 'government', 'ms', 'most', 'wrote',\n",
       "       'million', 'her', 'higher', 'majority', 'horrendous', 'least',\n",
       "       'last', 'largely', 'kick', 'one', 'pandemic', 'payments', 'during',\n",
       "       'report', 'remaining', 'delays', 'refunds', 'received',\n",
       "       'different', 'reason', 'professionals', 'people', 'pile', 'erin',\n",
       "       'percent', 'ever', 'experienced', 'faced', 'far', 'year'],\n",
       "      dtype='<U13')"
      ]
     },
     "execution_count": 99,
     "metadata": {},
     "output_type": "execute_result"
    }
   ],
   "source": [
    "# most frequent corruption words \n",
    "feats[np.argsort(transformed_corruptions)][::-1] "
   ]
  }
 ],
 "metadata": {
  "kernelspec": {
   "display_name": "Python 3",
   "language": "python",
   "name": "python3"
  },
  "language_info": {
   "codemirror_mode": {
    "name": "ipython",
    "version": 3
   },
   "file_extension": ".py",
   "mimetype": "text/x-python",
   "name": "python",
   "nbconvert_exporter": "python",
   "pygments_lexer": "ipython3",
   "version": "3.6.13"
  }
 },
 "nbformat": 4,
 "nbformat_minor": 4
}
