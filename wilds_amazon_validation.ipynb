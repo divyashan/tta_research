{
 "cells": [
  {
   "cell_type": "code",
   "execution_count": 12,
   "id": "61bf33dd",
   "metadata": {},
   "outputs": [
    {
     "name": "stdout",
     "output_type": "stream",
     "text": [
      "The autoreload extension is already loaded. To reload it, use:\n",
      "  %reload_ext autoreload\n",
      "Using GPU:1\n"
     ]
    }
   ],
   "source": [
    "%load_ext autoreload\n",
    "%autoreload 2\n",
    "# Set-up: Import numpy and assign GPU\n",
    "from collections import defaultdict\n",
    "import os\n",
    "import numpy as np\n",
    "import scipy as sp\n",
    "import seaborn as sns\n",
    "import matplotlib.pyplot as plt\n",
    "import sklearn\n",
    "from tqdm.notebook import tqdm\n",
    "\n",
    "from gpu_utils import restrict_GPU_pytorch\n",
    "restrict_GPU_pytorch('1')"
   ]
  },
  {
   "cell_type": "code",
   "execution_count": 13,
   "id": "efcaf180",
   "metadata": {},
   "outputs": [],
   "source": [
    "# Load Amazon WILDS pre-trained model\n",
    "import statistics\n",
    "import sys\n",
    "import pickle\n",
    "import numpy as np\n",
    "import pandas as pd\n",
    "import statistics\n",
    "\n",
    "import torch\n",
    "import torchvision.transforms as transforms\n",
    "\n",
    "import argparse\n",
    "import pdb\n",
    "\n",
    "from wilds import get_dataset\n",
    "from wilds.common.data_loaders import get_train_loader, get_eval_loader\n",
    "from wilds.common.grouper import CombinatorialGrouper\n",
    "from transforms_helenl import initialize_transform, getBertTokenizer\n",
    "\n",
    "sys.path.insert(0, './wilds/examples/')\n",
    "os.environ[\"MODEL_DIR\"] = '../models'\n",
    "model_dir = '../models'\n",
    "\n",
    "from algorithms.initializer import initialize_algorithm\n"
   ]
  },
  {
   "cell_type": "code",
   "execution_count": 3,
   "id": "0a6d1449",
   "metadata": {},
   "outputs": [],
   "source": [
    "import random\n",
    "\n",
    "def set_seed(seed):\n",
    "    random.seed(seed)\n",
    "    np.random.seed(seed)\n",
    "    torch.manual_seed(seed)\n",
    "    if torch.cuda.is_available():\n",
    "        torch.cuda.manual_seed_all(seed)\n",
    "        \n",
    "set_seed(0)"
   ]
  },
  {
   "cell_type": "code",
   "execution_count": 4,
   "id": "663346e0",
   "metadata": {},
   "outputs": [],
   "source": [
    "class Namespace:\n",
    "    def __init__(self, **kwargs):\n",
    "        self.__dict__.update(kwargs)\n",
    "        \n",
    "#config_dict = pickle.load(open('amazon_config.txt', 'rb'))\n",
    "\n",
    "\n",
    "\n",
    "full_dataset = get_dataset(dataset='civilcomments', download=False, root_dir = './wilds/data')"
   ]
  },
  {
   "cell_type": "code",
   "execution_count": 6,
   "id": "0d8d729d",
   "metadata": {},
   "outputs": [
    {
     "data": {
      "text/plain": [
       "{'train': 0, 'val': 1, 'test': 2}"
      ]
     },
     "execution_count": 6,
     "metadata": {},
     "output_type": "execute_result"
    }
   ],
   "source": [
    "full_dataset.split_dict"
   ]
  },
  {
   "cell_type": "code",
   "execution_count": 5,
   "id": "7116d695",
   "metadata": {},
   "outputs": [
    {
     "data": {
      "text/plain": [
       "{'dataset': 'civilcomments',\n",
       " 'algorithm': 'ERM',\n",
       " 'root_dir': 'data',\n",
       " 'split_scheme': 'official',\n",
       " 'dataset_kwargs': {},\n",
       " 'download': False,\n",
       " 'frac': 1.0,\n",
       " 'version': None,\n",
       " 'loader_kwargs': {'num_workers': 1, 'pin_memory': True},\n",
       " 'train_loader': 'standard',\n",
       " 'uniform_over_groups': False,\n",
       " 'distinct_groups': None,\n",
       " 'n_groups_per_batch': 4,\n",
       " 'batch_size': 16,\n",
       " 'eval_loader': 'standard',\n",
       " 'model': 'distilbert-base-uncased',\n",
       " 'model_kwargs': {},\n",
       " 'transform': 'bert',\n",
       " 'target_resolution': None,\n",
       " 'resize_scale': None,\n",
       " 'max_token_length': 300,\n",
       " 'loss_function': 'cross_entropy',\n",
       " 'loss_kwargs': {},\n",
       " 'groupby_fields': ['black', 'y'],\n",
       " 'group_dro_step_size': None,\n",
       " 'coral_penalty_weight': 10.0,\n",
       " 'irm_lambda': 1.0,\n",
       " 'irm_penalty_anneal_iters': None,\n",
       " 'algo_log_metric': 'accuracy',\n",
       " 'val_metric': 'acc_wg',\n",
       " 'val_metric_decreasing': False,\n",
       " 'n_epochs': 5,\n",
       " 'optimizer': 'AdamW',\n",
       " 'lr': 1e-05,\n",
       " 'weight_decay': 0.01,\n",
       " 'max_grad_norm': 1.0,\n",
       " 'optimizer_kwargs': {},\n",
       " 'scheduler': 'linear_schedule_with_warmup',\n",
       " 'scheduler_kwargs': {'num_warmup_steps': 0},\n",
       " 'scheduler_metric_split': 'val',\n",
       " 'scheduler_metric_name': None,\n",
       " 'process_outputs_function': 'multiclass_logits_to_pred',\n",
       " 'evaluate_all_splits': True,\n",
       " 'eval_splits': [],\n",
       " 'eval_only': False,\n",
       " 'eval_epoch': None,\n",
       " 'device': 0,\n",
       " 'seed': 0,\n",
       " 'log_dir': './logs',\n",
       " 'log_every': 50,\n",
       " 'save_step': None,\n",
       " 'save_best': True,\n",
       " 'save_last': True,\n",
       " 'save_pred': True,\n",
       " 'no_group_logging': False,\n",
       " 'use_wandb': False,\n",
       " 'progress_bar': False,\n",
       " 'resume': False}"
      ]
     },
     "execution_count": 5,
     "metadata": {},
     "output_type": "execute_result"
    }
   ],
   "source": [
    " # Grab config generated by WILDS library from txt file\n",
    "    infile = open('civilcomments_config.txt','rb')\n",
    "    new_dict = vars(pickle.load(infile))\n",
    "    infile.close() \n",
    "\n",
    "    # Create config with ERM algorithm\n",
    "    config = Namespace(**new_dict)\n",
    "\n",
    "    new_dict"
   ]
  },
  {
   "cell_type": "code",
   "execution_count": 19,
   "id": "6252cc78",
   "metadata": {},
   "outputs": [],
   "source": [
    "def predict_augmented_labels(transform_name, aug_size):\n",
    "    \n",
    "    # Grab config generated by WILDS library from txt file\n",
    "    infile = open('civilcomments_config.txt','rb')\n",
    "    new_dict = vars(pickle.load(infile))\n",
    "    infile.close() \n",
    "\n",
    "    # Modify config with intended transformation\n",
    "    new_dict['transform'] = transform_name\n",
    "\n",
    "    # Create config with ERM algorithm\n",
    "    config = Namespace(**new_dict)\n",
    "    config.algorithm = 'ERM'\n",
    "\n",
    "    \n",
    "    # Generate training and evaluation transforms\n",
    "    print(aug_size)\n",
    "    train_transform = initialize_transform(transform_name=config.transform,\n",
    "                                      config=config,\n",
    "                                      dataset=full_dataset,\n",
    "                                      is_training = True, \n",
    "                                      aug_size = aug_size)\n",
    "    \n",
    "    # Prepare training data, loader, and grouper\n",
    "    train_data = full_dataset.get_subset('train', transform=train_transform)\n",
    "    train_loader = get_train_loader('standard', train_data, batch_size=64)\n",
    "    train_grouper = CombinatorialGrouper(dataset=full_dataset, groupby_fields=config.groupby_fields)\n",
    "    \n",
    "    # Prepare training data, loader, and grouper\n",
    "    eval_transform = initialize_transform(transform_name=config.transform,\n",
    "                                      config=config,\n",
    "                                      dataset=full_dataset,\n",
    "                                      is_training=False,\n",
    "                                      aug_size = aug_size)\n",
    "    \n",
    "    \n",
    "    eval_data = full_dataset.get_subset('test', transform=eval_transform)\n",
    "    eval_loader = get_eval_loader('standard', eval_data, batch_size = 64)\n",
    "    \n",
    "    # CODE TAKEN FROM WILDS TRAINING SCRIPTS:\n",
    "    datasets = defaultdict(dict)\n",
    "    for split in full_dataset.split_dict.keys():\n",
    "        if split=='train':\n",
    "            transform = train_transform\n",
    "            verbose = True\n",
    "        elif split == 'val':\n",
    "            transform = eval_transform\n",
    "            verbose = True\n",
    "        else:\n",
    "            transform = eval_transform\n",
    "            verbose = False\n",
    "        # Get subset\n",
    "        datasets[split]['dataset'] = full_dataset.get_subset(\n",
    "            split,\n",
    "            frac=config.frac,\n",
    "            transform=transform)\n",
    "\n",
    "        if split == 'train':\n",
    "            datasets[split]['loader'] = get_train_loader(\n",
    "                loader=config.train_loader,\n",
    "                dataset=datasets[split]['dataset'],\n",
    "                batch_size=config.batch_size,\n",
    "                uniform_over_groups=config.uniform_over_groups,\n",
    "                grouper=train_grouper,\n",
    "                distinct_groups=config.distinct_groups,\n",
    "                n_groups_per_batch=config.n_groups_per_batch,\n",
    "            **config.loader_kwargs)\n",
    "        else:\n",
    "            datasets[split]['loader'] = get_eval_loader(\n",
    "                loader=config.eval_loader,\n",
    "                dataset=datasets[split]['dataset'],\n",
    "                grouper=train_grouper,\n",
    "                batch_size=config.batch_size,\n",
    "                **config.loader_kwargs)\n",
    "\n",
    "    # Set fields\n",
    "    datasets[split]['split'] = split\n",
    "    datasets[split]['name'] = full_dataset.split_names[split]\n",
    "    datasets[split]['verbose'] = verbose\n",
    "\n",
    "    # Loggers\n",
    "    # datasets[split]['eval_logger'] = BatchLogger(\n",
    "    #     os.path.join(config.log_dir, f'{split}_eval.csv'), mode=mode, use_wandb=(config.use_wandb and verbose))\n",
    "    # datasets[split]['algo_logger'] = BatchLogger(\n",
    "    #     os.path.join(config.log_dir, f'{split}_algo.csv'), mode=mode, use_wandb=(config.use_wandb and verbose))\n",
    "\n",
    "    print(transform_name)\n",
    "    print(\"initialize model\")\n",
    "    # Initiate model and run on training set\n",
    "    alg = initialize_algorithm(config, datasets, train_grouper)\n",
    "    \n",
    "    # TODO: pytorch load pretrained weights\n",
    "    #alg.model.load_state_dict(torch.load('./best_model.pth'))\n",
    "    alg.load_state_dict(torch.load('./best_model.pth')['algorithm'])\n",
    "    alg.model.cuda()\n",
    "    \n",
    "    print(\"initialization complete\")\n",
    "    \n",
    "    \n",
    "    print(\"generating predictions\")\n",
    "    it = iter(eval_loader)\n",
    "    predictions = []\n",
    "    labels = []\n",
    "    metadata = []\n",
    "    \n",
    "    for batch in tqdm(it):\n",
    "        #pdb.set_trace()\n",
    "        raw_pred = alg.model(batch[0].cuda()).cpu().detach().numpy()\n",
    "        \n",
    "        #softmax_prediction = sp.special.softmax(raw_pred.cpu().detach().numpy()).tolist()\n",
    "        \n",
    "        predictions.extend(raw_pred.tolist())\n",
    "        labels.extend(batch[1].tolist())\n",
    "        metadata.extend(batch[2].tolist()) # tensor of (64,16) for each batch\n",
    "\n",
    "    \n",
    "\n",
    "    print(\"writing predictions\")\n",
    "    #file_name = './ERM_predictions/' + transform_name + \".npy\"\n",
    "    file_name = './ERM_word_frequency_experiment/' + transform_name + \"_aug_size_\" + str(aug_size) + \".npy\"\n",
    "    \n",
    "    with open(file_name, 'wb+') as file:\n",
    "        np.save(file, predictions)\n",
    "        np.save(file, labels)\n",
    "        np.save(file, metadata)\n",
    "\n",
    "\n"
   ]
  },
  {
   "cell_type": "code",
   "execution_count": 17,
   "id": "bca711d5",
   "metadata": {},
   "outputs": [
    {
     "name": "stdout",
     "output_type": "stream",
     "text": [
      "bert\n",
      "initialize model\n"
     ]
    },
    {
     "name": "stderr",
     "output_type": "stream",
     "text": [
      "Some weights of the model checkpoint at distilbert-base-uncased were not used when initializing DistilBertClassifier: ['vocab_transform.weight', 'vocab_transform.bias', 'vocab_layer_norm.weight', 'vocab_layer_norm.bias', 'vocab_projector.weight', 'vocab_projector.bias']\n",
      "- This IS expected if you are initializing DistilBertClassifier from the checkpoint of a model trained on another task or with another architecture (e.g. initializing a BertForSequenceClassification model from a BertForPreTraining model).\n",
      "- This IS NOT expected if you are initializing DistilBertClassifier from the checkpoint of a model that you expect to be exactly identical (initializing a BertForSequenceClassification model from a BertForSequenceClassification model).\n",
      "Some weights of DistilBertClassifier were not initialized from the model checkpoint at distilbert-base-uncased and are newly initialized: ['pre_classifier.weight', 'pre_classifier.bias', 'classifier.weight', 'classifier.bias']\n",
      "You should probably TRAIN this model on a down-stream task to be able to use it for predictions and inference.\n"
     ]
    },
    {
     "name": "stdout",
     "output_type": "stream",
     "text": [
      "initialization complete\n",
      "generating predictions\n"
     ]
    },
    {
     "data": {
      "application/vnd.jupyter.widget-view+json": {
       "model_id": "83d2bafe6ede44bf99a6bfd795dc6f6f",
       "version_major": 2,
       "version_minor": 0
      },
      "text/plain": [
       "  0%|          | 0/2091 [00:00<?, ?it/s]"
      ]
     },
     "metadata": {},
     "output_type": "display_data"
    },
    {
     "name": "stdout",
     "output_type": "stream",
     "text": [
      "writing predictions\n"
     ]
    }
   ],
   "source": [
    "predict_augmented_labels('bert')"
   ]
  },
  {
   "cell_type": "code",
   "execution_count": 59,
   "id": "6a9fb1a1",
   "metadata": {},
   "outputs": [],
   "source": [
    "completed_augment_labels = ['bert'\n",
    "                           'nlp_ocr'\n",
    "                           , 'nlp_keyboard'\n",
    "                           , 'nlp_random_char_insert'\n",
    "                           , 'nlp_random_char_substitution'\n",
    "                           , 'nlp_random_char_swap'\n",
    "                           , 'nlp_random_char_deletion'\n",
    "                           , 'nlp_spelling_substitution'\n",
    "                           , 'nlp_random_word_swap'\n",
    "                           , 'nlp_random_word_delete']\n",
    "\n",
    "in_progress = ['nlp_random_crop'\n",
    "               , 'nlp_random_token_split'\n",
    "               , 'nlp_back_translation_aug'\n",
    "              ]\n",
    "\n",
    "\n",
    "augmentations_requiring_model_download = ['nlp_random_similar_word_insertion_word2vec_embedding'\n",
    "                           , 'nlp_random_similar_word_insertion_glove_embedding'\n",
    "                           , 'nlp_random_similar_word_insertion_fasttext_embedding'\n",
    "                           , 'nlp_random_similar_word_substitution_word2vec_embedding'\n",
    "                           , 'nlp_random_similar_word_substitution_glove_embedding'\n",
    "                           , 'nlp_random_similar_word_substitution_fasttext_embedding'\n",
    "                           , 'nlp_random_similar_word_substitution_tfidf_embedding'   \n",
    "]\n",
    "\n",
    "'''\n",
    "supported_augment_labels = [\n",
    "                           'nlp_random_contextual_word_insertion_bert_uncased_embedding'\n",
    "                           , 'nlp_random_contextual_word_insertion_bert_cased_embedding'\n",
    "                           , 'nlp_random_contextual_word_insertion_distilbert_uncased_embedding'\n",
    "                           , 'nlp_random_contextual_word_insertion_distilbert_cased_embedding'\n",
    "                           , 'nlp_random_contextual_word_insertion_roberta_base_embedding'\n",
    "                           , 'nlp_random_contextual_word_insertion_distilroberta_base_embedding'\n",
    "                           , 'nlp_random_contextual_word_insertion_xlnet_embedding'\n",
    "                           , 'nlp_random_contextual_word_insertion_bart_base_embedding'\n",
    "                           , 'nlp_random_contextual_word_insertion_squeezebert_uncased_embedding'\n",
    "                           , 'nlp_random_contextual_word_substitution_bert_uncased_embedding'\n",
    "                           , 'nlp_random_contextual_word_substitution_bert_cased_embedding'\n",
    "                           , 'nlp_random_contextual_word_substitution_distilbert_uncased_embedding'\n",
    "                           , 'nlp_random_contextual_word_substitution_distilbert_cased_embedding'\n",
    "                           , 'nlp_random_contextual_word_substitution_roberta_embedding'\n",
    "                           , 'nlp_random_contextual_word_substitution_distilroberta_base_embedding'\n",
    "                           , 'nlp_random_contextual_word_substitution_xlnet_embedding'\n",
    "                           , 'nlp_random_contextual_word_substitution_bart_base_embedding'\n",
    "                           , 'nlp_random_contextual_word_substitution_squeezebert_uncased_embedding'\n",
    "                           , 'nlp_contextual_sentence_insertion_gpt2_embedding'\n",
    "                           , 'nlp_contextual_sentence_insertion_xlnet_cased_embedding'\n",
    "                           , 'nlp_contextual_sentence_insertion_distilgpt2_embedding'\n",
    "                           , 'nlp_abstractive_summarization_bart_large_cnn'\n",
    "                           , 'nlp_abstractive_summarization_t5_small'\n",
    "                           , 'nlp_abstractive_summarization_t5_base'\n",
    "                           , 'nlp_abstractive_summarization_t5_large'\n",
    "                           , 'nlp_wordnet_synonym'\n",
    "                           , 'nlp_ppdb_synonym'\n",
    "                           , 'nlp_antonym'\n",
    "                           , 'nlp_random_word_swap'\n",
    "                           , 'nlp_random_word_delete'\n",
    "                           , 'nlp_random_crop'\n",
    "                           , 'nlp_random_token_split'\n",
    "                           , 'nlp_back_translation_aug'\n",
    "                           ]\n",
    "'''\n",
    "\n",
    "supported_augment_labels = [#'nlp_wordnet_synonym'\n",
    "                           #, 'nlp_ppdb_synonym'\n",
    "                           #'nlp_antonym'\n",
    "                           'nlp_random_word_swap'\n",
    "                           , 'nlp_random_word_delete'\n",
    "                           , 'nlp_random_crop'\n",
    "                           , 'nlp_random_token_split'\n",
    "                           , 'nlp_back_translation_aug'\n",
    "    \n",
    "]"
   ]
  },
  {
   "cell_type": "code",
   "execution_count": 60,
   "id": "84bb513a",
   "metadata": {
    "scrolled": false
   },
   "outputs": [
    {
     "name": "stdout",
     "output_type": "stream",
     "text": [
      "nlp_random_similar_word_insertion_word2vec_embedding\n",
      "initialize model\n"
     ]
    },
    {
     "name": "stderr",
     "output_type": "stream",
     "text": [
      "Some weights of the model checkpoint at distilbert-base-uncased were not used when initializing DistilBertClassifier: ['vocab_transform.weight', 'vocab_transform.bias', 'vocab_layer_norm.weight', 'vocab_layer_norm.bias', 'vocab_projector.weight', 'vocab_projector.bias']\n",
      "- This IS expected if you are initializing DistilBertClassifier from the checkpoint of a model trained on another task or with another architecture (e.g. initializing a BertForSequenceClassification model from a BertForPreTraining model).\n",
      "- This IS NOT expected if you are initializing DistilBertClassifier from the checkpoint of a model that you expect to be exactly identical (initializing a BertForSequenceClassification model from a BertForSequenceClassification model).\n",
      "Some weights of DistilBertClassifier were not initialized from the model checkpoint at distilbert-base-uncased and are newly initialized: ['pre_classifier.weight', 'pre_classifier.bias', 'classifier.weight', 'classifier.bias']\n",
      "You should probably TRAIN this model on a down-stream task to be able to use it for predictions and inference.\n"
     ]
    },
    {
     "name": "stdout",
     "output_type": "stream",
     "text": [
      "initialization complete\n",
      "generating predictions\n"
     ]
    },
    {
     "data": {
      "application/vnd.jupyter.widget-view+json": {
       "model_id": "7d667cfd242f454f9ea93bbe5d9935b7",
       "version_major": 2,
       "version_minor": 0
      },
      "text/plain": [
       "  0%|          | 0/2091 [00:00<?, ?it/s]"
      ]
     },
     "metadata": {},
     "output_type": "display_data"
    },
    {
     "ename": "KeyboardInterrupt",
     "evalue": "",
     "output_type": "error",
     "traceback": [
      "\u001b[0;31m---------------------------------------------------------------------------\u001b[0m",
      "\u001b[0;31mKeyboardInterrupt\u001b[0m                         Traceback (most recent call last)",
      "\u001b[0;32m<ipython-input-60-1bb5f8cab7e5>\u001b[0m in \u001b[0;36m<module>\u001b[0;34m\u001b[0m\n\u001b[1;32m      1\u001b[0m \u001b[0;32mfor\u001b[0m \u001b[0maugment\u001b[0m \u001b[0;32min\u001b[0m \u001b[0maugmentations_requiring_model_download\u001b[0m\u001b[0;34m:\u001b[0m\u001b[0;34m\u001b[0m\u001b[0;34m\u001b[0m\u001b[0m\n\u001b[0;32m----> 2\u001b[0;31m     \u001b[0mpredict_augmented_labels\u001b[0m\u001b[0;34m(\u001b[0m\u001b[0maugment\u001b[0m\u001b[0;34m)\u001b[0m\u001b[0;34m\u001b[0m\u001b[0;34m\u001b[0m\u001b[0m\n\u001b[0m",
      "\u001b[0;32m<ipython-input-58-80454f097552>\u001b[0m in \u001b[0;36mpredict_augmented_labels\u001b[0;34m(transform_name)\u001b[0m\n\u001b[1;32m    101\u001b[0m     \u001b[0mmetadata\u001b[0m \u001b[0;34m=\u001b[0m \u001b[0;34m[\u001b[0m\u001b[0;34m]\u001b[0m\u001b[0;34m\u001b[0m\u001b[0;34m\u001b[0m\u001b[0m\n\u001b[1;32m    102\u001b[0m \u001b[0;34m\u001b[0m\u001b[0m\n\u001b[0;32m--> 103\u001b[0;31m     \u001b[0;32mfor\u001b[0m \u001b[0mbatch\u001b[0m \u001b[0;32min\u001b[0m \u001b[0mtqdm\u001b[0m\u001b[0;34m(\u001b[0m\u001b[0mit\u001b[0m\u001b[0;34m)\u001b[0m\u001b[0;34m:\u001b[0m\u001b[0;34m\u001b[0m\u001b[0;34m\u001b[0m\u001b[0m\n\u001b[0m\u001b[1;32m    104\u001b[0m         \u001b[0;31m#pdb.set_trace()\u001b[0m\u001b[0;34m\u001b[0m\u001b[0;34m\u001b[0m\u001b[0;34m\u001b[0m\u001b[0m\n\u001b[1;32m    105\u001b[0m         \u001b[0mraw_pred\u001b[0m \u001b[0;34m=\u001b[0m \u001b[0malg\u001b[0m\u001b[0;34m.\u001b[0m\u001b[0mmodel\u001b[0m\u001b[0;34m(\u001b[0m\u001b[0mbatch\u001b[0m\u001b[0;34m[\u001b[0m\u001b[0;36m0\u001b[0m\u001b[0;34m]\u001b[0m\u001b[0;34m.\u001b[0m\u001b[0mcuda\u001b[0m\u001b[0;34m(\u001b[0m\u001b[0;34m)\u001b[0m\u001b[0;34m)\u001b[0m\u001b[0;34m.\u001b[0m\u001b[0mcpu\u001b[0m\u001b[0;34m(\u001b[0m\u001b[0;34m)\u001b[0m\u001b[0;34m.\u001b[0m\u001b[0mdetach\u001b[0m\u001b[0;34m(\u001b[0m\u001b[0;34m)\u001b[0m\u001b[0;34m.\u001b[0m\u001b[0mnumpy\u001b[0m\u001b[0;34m(\u001b[0m\u001b[0;34m)\u001b[0m\u001b[0;34m\u001b[0m\u001b[0;34m\u001b[0m\u001b[0m\n",
      "\u001b[0;32m/local/helenl/.conda/envs/tta/lib/python3.6/site-packages/tqdm/notebook.py\u001b[0m in \u001b[0;36m__iter__\u001b[0;34m(self)\u001b[0m\n\u001b[1;32m    255\u001b[0m     \u001b[0;32mdef\u001b[0m \u001b[0m__iter__\u001b[0m\u001b[0;34m(\u001b[0m\u001b[0mself\u001b[0m\u001b[0;34m)\u001b[0m\u001b[0;34m:\u001b[0m\u001b[0;34m\u001b[0m\u001b[0;34m\u001b[0m\u001b[0m\n\u001b[1;32m    256\u001b[0m         \u001b[0;32mtry\u001b[0m\u001b[0;34m:\u001b[0m\u001b[0;34m\u001b[0m\u001b[0;34m\u001b[0m\u001b[0m\n\u001b[0;32m--> 257\u001b[0;31m             \u001b[0;32mfor\u001b[0m \u001b[0mobj\u001b[0m \u001b[0;32min\u001b[0m \u001b[0msuper\u001b[0m\u001b[0;34m(\u001b[0m\u001b[0mtqdm_notebook\u001b[0m\u001b[0;34m,\u001b[0m \u001b[0mself\u001b[0m\u001b[0;34m)\u001b[0m\u001b[0;34m.\u001b[0m\u001b[0m__iter__\u001b[0m\u001b[0;34m(\u001b[0m\u001b[0;34m)\u001b[0m\u001b[0;34m:\u001b[0m\u001b[0;34m\u001b[0m\u001b[0;34m\u001b[0m\u001b[0m\n\u001b[0m\u001b[1;32m    258\u001b[0m                 \u001b[0;31m# return super(tqdm...) will not catch exception\u001b[0m\u001b[0;34m\u001b[0m\u001b[0;34m\u001b[0m\u001b[0;34m\u001b[0m\u001b[0m\n\u001b[1;32m    259\u001b[0m                 \u001b[0;32myield\u001b[0m \u001b[0mobj\u001b[0m\u001b[0;34m\u001b[0m\u001b[0;34m\u001b[0m\u001b[0m\n",
      "\u001b[0;32m/local/helenl/.conda/envs/tta/lib/python3.6/site-packages/tqdm/std.py\u001b[0m in \u001b[0;36m__iter__\u001b[0;34m(self)\u001b[0m\n\u001b[1;32m   1178\u001b[0m \u001b[0;34m\u001b[0m\u001b[0m\n\u001b[1;32m   1179\u001b[0m         \u001b[0;32mtry\u001b[0m\u001b[0;34m:\u001b[0m\u001b[0;34m\u001b[0m\u001b[0;34m\u001b[0m\u001b[0m\n\u001b[0;32m-> 1180\u001b[0;31m             \u001b[0;32mfor\u001b[0m \u001b[0mobj\u001b[0m \u001b[0;32min\u001b[0m \u001b[0miterable\u001b[0m\u001b[0;34m:\u001b[0m\u001b[0;34m\u001b[0m\u001b[0;34m\u001b[0m\u001b[0m\n\u001b[0m\u001b[1;32m   1181\u001b[0m                 \u001b[0;32myield\u001b[0m \u001b[0mobj\u001b[0m\u001b[0;34m\u001b[0m\u001b[0;34m\u001b[0m\u001b[0m\n\u001b[1;32m   1182\u001b[0m                 \u001b[0;31m# Update and possibly print the progressbar.\u001b[0m\u001b[0;34m\u001b[0m\u001b[0;34m\u001b[0m\u001b[0;34m\u001b[0m\u001b[0m\n",
      "\u001b[0;32m/local/helenl/.conda/envs/tta/lib/python3.6/site-packages/torch/utils/data/dataloader.py\u001b[0m in \u001b[0;36m__next__\u001b[0;34m(self)\u001b[0m\n\u001b[1;32m    519\u001b[0m             \u001b[0;32mif\u001b[0m \u001b[0mself\u001b[0m\u001b[0;34m.\u001b[0m\u001b[0m_sampler_iter\u001b[0m \u001b[0;32mis\u001b[0m \u001b[0;32mNone\u001b[0m\u001b[0;34m:\u001b[0m\u001b[0;34m\u001b[0m\u001b[0;34m\u001b[0m\u001b[0m\n\u001b[1;32m    520\u001b[0m                 \u001b[0mself\u001b[0m\u001b[0;34m.\u001b[0m\u001b[0m_reset\u001b[0m\u001b[0;34m(\u001b[0m\u001b[0;34m)\u001b[0m\u001b[0;34m\u001b[0m\u001b[0;34m\u001b[0m\u001b[0m\n\u001b[0;32m--> 521\u001b[0;31m             \u001b[0mdata\u001b[0m \u001b[0;34m=\u001b[0m \u001b[0mself\u001b[0m\u001b[0;34m.\u001b[0m\u001b[0m_next_data\u001b[0m\u001b[0;34m(\u001b[0m\u001b[0;34m)\u001b[0m\u001b[0;34m\u001b[0m\u001b[0;34m\u001b[0m\u001b[0m\n\u001b[0m\u001b[1;32m    522\u001b[0m             \u001b[0mself\u001b[0m\u001b[0;34m.\u001b[0m\u001b[0m_num_yielded\u001b[0m \u001b[0;34m+=\u001b[0m \u001b[0;36m1\u001b[0m\u001b[0;34m\u001b[0m\u001b[0;34m\u001b[0m\u001b[0m\n\u001b[1;32m    523\u001b[0m             \u001b[0;32mif\u001b[0m \u001b[0mself\u001b[0m\u001b[0;34m.\u001b[0m\u001b[0m_dataset_kind\u001b[0m \u001b[0;34m==\u001b[0m \u001b[0m_DatasetKind\u001b[0m\u001b[0;34m.\u001b[0m\u001b[0mIterable\u001b[0m \u001b[0;32mand\u001b[0m\u001b[0;31m \u001b[0m\u001b[0;31m\\\u001b[0m\u001b[0;34m\u001b[0m\u001b[0;34m\u001b[0m\u001b[0m\n",
      "\u001b[0;32m/local/helenl/.conda/envs/tta/lib/python3.6/site-packages/torch/utils/data/dataloader.py\u001b[0m in \u001b[0;36m_next_data\u001b[0;34m(self)\u001b[0m\n\u001b[1;32m    559\u001b[0m     \u001b[0;32mdef\u001b[0m \u001b[0m_next_data\u001b[0m\u001b[0;34m(\u001b[0m\u001b[0mself\u001b[0m\u001b[0;34m)\u001b[0m\u001b[0;34m:\u001b[0m\u001b[0;34m\u001b[0m\u001b[0;34m\u001b[0m\u001b[0m\n\u001b[1;32m    560\u001b[0m         \u001b[0mindex\u001b[0m \u001b[0;34m=\u001b[0m \u001b[0mself\u001b[0m\u001b[0;34m.\u001b[0m\u001b[0m_next_index\u001b[0m\u001b[0;34m(\u001b[0m\u001b[0;34m)\u001b[0m  \u001b[0;31m# may raise StopIteration\u001b[0m\u001b[0;34m\u001b[0m\u001b[0;34m\u001b[0m\u001b[0m\n\u001b[0;32m--> 561\u001b[0;31m         \u001b[0mdata\u001b[0m \u001b[0;34m=\u001b[0m \u001b[0mself\u001b[0m\u001b[0;34m.\u001b[0m\u001b[0m_dataset_fetcher\u001b[0m\u001b[0;34m.\u001b[0m\u001b[0mfetch\u001b[0m\u001b[0;34m(\u001b[0m\u001b[0mindex\u001b[0m\u001b[0;34m)\u001b[0m  \u001b[0;31m# may raise StopIteration\u001b[0m\u001b[0;34m\u001b[0m\u001b[0;34m\u001b[0m\u001b[0m\n\u001b[0m\u001b[1;32m    562\u001b[0m         \u001b[0;32mif\u001b[0m \u001b[0mself\u001b[0m\u001b[0;34m.\u001b[0m\u001b[0m_pin_memory\u001b[0m\u001b[0;34m:\u001b[0m\u001b[0;34m\u001b[0m\u001b[0;34m\u001b[0m\u001b[0m\n\u001b[1;32m    563\u001b[0m             \u001b[0mdata\u001b[0m \u001b[0;34m=\u001b[0m \u001b[0m_utils\u001b[0m\u001b[0;34m.\u001b[0m\u001b[0mpin_memory\u001b[0m\u001b[0;34m.\u001b[0m\u001b[0mpin_memory\u001b[0m\u001b[0;34m(\u001b[0m\u001b[0mdata\u001b[0m\u001b[0;34m)\u001b[0m\u001b[0;34m\u001b[0m\u001b[0;34m\u001b[0m\u001b[0m\n",
      "\u001b[0;32m/local/helenl/.conda/envs/tta/lib/python3.6/site-packages/torch/utils/data/_utils/fetch.py\u001b[0m in \u001b[0;36mfetch\u001b[0;34m(self, possibly_batched_index)\u001b[0m\n\u001b[1;32m     42\u001b[0m     \u001b[0;32mdef\u001b[0m \u001b[0mfetch\u001b[0m\u001b[0;34m(\u001b[0m\u001b[0mself\u001b[0m\u001b[0;34m,\u001b[0m \u001b[0mpossibly_batched_index\u001b[0m\u001b[0;34m)\u001b[0m\u001b[0;34m:\u001b[0m\u001b[0;34m\u001b[0m\u001b[0;34m\u001b[0m\u001b[0m\n\u001b[1;32m     43\u001b[0m         \u001b[0;32mif\u001b[0m \u001b[0mself\u001b[0m\u001b[0;34m.\u001b[0m\u001b[0mauto_collation\u001b[0m\u001b[0;34m:\u001b[0m\u001b[0;34m\u001b[0m\u001b[0;34m\u001b[0m\u001b[0m\n\u001b[0;32m---> 44\u001b[0;31m             \u001b[0mdata\u001b[0m \u001b[0;34m=\u001b[0m \u001b[0;34m[\u001b[0m\u001b[0mself\u001b[0m\u001b[0;34m.\u001b[0m\u001b[0mdataset\u001b[0m\u001b[0;34m[\u001b[0m\u001b[0midx\u001b[0m\u001b[0;34m]\u001b[0m \u001b[0;32mfor\u001b[0m \u001b[0midx\u001b[0m \u001b[0;32min\u001b[0m \u001b[0mpossibly_batched_index\u001b[0m\u001b[0;34m]\u001b[0m\u001b[0;34m\u001b[0m\u001b[0;34m\u001b[0m\u001b[0m\n\u001b[0m\u001b[1;32m     45\u001b[0m         \u001b[0;32melse\u001b[0m\u001b[0;34m:\u001b[0m\u001b[0;34m\u001b[0m\u001b[0;34m\u001b[0m\u001b[0m\n\u001b[1;32m     46\u001b[0m             \u001b[0mdata\u001b[0m \u001b[0;34m=\u001b[0m \u001b[0mself\u001b[0m\u001b[0;34m.\u001b[0m\u001b[0mdataset\u001b[0m\u001b[0;34m[\u001b[0m\u001b[0mpossibly_batched_index\u001b[0m\u001b[0;34m]\u001b[0m\u001b[0;34m\u001b[0m\u001b[0;34m\u001b[0m\u001b[0m\n",
      "\u001b[0;32m/local/helenl/.conda/envs/tta/lib/python3.6/site-packages/torch/utils/data/_utils/fetch.py\u001b[0m in \u001b[0;36m<listcomp>\u001b[0;34m(.0)\u001b[0m\n\u001b[1;32m     42\u001b[0m     \u001b[0;32mdef\u001b[0m \u001b[0mfetch\u001b[0m\u001b[0;34m(\u001b[0m\u001b[0mself\u001b[0m\u001b[0;34m,\u001b[0m \u001b[0mpossibly_batched_index\u001b[0m\u001b[0;34m)\u001b[0m\u001b[0;34m:\u001b[0m\u001b[0;34m\u001b[0m\u001b[0;34m\u001b[0m\u001b[0m\n\u001b[1;32m     43\u001b[0m         \u001b[0;32mif\u001b[0m \u001b[0mself\u001b[0m\u001b[0;34m.\u001b[0m\u001b[0mauto_collation\u001b[0m\u001b[0;34m:\u001b[0m\u001b[0;34m\u001b[0m\u001b[0;34m\u001b[0m\u001b[0m\n\u001b[0;32m---> 44\u001b[0;31m             \u001b[0mdata\u001b[0m \u001b[0;34m=\u001b[0m \u001b[0;34m[\u001b[0m\u001b[0mself\u001b[0m\u001b[0;34m.\u001b[0m\u001b[0mdataset\u001b[0m\u001b[0;34m[\u001b[0m\u001b[0midx\u001b[0m\u001b[0;34m]\u001b[0m \u001b[0;32mfor\u001b[0m \u001b[0midx\u001b[0m \u001b[0;32min\u001b[0m \u001b[0mpossibly_batched_index\u001b[0m\u001b[0;34m]\u001b[0m\u001b[0;34m\u001b[0m\u001b[0;34m\u001b[0m\u001b[0m\n\u001b[0m\u001b[1;32m     45\u001b[0m         \u001b[0;32melse\u001b[0m\u001b[0;34m:\u001b[0m\u001b[0;34m\u001b[0m\u001b[0;34m\u001b[0m\u001b[0m\n\u001b[1;32m     46\u001b[0m             \u001b[0mdata\u001b[0m \u001b[0;34m=\u001b[0m \u001b[0mself\u001b[0m\u001b[0;34m.\u001b[0m\u001b[0mdataset\u001b[0m\u001b[0;34m[\u001b[0m\u001b[0mpossibly_batched_index\u001b[0m\u001b[0;34m]\u001b[0m\u001b[0;34m\u001b[0m\u001b[0;34m\u001b[0m\u001b[0m\n",
      "\u001b[0;32m/local/helenl/.conda/envs/tta/lib/python3.6/site-packages/wilds/datasets/wilds_dataset.py\u001b[0m in \u001b[0;36m__getitem__\u001b[0;34m(self, idx)\u001b[0m\n\u001b[1;32m    463\u001b[0m                 \u001b[0mx\u001b[0m\u001b[0;34m,\u001b[0m \u001b[0my\u001b[0m \u001b[0;34m=\u001b[0m \u001b[0mself\u001b[0m\u001b[0;34m.\u001b[0m\u001b[0mtransform\u001b[0m\u001b[0;34m(\u001b[0m\u001b[0mx\u001b[0m\u001b[0;34m,\u001b[0m \u001b[0my\u001b[0m\u001b[0;34m)\u001b[0m\u001b[0;34m\u001b[0m\u001b[0;34m\u001b[0m\u001b[0m\n\u001b[1;32m    464\u001b[0m             \u001b[0;32melse\u001b[0m\u001b[0;34m:\u001b[0m\u001b[0;34m\u001b[0m\u001b[0;34m\u001b[0m\u001b[0m\n\u001b[0;32m--> 465\u001b[0;31m                 \u001b[0mx\u001b[0m \u001b[0;34m=\u001b[0m \u001b[0mself\u001b[0m\u001b[0;34m.\u001b[0m\u001b[0mtransform\u001b[0m\u001b[0;34m(\u001b[0m\u001b[0mx\u001b[0m\u001b[0;34m)\u001b[0m\u001b[0;34m\u001b[0m\u001b[0;34m\u001b[0m\u001b[0m\n\u001b[0m\u001b[1;32m    466\u001b[0m         \u001b[0;32mreturn\u001b[0m \u001b[0mx\u001b[0m\u001b[0;34m,\u001b[0m \u001b[0my\u001b[0m\u001b[0;34m,\u001b[0m \u001b[0mmetadata\u001b[0m\u001b[0;34m\u001b[0m\u001b[0;34m\u001b[0m\u001b[0m\n\u001b[1;32m    467\u001b[0m \u001b[0;34m\u001b[0m\u001b[0m\n",
      "\u001b[0;32m/mnt/hdd/home/helenl/helenl/tta_research/transforms_helenl.py\u001b[0m in \u001b[0;36mtransform\u001b[0;34m(text)\u001b[0m\n\u001b[1;32m    261\u001b[0m \u001b[0;34m\u001b[0m\u001b[0m\n\u001b[1;32m    262\u001b[0m \u001b[0;34m\u001b[0m\u001b[0m\n\u001b[0;32m--> 263\u001b[0;31m             \u001b[0mtext\u001b[0m \u001b[0;34m=\u001b[0m \u001b[0maug\u001b[0m\u001b[0;34m(\u001b[0m\u001b[0mtext\u001b[0m\u001b[0;34m,\u001b[0m \u001b[0mn\u001b[0m \u001b[0;34m=\u001b[0m \u001b[0mnum_aug_samples\u001b[0m\u001b[0;34m)\u001b[0m\u001b[0;34m\u001b[0m\u001b[0;34m\u001b[0m\u001b[0m\n\u001b[0m\u001b[1;32m    264\u001b[0m             \u001b[0;31m#print(text)\u001b[0m\u001b[0;34m\u001b[0m\u001b[0;34m\u001b[0m\u001b[0;34m\u001b[0m\u001b[0m\n\u001b[1;32m    265\u001b[0m \u001b[0;34m\u001b[0m\u001b[0m\n",
      "\u001b[0;32m/local/helenl/.conda/envs/tta/lib/python3.6/site-packages/nlpaug/base_augmenter.py\u001b[0m in \u001b[0;36maugment\u001b[0;34m(self, data, n, num_thread)\u001b[0m\n\u001b[1;32m    114\u001b[0m                 \u001b[0;31m# Single Thread\u001b[0m\u001b[0;34m\u001b[0m\u001b[0;34m\u001b[0m\u001b[0;34m\u001b[0m\u001b[0m\n\u001b[1;32m    115\u001b[0m                 \u001b[0;32mif\u001b[0m \u001b[0mnum_thread\u001b[0m \u001b[0;34m==\u001b[0m \u001b[0;36m1\u001b[0m\u001b[0;34m:\u001b[0m\u001b[0;34m\u001b[0m\u001b[0;34m\u001b[0m\u001b[0m\n\u001b[0;32m--> 116\u001b[0;31m                     \u001b[0maugmented_results\u001b[0m \u001b[0;34m=\u001b[0m \u001b[0;34m[\u001b[0m\u001b[0maction_fx\u001b[0m\u001b[0;34m(\u001b[0m\u001b[0mclean_data\u001b[0m\u001b[0;34m)\u001b[0m \u001b[0;32mfor\u001b[0m \u001b[0m_\u001b[0m \u001b[0;32min\u001b[0m \u001b[0mrange\u001b[0m\u001b[0;34m(\u001b[0m\u001b[0mn\u001b[0m\u001b[0;34m)\u001b[0m\u001b[0;34m]\u001b[0m\u001b[0;34m\u001b[0m\u001b[0;34m\u001b[0m\u001b[0m\n\u001b[0m\u001b[1;32m    117\u001b[0m \u001b[0;34m\u001b[0m\u001b[0m\n\u001b[1;32m    118\u001b[0m                 \u001b[0;31m# Multi Thread\u001b[0m\u001b[0;34m\u001b[0m\u001b[0;34m\u001b[0m\u001b[0;34m\u001b[0m\u001b[0m\n",
      "\u001b[0;32m/local/helenl/.conda/envs/tta/lib/python3.6/site-packages/nlpaug/base_augmenter.py\u001b[0m in \u001b[0;36m<listcomp>\u001b[0;34m(.0)\u001b[0m\n\u001b[1;32m    114\u001b[0m                 \u001b[0;31m# Single Thread\u001b[0m\u001b[0;34m\u001b[0m\u001b[0;34m\u001b[0m\u001b[0;34m\u001b[0m\u001b[0m\n\u001b[1;32m    115\u001b[0m                 \u001b[0;32mif\u001b[0m \u001b[0mnum_thread\u001b[0m \u001b[0;34m==\u001b[0m \u001b[0;36m1\u001b[0m\u001b[0;34m:\u001b[0m\u001b[0;34m\u001b[0m\u001b[0;34m\u001b[0m\u001b[0m\n\u001b[0;32m--> 116\u001b[0;31m                     \u001b[0maugmented_results\u001b[0m \u001b[0;34m=\u001b[0m \u001b[0;34m[\u001b[0m\u001b[0maction_fx\u001b[0m\u001b[0;34m(\u001b[0m\u001b[0mclean_data\u001b[0m\u001b[0;34m)\u001b[0m \u001b[0;32mfor\u001b[0m \u001b[0m_\u001b[0m \u001b[0;32min\u001b[0m \u001b[0mrange\u001b[0m\u001b[0;34m(\u001b[0m\u001b[0mn\u001b[0m\u001b[0;34m)\u001b[0m\u001b[0;34m]\u001b[0m\u001b[0;34m\u001b[0m\u001b[0;34m\u001b[0m\u001b[0m\n\u001b[0m\u001b[1;32m    117\u001b[0m \u001b[0;34m\u001b[0m\u001b[0m\n\u001b[1;32m    118\u001b[0m                 \u001b[0;31m# Multi Thread\u001b[0m\u001b[0;34m\u001b[0m\u001b[0;34m\u001b[0m\u001b[0;34m\u001b[0m\u001b[0m\n",
      "\u001b[0;32m/local/helenl/.conda/envs/tta/lib/python3.6/site-packages/nlpaug/augmenter/word/word_embs.py\u001b[0m in \u001b[0;36minsert\u001b[0;34m(self, data)\u001b[0m\n\u001b[1;32m    122\u001b[0m \u001b[0;34m\u001b[0m\u001b[0m\n\u001b[1;32m    123\u001b[0m         \u001b[0;32mfor\u001b[0m \u001b[0maug_idx\u001b[0m \u001b[0;32min\u001b[0m \u001b[0maug_idxes\u001b[0m\u001b[0;34m:\u001b[0m\u001b[0;34m\u001b[0m\u001b[0;34m\u001b[0m\u001b[0m\n\u001b[0;32m--> 124\u001b[0;31m             \u001b[0mnew_token\u001b[0m \u001b[0;34m=\u001b[0m \u001b[0mself\u001b[0m\u001b[0;34m.\u001b[0m\u001b[0msample\u001b[0m\u001b[0;34m(\u001b[0m\u001b[0mself\u001b[0m\u001b[0;34m.\u001b[0m\u001b[0mmodel\u001b[0m\u001b[0;34m.\u001b[0m\u001b[0mget_vocab\u001b[0m\u001b[0;34m(\u001b[0m\u001b[0;34m)\u001b[0m\u001b[0;34m,\u001b[0m \u001b[0;36m1\u001b[0m\u001b[0;34m)\u001b[0m\u001b[0;34m[\u001b[0m\u001b[0;36m0\u001b[0m\u001b[0;34m]\u001b[0m\u001b[0;34m\u001b[0m\u001b[0;34m\u001b[0m\u001b[0m\n\u001b[0m\u001b[1;32m    125\u001b[0m             \u001b[0;32mif\u001b[0m \u001b[0mself\u001b[0m\u001b[0;34m.\u001b[0m\u001b[0mn_gram_separator\u001b[0m \u001b[0;32min\u001b[0m \u001b[0mnew_token\u001b[0m\u001b[0;34m:\u001b[0m\u001b[0;34m\u001b[0m\u001b[0;34m\u001b[0m\u001b[0m\n\u001b[1;32m    126\u001b[0m                 \u001b[0mnew_token\u001b[0m \u001b[0;34m=\u001b[0m \u001b[0mnew_token\u001b[0m\u001b[0;34m.\u001b[0m\u001b[0msplit\u001b[0m\u001b[0;34m(\u001b[0m\u001b[0mself\u001b[0m\u001b[0;34m.\u001b[0m\u001b[0mn_gram_separator\u001b[0m\u001b[0;34m)\u001b[0m\u001b[0;34m[\u001b[0m\u001b[0;36m0\u001b[0m\u001b[0;34m]\u001b[0m\u001b[0;34m\u001b[0m\u001b[0;34m\u001b[0m\u001b[0m\n",
      "\u001b[0;32m/local/helenl/.conda/envs/tta/lib/python3.6/site-packages/nlpaug/model/word_embs/word_embeddings.py\u001b[0m in \u001b[0;36mget_vocab\u001b[0;34m(self)\u001b[0m\n\u001b[1;32m     39\u001b[0m \u001b[0;34m\u001b[0m\u001b[0m\n\u001b[1;32m     40\u001b[0m     \u001b[0;32mdef\u001b[0m \u001b[0mget_vocab\u001b[0m\u001b[0;34m(\u001b[0m\u001b[0mself\u001b[0m\u001b[0;34m)\u001b[0m\u001b[0;34m:\u001b[0m\u001b[0;34m\u001b[0m\u001b[0;34m\u001b[0m\u001b[0m\n\u001b[0;32m---> 41\u001b[0;31m         \u001b[0;32mreturn\u001b[0m \u001b[0;34m[\u001b[0m\u001b[0mword\u001b[0m \u001b[0;32mfor\u001b[0m \u001b[0mword\u001b[0m \u001b[0;32min\u001b[0m \u001b[0mself\u001b[0m\u001b[0;34m.\u001b[0m\u001b[0mw2v\u001b[0m\u001b[0;34m]\u001b[0m\u001b[0;34m\u001b[0m\u001b[0;34m\u001b[0m\u001b[0m\n\u001b[0m\u001b[1;32m     42\u001b[0m \u001b[0;34m\u001b[0m\u001b[0m\n\u001b[1;32m     43\u001b[0m     \u001b[0;34m@\u001b[0m\u001b[0mclassmethod\u001b[0m\u001b[0;34m\u001b[0m\u001b[0;34m\u001b[0m\u001b[0m\n",
      "\u001b[0;32m/local/helenl/.conda/envs/tta/lib/python3.6/site-packages/nlpaug/model/word_embs/word_embeddings.py\u001b[0m in \u001b[0;36m<listcomp>\u001b[0;34m(.0)\u001b[0m\n\u001b[1;32m     39\u001b[0m \u001b[0;34m\u001b[0m\u001b[0m\n\u001b[1;32m     40\u001b[0m     \u001b[0;32mdef\u001b[0m \u001b[0mget_vocab\u001b[0m\u001b[0;34m(\u001b[0m\u001b[0mself\u001b[0m\u001b[0;34m)\u001b[0m\u001b[0;34m:\u001b[0m\u001b[0;34m\u001b[0m\u001b[0;34m\u001b[0m\u001b[0m\n\u001b[0;32m---> 41\u001b[0;31m         \u001b[0;32mreturn\u001b[0m \u001b[0;34m[\u001b[0m\u001b[0mword\u001b[0m \u001b[0;32mfor\u001b[0m \u001b[0mword\u001b[0m \u001b[0;32min\u001b[0m \u001b[0mself\u001b[0m\u001b[0;34m.\u001b[0m\u001b[0mw2v\u001b[0m\u001b[0;34m]\u001b[0m\u001b[0;34m\u001b[0m\u001b[0;34m\u001b[0m\u001b[0m\n\u001b[0m\u001b[1;32m     42\u001b[0m \u001b[0;34m\u001b[0m\u001b[0m\n\u001b[1;32m     43\u001b[0m     \u001b[0;34m@\u001b[0m\u001b[0mclassmethod\u001b[0m\u001b[0;34m\u001b[0m\u001b[0;34m\u001b[0m\u001b[0m\n",
      "\u001b[0;31mKeyboardInterrupt\u001b[0m: "
     ]
    }
   ],
   "source": [
    "for augment in augmentations_requiring_model_download:\n",
    "    predict_augmented_labels(augment)"
   ]
  },
  {
   "cell_type": "code",
   "execution_count": 24,
   "id": "f188c06a",
   "metadata": {},
   "outputs": [],
   "source": [
    "def calculate_accuracy(prediction_file, sampling_percent = 0.8, num_runs = 10):\n",
    "    logit_predictions = []\n",
    "    labels = []\n",
    "    \n",
    "    with open(prediction_file, 'rb') as file:\n",
    "        logit_predictions = np.load(file, allow_pickle = True)\n",
    "        labels = np.load(file, allow_pickle = True)\n",
    "\n",
    "    accuracy_scores = []\n",
    "    \n",
    "    total_dp = len(logit_predictions) #133782\n",
    "    \n",
    "    num_subsamples = int(total_dp * sampling_percent) #107025 for 133782 data points\n",
    "\n",
    "    for i in tqdm(range(num_runs)):\n",
    "        random_indices = np.random.choice(np.arange(total_dp), size = num_subsamples, replace = False)\n",
    "\n",
    "        rand_logit_predictions = np.take(logit_predictions, random_indices, axis = 0)\n",
    "        matching_labels = np.take(labels, random_indices)\n",
    "        #print(\"labels_length\", len(matching_labels))\n",
    "        #print(\"samples_length\", rand_logit_predictions[0])\n",
    "        \n",
    "        classified_predictions = []\n",
    "        for prediction in rand_logit_predictions:\n",
    "            index_prediction = np.argmax(prediction, axis = 0).tolist()\n",
    "            classified_predictions.append(index_prediction)\n",
    "    \n",
    "        #print(len(classified_predictions))\n",
    "        '''\n",
    "        unique, counts = np.unique(np.array(classified_predictions), return_counts = True)\n",
    "        print(unique, counts)\n",
    "        print(len(labels))\n",
    "        '''\n",
    "    \n",
    "        score = sklearn.metrics.accuracy_score(matching_labels, classified_predictions)\n",
    "        #print(score)\n",
    "        accuracy_scores.append(score)\n",
    "    \n",
    "    return accuracy_scores"
   ]
  },
  {
   "cell_type": "code",
   "execution_count": 59,
   "id": "6fa890e2",
   "metadata": {},
   "outputs": [
    {
     "data": {
      "application/vnd.jupyter.widget-view+json": {
       "model_id": "425ecff3fc9043e6be254cd2e69a3af1",
       "version_major": 2,
       "version_minor": 0
      },
      "text/plain": [
       "  0%|          | 0/2 [00:00<?, ?it/s]"
      ]
     },
     "metadata": {},
     "output_type": "display_data"
    },
    {
     "data": {
      "application/vnd.jupyter.widget-view+json": {
       "model_id": "9c419c3652a1458e8540330447021bb2",
       "version_major": 2,
       "version_minor": 0
      },
      "text/plain": [
       "  0%|          | 0/107025 [00:00<?, ?it/s]"
      ]
     },
     "metadata": {},
     "output_type": "display_data"
    },
    {
     "name": "stdout",
     "output_type": "stream",
     "text": [
      "0.9261948142957253\n"
     ]
    },
    {
     "data": {
      "application/vnd.jupyter.widget-view+json": {
       "model_id": "a6519a40a286430981ba4a10fd7c8fc6",
       "version_major": 2,
       "version_minor": 0
      },
      "text/plain": [
       "  0%|          | 0/107025 [00:00<?, ?it/s]"
      ]
     },
     "metadata": {},
     "output_type": "display_data"
    },
    {
     "name": "stdout",
     "output_type": "stream",
     "text": [
      "0.9265031534688157\n"
     ]
    },
    {
     "data": {
      "text/plain": [
       "[0.9261948142957253, 0.9265031534688157]"
      ]
     },
     "execution_count": 59,
     "metadata": {},
     "output_type": "execute_result"
    }
   ],
   "source": [
    "import matplotlib.pyplot as plt\n",
    "%matplotlib inline\n",
    "\n",
    "calculate_accuracy('./ERM_predictions/bert.npy', num_runs = 2)"
   ]
  },
  {
   "cell_type": "code",
   "execution_count": 7,
   "id": "cf7bd35b",
   "metadata": {},
   "outputs": [],
   "source": [
    "def calculate_recall(prediction_file):\n",
    "    logit_predictions = []\n",
    "    \n",
    "    with open(prediction_file, 'rb') as file:\n",
    "        logit_predictions = np.load(file)\n",
    "        labels = np.load(file)\n",
    "        \n",
    "    #print(true_values)\n",
    "    classified_predictions = []\n",
    "    for prediction in logit_predictions:\n",
    "        index_prediction = np.argmax(prediction, axis = 1).tolist()\n",
    "\n",
    "        classified_predictions.extend(index_prediction)\n",
    "            \n",
    "    score = sklearn.metrics.recall_score(labels, classified_predictions)\n",
    "    return score"
   ]
  },
  {
   "cell_type": "code",
   "execution_count": 26,
   "id": "38c69d50",
   "metadata": {},
   "outputs": [],
   "source": [
    "def show_values(axs, orient=\"v\", space=.01):\n",
    "    def _single(ax):\n",
    "        if orient == \"v\":\n",
    "            for p in ax.patches:\n",
    "                _x = p.get_x() + p.get_width() / 2\n",
    "                _y = p.get_y() + p.get_height() + (p.get_height()*0.01)\n",
    "                value = '{:.3f}'.format(p.get_height())\n",
    "                ax.text(_x, _y, value, ha=\"center\") \n",
    "        elif orient == \"h\":\n",
    "            for p in ax.patches:\n",
    "                _x = p.get_x() + p.get_width() + float(space)\n",
    "                _y = p.get_y() + p.get_height() - (p.get_height()*0.5)\n",
    "                value = '{:.3f}'.format(p.get_width())\n",
    "                ax.text(_x, _y, value, ha=\"left\")\n",
    "\n",
    "    if isinstance(axs, np.ndarray):\n",
    "        for idx, ax in np.ndenumerate(axs):\n",
    "            _single(ax)\n",
    "    else:\n",
    "        _single(axs)\n",
    "\n",
    "\n",
    "\"\"\"\n",
    "Create graph comparing accuracy of all supported augmentations\n",
    "\n",
    "Parameters:\n",
    "    augmentations: list of strings, each corresponding to a supported augmentation\n",
    "    \n",
    "\"\"\"\n",
    "\n",
    "def create_accuracy_graph(augmentations):\n",
    "    \n",
    "    aug_to_acc = []\n",
    "    for augmentation in augmentations:\n",
    "        file_name = './ERM_predictions/' + augmentation + \".npy\"\n",
    "        accuracies = calculate_accuracy(file_name)\n",
    "        \n",
    "        for i in range(len(accuracies)):\n",
    "            accuracy = accuracies[i]\n",
    "            aug_dict = {\"augmentation\":augmentation, \"accuracy\": accuracy, \"batch_num\": i}\n",
    "            aug_to_acc.append(aug_dict)\n",
    "\n",
    "    \n",
    "    acc_df = pd.DataFrame(aug_to_acc).sort_values('accuracy', ascending = False)\n",
    "    print(acc_df)\n",
    "    \n",
    "    fig, ax = plt.subplots()\n",
    "\n",
    "    p = sns.boxplot(x = 'augmentation', y = 'accuracy', data = acc_df, ax = ax)#, order = acc_df['augmentation'])\n",
    "    \n",
    "\n",
    "    min_value = acc_df.min()['accuracy']\n",
    "    max_value = acc_df.max()['accuracy']\n",
    "\n",
    "    ax.set_ylim(min_value - 0.02, min(1.0, max_value + 0.02))\n",
    "    \n",
    "    #print(p.containers[0])\n",
    "    #p.bar_label(p.containers[0])\n",
    "    #show_values(p)\n",
    "    plt.rcParams['figure.figsize'] = (30,10)\n",
    "    plt.show()\n",
    "\n",
    "\n",
    "\"\"\"\n",
    "Create graph comparing accuracy of all supported augmentations\n",
    "\n",
    "Parameters:\n",
    "    augmentations: list of strings, each corresponding to a supported augmentation\n",
    "    \n",
    "\"\"\"\n",
    "\n",
    "def create_augmentation_impact_graph(augmentations):\n",
    "    aug_to_mean_acc = []\n",
    "    \n",
    "    original_accuracy = statistics.mean(calculate_accuracy('./ERM_predictions/bert.npy'))\n",
    "\n",
    "    print(\"original accuracy:\", original_accuracy)\n",
    "    \n",
    "    for augmentation in augmentations:\n",
    "        file_name = './ERM_predictions/' + augmentation + \".npy\"\n",
    "        accuracies = calculate_accuracy(file_name)\n",
    "        augmentation_average_accuracy = statistics.mean(accuracies)\n",
    "        \n",
    "        print(\"AUG AVERAGE:\", augmentation_average_accuracy)\n",
    "        mean_accuracy = (augmentation_average_accuracy + original_accuracy) / 2\n",
    "        \n",
    "        print(\"MEAN WITH BERT:\", mean_accuracy)\n",
    "\n",
    "    \n",
    "\n",
    "        augmentation_name = augmentation[4:] + \"+bert\" # remove 'nlp_' prefix in augmentation name\n",
    "        \n",
    "        aug_dict = {\"augmentation\":augmentation_name, \"accuracy\": mean_accuracy}\n",
    "        aug_to_mean_acc.append(aug_dict)\n",
    "    \n",
    "    print(aug_to_mean_acc)\n",
    "    acc_df = pd.DataFrame(aug_to_mean_acc).sort_values('accuracy', ascending = False)\n",
    "    print(acc_df)\n",
    "    \n",
    "    sns.set(rc = {'figure.figsize':(30,10)})\n",
    "    p = sns.barplot(x = 'augmentation', y = 'accuracy', data = acc_df, ci = None)\n",
    "    p.set(ylim = (0.8, 1))\n",
    "    \n",
    "\n",
    "    #ax.figure.set_size_inches(200,10)\n",
    "    \n",
    "    \n",
    "    "
   ]
  },
  {
   "cell_type": "code",
   "execution_count": 57,
   "id": "8439be85",
   "metadata": {},
   "outputs": [],
   "source": [
    "supported_augment_labels = ['bert'\n",
    "                           , 'nlp_ocr'\n",
    "                           , 'nlp_keyboard'\n",
    "                           , 'nlp_random_char_insert'\n",
    "                           , 'nlp_random_char_substitution'\n",
    "                           , 'nlp_random_char_swap'\n",
    "                           , 'nlp_random_char_deletion'\n",
    "                           , 'nlp_spelling_substitution'\n",
    "                           , 'nlp_random_word_swap'\n",
    "                           , 'nlp_random_word_delete'\n",
    "                           #, 'nlp_random_crop'\n",
    "                           #, 'nlp_random_token_split'\n",
    "                           #, 'nlp_back_translation_aug'\n",
    "                           ]"
   ]
  },
  {
   "cell_type": "code",
   "execution_count": 60,
   "id": "c5e5ed1e",
   "metadata": {},
   "outputs": [
    {
     "data": {
      "application/vnd.jupyter.widget-view+json": {
       "model_id": "19e77f689e8f419892db63dfad7322a3",
       "version_major": 2,
       "version_minor": 0
      },
      "text/plain": [
       "  0%|          | 0/10 [00:00<?, ?it/s]"
      ]
     },
     "metadata": {},
     "output_type": "display_data"
    },
    {
     "data": {
      "application/vnd.jupyter.widget-view+json": {
       "model_id": "c5e9e89a5cb947f89cba9b1631b4b08e",
       "version_major": 2,
       "version_minor": 0
      },
      "text/plain": [
       "  0%|          | 0/10 [00:00<?, ?it/s]"
      ]
     },
     "metadata": {},
     "output_type": "display_data"
    },
    {
     "data": {
      "application/vnd.jupyter.widget-view+json": {
       "model_id": "fb4404ec49c5436e87ab9646fcdc45b6",
       "version_major": 2,
       "version_minor": 0
      },
      "text/plain": [
       "  0%|          | 0/10 [00:00<?, ?it/s]"
      ]
     },
     "metadata": {},
     "output_type": "display_data"
    },
    {
     "data": {
      "application/vnd.jupyter.widget-view+json": {
       "model_id": "3e9f0b3aa7c04bcb83644115c7e9925c",
       "version_major": 2,
       "version_minor": 0
      },
      "text/plain": [
       "  0%|          | 0/10 [00:00<?, ?it/s]"
      ]
     },
     "metadata": {},
     "output_type": "display_data"
    },
    {
     "data": {
      "application/vnd.jupyter.widget-view+json": {
       "model_id": "eee1bbcfbd02427d994767a046f26770",
       "version_major": 2,
       "version_minor": 0
      },
      "text/plain": [
       "  0%|          | 0/10 [00:00<?, ?it/s]"
      ]
     },
     "metadata": {},
     "output_type": "display_data"
    },
    {
     "data": {
      "application/vnd.jupyter.widget-view+json": {
       "model_id": "85558764123f48cc8ce77debce5febc0",
       "version_major": 2,
       "version_minor": 0
      },
      "text/plain": [
       "  0%|          | 0/10 [00:00<?, ?it/s]"
      ]
     },
     "metadata": {},
     "output_type": "display_data"
    },
    {
     "data": {
      "application/vnd.jupyter.widget-view+json": {
       "model_id": "971892ce58eb4559a108ae41a037da6b",
       "version_major": 2,
       "version_minor": 0
      },
      "text/plain": [
       "  0%|          | 0/10 [00:00<?, ?it/s]"
      ]
     },
     "metadata": {},
     "output_type": "display_data"
    },
    {
     "data": {
      "application/vnd.jupyter.widget-view+json": {
       "model_id": "fecafa6ed4934e6090ca4f6cbdbfebb9",
       "version_major": 2,
       "version_minor": 0
      },
      "text/plain": [
       "  0%|          | 0/10 [00:00<?, ?it/s]"
      ]
     },
     "metadata": {},
     "output_type": "display_data"
    },
    {
     "data": {
      "application/vnd.jupyter.widget-view+json": {
       "model_id": "a7dc14874a0141a8becd7f4b9f7f3d57",
       "version_major": 2,
       "version_minor": 0
      },
      "text/plain": [
       "  0%|          | 0/10 [00:00<?, ?it/s]"
      ]
     },
     "metadata": {},
     "output_type": "display_data"
    },
    {
     "data": {
      "application/vnd.jupyter.widget-view+json": {
       "model_id": "e19fb33d63d840b9b52961c17765bb2f",
       "version_major": 2,
       "version_minor": 0
      },
      "text/plain": [
       "  0%|          | 0/10 [00:00<?, ?it/s]"
      ]
     },
     "metadata": {},
     "output_type": "display_data"
    },
    {
     "name": "stdout",
     "output_type": "stream",
     "text": [
      "                    augmentation  accuracy  batch_num\n",
      "7                           bert  0.926942          7\n",
      "4                           bert  0.926896          4\n",
      "5                           bert  0.926671          5\n",
      "0                           bert  0.926634          0\n",
      "8                           bert  0.926550          8\n",
      "..                           ...       ...        ...\n",
      "29                  nlp_keyboard  0.909591          9\n",
      "26                  nlp_keyboard  0.909544          6\n",
      "45  nlp_random_char_substitution  0.909451          5\n",
      "28                  nlp_keyboard  0.909432          8\n",
      "25                  nlp_keyboard  0.909180          5\n",
      "\n",
      "[100 rows x 3 columns]\n"
     ]
    },
    {
     "data": {
      "image/png": "[encoded data removed]",
      "text/plain": [
       "<Figure size 2160x720 with 1 Axes>"
      ]
     },
     "metadata": {
      "needs_background": "light"
     },
     "output_type": "display_data"
    }
   ],
   "source": [
    "create_accuracy_graph(supported_augment_labels)\n",
    "#create_accuracy_graph(['bert'])"
   ]
  },
  {
   "cell_type": "code",
   "execution_count": 10,
   "id": "cfc51f5a",
   "metadata": {},
   "outputs": [
    {
     "data": {
      "application/vnd.jupyter.widget-view+json": {
       "model_id": "25e69a9d605f4a48a495d7814ddf9b35",
       "version_major": 2,
       "version_minor": 0
      },
      "text/plain": [
       "  0%|          | 0/10 [00:00<?, ?it/s]"
      ]
     },
     "metadata": {},
     "output_type": "display_data"
    },
    {
     "name": "stdout",
     "output_type": "stream",
     "text": [
      "original accuracy: 0.9264573697734174\n"
     ]
    },
    {
     "data": {
      "application/vnd.jupyter.widget-view+json": {
       "model_id": "2b024e88e76041f6bec980501f4e91fa",
       "version_major": 2,
       "version_minor": 0
      },
      "text/plain": [
       "  0%|          | 0/10 [00:00<?, ?it/s]"
      ]
     },
     "metadata": {},
     "output_type": "display_data"
    },
    {
     "name": "stdout",
     "output_type": "stream",
     "text": [
      "AUG AVERAGE: 0.926615276804485\n",
      "MEAN WITH BERT: 0.9265363232889512\n"
     ]
    },
    {
     "data": {
      "application/vnd.jupyter.widget-view+json": {
       "model_id": "6343e21ddfca48f3b28e9470b9ee1d09",
       "version_major": 2,
       "version_minor": 0
      },
      "text/plain": [
       "  0%|          | 0/10 [00:00<?, ?it/s]"
      ]
     },
     "metadata": {},
     "output_type": "display_data"
    },
    {
     "name": "stdout",
     "output_type": "stream",
     "text": [
      "AUG AVERAGE: 0.9194431207661762\n",
      "MEAN WITH BERT: 0.9229502452697969\n"
     ]
    },
    {
     "data": {
      "application/vnd.jupyter.widget-view+json": {
       "model_id": "24385e4b5e8840148aab9db626670c90",
       "version_major": 2,
       "version_minor": 0
      },
      "text/plain": [
       "  0%|          | 0/10 [00:00<?, ?it/s]"
      ]
     },
     "metadata": {},
     "output_type": "display_data"
    },
    {
     "name": "stdout",
     "output_type": "stream",
     "text": [
      "AUG AVERAGE: 0.9100238262088297\n",
      "MEAN WITH BERT: 0.9182405979911236\n"
     ]
    },
    {
     "data": {
      "application/vnd.jupyter.widget-view+json": {
       "model_id": "a123400dbba0428ebd74cc5af7a48d7a",
       "version_major": 2,
       "version_minor": 0
      },
      "text/plain": [
       "  0%|          | 0/10 [00:00<?, ?it/s]"
      ]
     },
     "metadata": {},
     "output_type": "display_data"
    },
    {
     "name": "stdout",
     "output_type": "stream",
     "text": [
      "AUG AVERAGE: 0.9105414622751693\n",
      "MEAN WITH BERT: 0.9184994160242934\n"
     ]
    },
    {
     "data": {
      "application/vnd.jupyter.widget-view+json": {
       "model_id": "1862c37e722f4e75aa912a3585100d89",
       "version_major": 2,
       "version_minor": 0
      },
      "text/plain": [
       "  0%|          | 0/10 [00:00<?, ?it/s]"
      ]
     },
     "metadata": {},
     "output_type": "display_data"
    },
    {
     "name": "stdout",
     "output_type": "stream",
     "text": [
      "AUG AVERAGE: 0.9106106049988321\n",
      "MEAN WITH BERT: 0.9185339873861247\n"
     ]
    },
    {
     "data": {
      "application/vnd.jupyter.widget-view+json": {
       "model_id": "61fd30d3b5cc41a5aee91197a484fd9b",
       "version_major": 2,
       "version_minor": 0
      },
      "text/plain": [
       "  0%|          | 0/10 [00:00<?, ?it/s]"
      ]
     },
     "metadata": {},
     "output_type": "display_data"
    },
    {
     "name": "stdout",
     "output_type": "stream",
     "text": [
      "AUG AVERAGE: 0.9106694697500584\n",
      "MEAN WITH BERT: 0.9185634197617378\n"
     ]
    },
    {
     "data": {
      "application/vnd.jupyter.widget-view+json": {
       "model_id": "9b27b0ccb4c24dd3ad00af277e5caa30",
       "version_major": 2,
       "version_minor": 0
      },
      "text/plain": [
       "  0%|          | 0/10 [00:00<?, ?it/s]"
      ]
     },
     "metadata": {},
     "output_type": "display_data"
    },
    {
     "name": "stdout",
     "output_type": "stream",
     "text": [
      "AUG AVERAGE: 0.911381452931558\n",
      "MEAN WITH BERT: 0.9189194113524877\n"
     ]
    },
    {
     "data": {
      "application/vnd.jupyter.widget-view+json": {
       "model_id": "e6a44a1453f44cfba9944ef45cb09360",
       "version_major": 2,
       "version_minor": 0
      },
      "text/plain": [
       "  0%|          | 0/10 [00:00<?, ?it/s]"
      ]
     },
     "metadata": {},
     "output_type": "display_data"
    },
    {
     "name": "stdout",
     "output_type": "stream",
     "text": [
      "AUG AVERAGE: 0.9216622284512964\n",
      "MEAN WITH BERT: 0.9240597991123569\n"
     ]
    },
    {
     "data": {
      "application/vnd.jupyter.widget-view+json": {
       "model_id": "8ddc6ae8236146b09bba56b472edcc4f",
       "version_major": 2,
       "version_minor": 0
      },
      "text/plain": [
       "  0%|          | 0/10 [00:00<?, ?it/s]"
      ]
     },
     "metadata": {},
     "output_type": "display_data"
    },
    {
     "name": "stdout",
     "output_type": "stream",
     "text": [
      "AUG AVERAGE: 0.9257164213968699\n",
      "MEAN WITH BERT: 0.9260868955851437\n"
     ]
    },
    {
     "data": {
      "application/vnd.jupyter.widget-view+json": {
       "model_id": "75cf33511ea44f85969b41c2b148482b",
       "version_major": 2,
       "version_minor": 0
      },
      "text/plain": [
       "  0%|          | 0/10 [00:00<?, ?it/s]"
      ]
     },
     "metadata": {},
     "output_type": "display_data"
    },
    {
     "name": "stdout",
     "output_type": "stream",
     "text": [
      "AUG AVERAGE: 0.9183097407147862\n",
      "MEAN WITH BERT: 0.9223835552441018\n",
      "[{'augmentation': '+bert', 'accuracy': 0.9265363232889512}, {'augmentation': 'ocr+bert', 'accuracy': 0.9229502452697969}, {'augmentation': 'keyboard+bert', 'accuracy': 0.9182405979911236}, {'augmentation': 'random_char_insert+bert', 'accuracy': 0.9184994160242934}, {'augmentation': 'random_char_substitution+bert', 'accuracy': 0.9185339873861247}, {'augmentation': 'random_char_swap+bert', 'accuracy': 0.9185634197617378}, {'augmentation': 'random_char_deletion+bert', 'accuracy': 0.9189194113524877}, {'augmentation': 'spelling_substitution+bert', 'accuracy': 0.9240597991123569}, {'augmentation': 'random_word_swap+bert', 'accuracy': 0.9260868955851437}, {'augmentation': 'random_word_delete+bert', 'accuracy': 0.9223835552441018}]\n",
      "                    augmentation  accuracy\n",
      "0                          +bert  0.926536\n",
      "8          random_word_swap+bert  0.926087\n",
      "7     spelling_substitution+bert  0.924060\n",
      "1                       ocr+bert  0.922950\n",
      "9        random_word_delete+bert  0.922384\n",
      "6      random_char_deletion+bert  0.918919\n",
      "5          random_char_swap+bert  0.918563\n",
      "4  random_char_substitution+bert  0.918534\n",
      "3        random_char_insert+bert  0.918499\n",
      "2                  keyboard+bert  0.918241\n"
     ]
    },
    {
     "data": {
      "image/png": "[encoded data removed]",
      "text/plain": [
       "<Figure size 2160x720 with 1 Axes>"
      ]
     },
     "metadata": {},
     "output_type": "display_data"
    }
   ],
   "source": [
    "create_augmentation_impact_graph(supported_augment_labels)"
   ]
  },
  {
   "cell_type": "code",
   "execution_count": null,
   "id": "14465375",
   "metadata": {},
   "outputs": [],
   "source": [
    "# PLOT: corruptions vs. corrections\n",
    "# subsample 80% to create error bars -> add more rows for each run to generate error bars\n",
    "        \n",
    "# TFIDF 33 hours RT: check gpustat; is implementation necessary for our experiments?\n",
    "\n",
    "# Report group-specific accuracy (identities; detecting hate-speech towards specific groups)\n",
    "    # Similar corruptions vs. corrections\n",
    "    # See WILDS documentation for metadata\n",
    "    # Make one for each augmentation (x axis identity group, y axis performance)\n",
    "\n",
    "    \n",
    "# Modify parameter of how many modifications there are (1 word, 2 words)\n",
    "    # x is intensity of augmentation, y is accuracy\n",
    "    # For a specific augmentation, how does average response change (higher intensity + original)\n",
    "\n",
    "# x-axis: number of draws, y-axis: average performance across draws\n",
    "    # Up to 20 or 50 draws of words to delete/characters to augment\n",
    "    # up to 50 for words, 100 for char "
   ]
  },
  {
   "cell_type": "code",
   "execution_count": 62,
   "id": "a8ce8ad8",
   "metadata": {},
   "outputs": [],
   "source": [
    "# CORRUPTIONS VS. CORRECTIONS GRAPH\n",
    "\n",
    "\"\"\"\n",
    "Function that calculates raw number of corrections and corruptions generated by an augmentation.\n",
    "\n",
    "Parameters:\n",
    "    \n",
    "    aug_pred_file: String containing path to .npy file with logit predictions and labels from augmentation model.\n",
    "    original_pred_file: String containing path to .npy file with logit predictions and labels from original model.\n",
    "    \n",
    "Returns:\n",
    "\n",
    "    corrections_corruptions_dict: Dictionary with two entries: \"corruptions\" key mapped to number (int) of raw corruptions created by augmentation,\n",
    "                                    and \"corrections\" key mapped to number (int) of raw corrections created by augmentation.\n",
    "    \n",
    "\n",
    "\"\"\"\n",
    "def calculate_corrections_corruptions(aug_pred_file, original_pred_file):\n",
    "    aug_logit_predictions = []\n",
    "    aug_classified_predictions = []\n",
    "    \n",
    "    original_logit_predictions = []\n",
    "    original_classified_predictions = []\n",
    "    \n",
    "    aug_labels = []\n",
    "    original_labels = []\n",
    "    \n",
    "    with open(aug_pred_file, 'rb') as aug_file:\n",
    "        aug_logit_predictions = np.load(aug_file, allow_pickle = True)\n",
    "        aug_labels = np.load(aug_file, allow_pickle = True)\n",
    "    \n",
    "    with open(original_pred_file, 'rb') as original_file:\n",
    "        original_logit_predictions = np.load(original_file, allow_pickle = True)\n",
    "        original_labels = np.load(original_file, allow_pickle = True)\n",
    "        \n",
    "    assert aug_labels.all() == original_labels.all(), \"Test set labels do not match between aug. and original.\"\n",
    "    \n",
    "    for prediction in aug_logit_predictions:\n",
    "        index_prediction = np.argmax(prediction).tolist()\n",
    "        \n",
    "        aug_classified_predictions.append(index_prediction)\n",
    "    \n",
    "    for prediction in original_logit_predictions:\n",
    "        index_prediction = np.argmax(prediction).tolist()\n",
    "        \n",
    "        original_classified_predictions.append(index_prediction)\n",
    "    \n",
    "    \n",
    "    corrections_count = 0\n",
    "    corruptions_count = 0\n",
    "    \n",
    "    for i in range(len(aug_labels)):\n",
    "        label = original_labels[i]\n",
    "        original_pred = original_classified_predictions[i]\n",
    "        aug_pred = aug_classified_predictions[i]\n",
    "        \n",
    "        # if corruption\n",
    "        if (original_pred == label and aug_pred != label):\n",
    "            corruptions_count += 1\n",
    "        \n",
    "        # if correction\n",
    "        elif (original_pred != label and aug_pred == label):\n",
    "            corrections_count += 1\n",
    "    \n",
    "    corrections_corruptions_dict = {\"corrections\": corrections_count, \"corruptions\": corruptions_count}\n",
    "    \n",
    "    return corrections_corruptions_dict\n",
    "    "
   ]
  },
  {
   "cell_type": "code",
   "execution_count": 16,
   "id": "46dcccb4",
   "metadata": {},
   "outputs": [
    {
     "name": "stdout",
     "output_type": "stream",
     "text": [
      "{'corrections': 1938, 'corruptions': 2901}\n"
     ]
    }
   ],
   "source": [
    "print(calculate_corrections_corruptions('./ERM_predictions/nlp_ocr.npy', './ERM_predictions/bert.npy'))\n",
    "                                    "
   ]
  },
  {
   "cell_type": "code",
   "execution_count": 65,
   "id": "72032233",
   "metadata": {},
   "outputs": [],
   "source": [
    "def create_corrections_corruptions_plots(accuracy_file_paths):\n",
    "    aug_to_corrections_corruptions = []\n",
    "    \n",
    "    for file_name in accuracy_file_paths:\n",
    "        original_file_name = './ERM_predictions/bert.npy'\n",
    "        \n",
    "        corrections_corruptions_dict = calculate_corrections_corruptions(file_name, original_file_name)\n",
    "        \n",
    "        corrections = corrections_corruptions_dict[\"corrections\"]\n",
    "        corruptions = corrections_corruptions_dict[\"corruptions\"]\n",
    "        \n",
    "        print(file_name)\n",
    "        \n",
    "        augmentation = int(file_name.split('/')[-1].split('.')[0].split('_')[-1])\n",
    "        aug_dict = {\"augmentation\":augmentation, \"corrections\": corrections, \"corruptions\": corruptions}\n",
    "        aug_to_corrections_corruptions.append(aug_dict)\n",
    "\n",
    "    \n",
    "    acc_df = pd.DataFrame(aug_to_corrections_corruptions)\n",
    "    #print(acc_df)\n",
    "    \n",
    "    acc_df_melted = acc_df.reset_index().melt(id_vars = 'augmentation')\n",
    "    acc_df_melted = acc_df_melted[acc_df_melted.variable != 'index']\n",
    "    \n",
    "    print(acc_df_melted)\n",
    "    \n",
    "\n",
    "    sns.set(rc = {'figure.figsize':(30,10)})\n",
    "    p = sns.barplot(x = 'augmentation', y = 'value', hue = 'variable', data = acc_df_melted, ci = False, palette = [\"green\", \"red\"])#, order = acc_df['augmentation'])\n",
    "\n",
    "    #p = sns.boxplot(x = 'augmentation', y = 'value', hue = 'variable', data = acc_df_melted, palette = [\"green\", \"red\"])#, order = acc_df['augmentation'])\n",
    "    show_values(p)\n",
    "\n",
    "\n",
    "    "
   ]
  },
  {
   "cell_type": "code",
   "execution_count": 121,
   "id": "5ccf81e8",
   "metadata": {},
   "outputs": [
    {
     "name": "stdout",
     "output_type": "stream",
     "text": [
      "                    augmentation     variable  value\n",
      "9                        nlp_ocr  corrections   1938\n",
      "10                  nlp_keyboard  corrections   2440\n",
      "11        nlp_random_char_insert  corrections   2576\n",
      "12  nlp_random_char_substitution  corrections   2512\n",
      "13          nlp_random_char_swap  corrections   2389\n",
      "14      nlp_random_char_deletion  corrections   2228\n",
      "15     nlp_spelling_substitution  corrections   1701\n",
      "16          nlp_random_word_swap  corrections   1062\n",
      "17        nlp_random_word_delete  corrections   1796\n",
      "18                       nlp_ocr  corruptions   2901\n",
      "19                  nlp_keyboard  corruptions   4673\n",
      "20        nlp_random_char_insert  corruptions   4730\n",
      "21  nlp_random_char_substitution  corruptions   4664\n",
      "22          nlp_random_char_swap  corruptions   4508\n",
      "23      nlp_random_char_deletion  corruptions   4280\n",
      "24     nlp_spelling_substitution  corruptions   2557\n",
      "25          nlp_random_word_swap  corruptions   1140\n",
      "26        nlp_random_word_delete  corruptions   3080\n"
     ]
    },
    {
     "data": {
      "image/png": "[encoded data removed]",
      "text/plain": [
       "<Figure size 2160x720 with 1 Axes>"
      ]
     },
     "metadata": {},
     "output_type": "display_data"
    }
   ],
   "source": [
    "supported_augment_labels = ['nlp_ocr'\n",
    "                           , 'nlp_keyboard'\n",
    "                           , 'nlp_random_char_insert'\n",
    "                           , 'nlp_random_char_substitution'\n",
    "                           , 'nlp_random_char_swap'\n",
    "                           , 'nlp_random_char_deletion'\n",
    "                           , 'nlp_spelling_substitution'\n",
    "                           , 'nlp_random_word_swap'\n",
    "                           , 'nlp_random_word_delete']\n",
    "\n",
    "file_paths = []\n",
    "\n",
    "for augmentation in supported_augment_labels:\n",
    "    file_name = './ERM_predictions/' + augmentation + \".npy\"\n",
    "    file_paths.append(file_Name)\n",
    "\n",
    "\n",
    "\n",
    "create_corrections_corruptions_plots(file_paths)"
   ]
  },
  {
   "cell_type": "code",
   "execution_count": 66,
   "id": "232ee850",
   "metadata": {},
   "outputs": [
    {
     "name": "stdout",
     "output_type": "stream",
     "text": [
      "./ERM_word_frequency_experiment/nlp_random_word_delete_aug_size_10.npy\n",
      "./ERM_word_frequency_experiment/nlp_random_word_delete_aug_size_3.npy\n",
      "./ERM_word_frequency_experiment/nlp_random_word_delete_aug_size_6.npy\n",
      "./ERM_word_frequency_experiment/nlp_random_word_delete_aug_size_2.npy\n",
      "./ERM_word_frequency_experiment/nlp_random_word_delete_aug_size_9.npy\n",
      "./ERM_word_frequency_experiment/nlp_random_word_delete_aug_size_5.npy\n",
      "./ERM_word_frequency_experiment/nlp_random_word_delete_aug_size_8.npy\n",
      "./ERM_word_frequency_experiment/nlp_random_word_delete_aug_size_1.npy\n",
      "./ERM_word_frequency_experiment/nlp_random_word_delete_aug_size_7.npy\n",
      "./ERM_word_frequency_experiment/nlp_random_word_delete_aug_size_4.npy\n",
      "    augmentation     variable  value\n",
      "10            10  corrections   1934\n",
      "11             3  corrections   1031\n",
      "12             6  corrections   1480\n",
      "13             2  corrections    894\n",
      "14             9  corrections   1874\n",
      "15             5  corrections   1409\n",
      "16             8  corrections   1766\n",
      "17             1  corrections    502\n",
      "18             7  corrections   1625\n",
      "19             4  corrections   1199\n",
      "20            10  corruptions   3931\n",
      "21             3  corruptions   1751\n",
      "22             6  corruptions   2832\n",
      "23             2  corruptions   1330\n",
      "24             9  corruptions   3706\n",
      "25             5  corruptions   2521\n",
      "26             8  corruptions   3482\n",
      "27             1  corruptions    846\n",
      "28             7  corruptions   3124\n",
      "29             4  corruptions   2147\n"
     ]
    },
    {
     "data": {
      "image/png": "[encoded data removed]",
      "text/plain": [
       "<Figure size 2160x720 with 1 Axes>"
      ]
     },
     "metadata": {},
     "output_type": "display_data"
    }
   ],
   "source": [
    "word_experiments_dir = 'ERM_word_frequency_experiment'\n",
    "\n",
    "experiment_file_paths = []\n",
    "\n",
    "for filename in os.listdir(word_experiments_dir):\n",
    "    full_path = './' + word_experiments_dir + '/' + filename\n",
    "\n",
    "    if os.path.isfile(full_path):\n",
    "        experiment_file_paths.append(full_path)\n",
    "        \n",
    "create_corrections_corruptions_plots(experiment_file_paths)"
   ]
  },
  {
   "cell_type": "code",
   "execution_count": null,
   "id": "72409b48",
   "metadata": {},
   "outputs": [],
   "source": [
    "char_experiments_dir = 'ERM_char_frequency_experiment'\n",
    "\n",
    "experiment_file_paths = []\n",
    "\n",
    "for filename in os.listdir(word_experiments_dir):\n",
    "    full_path = './' + word_experiments_dir + '/' + filename\n",
    "\n",
    "    if os.path.isfile(full_path):\n",
    "        experiment_file_paths.append(full_path)\n",
    "        \n",
    "create_corrections_corruptions_plots(experiment_file_paths)"
   ]
  },
  {
   "cell_type": "code",
   "execution_count": 52,
   "id": "23996519",
   "metadata": {},
   "outputs": [
    {
     "name": "stdout",
     "output_type": "stream",
     "text": [
      "[[0.45754883 0.54245126]]\n"
     ]
    }
   ],
   "source": [
    "with open('nlp_ocr_ERM_predictions.npy', 'rb') as g:#, open('nlp_random_char_insert_ERM_predictions.npy', 'rb') as h:\n",
    "    a = np.load(g)\n",
    "    #b = np.load(g)\n",
    "    #c = np.load(h)\n",
    "    \n",
    "print(a)#, b, c)"
   ]
  },
  {
   "cell_type": "code",
   "execution_count": null,
   "id": "6af5cf2f",
   "metadata": {},
   "outputs": [],
   "source": [
    "train_data[1]"
   ]
  },
  {
   "cell_type": "code",
   "execution_count": 26,
   "id": "496390ab",
   "metadata": {},
   "outputs": [
    {
     "ename": "NameError",
     "evalue": "name 'batch' is not defined",
     "output_type": "error",
     "traceback": [
      "\u001b[0;31m---------------------------------------------------------------------------\u001b[0m",
      "\u001b[0;31mNameError\u001b[0m                                 Traceback (most recent call last)",
      "\u001b[0;32m<ipython-input-26-59c28442ddfd>\u001b[0m in \u001b[0;36m<module>\u001b[0;34m\u001b[0m\n\u001b[1;32m      1\u001b[0m \u001b[0;31m#len(batch[1])\u001b[0m\u001b[0;34m\u001b[0m\u001b[0;34m\u001b[0m\u001b[0;34m\u001b[0m\u001b[0m\n\u001b[1;32m      2\u001b[0m \u001b[0;31m#batch[1]\u001b[0m\u001b[0;34m\u001b[0m\u001b[0;34m\u001b[0m\u001b[0;34m\u001b[0m\u001b[0m\n\u001b[0;32m----> 3\u001b[0;31m \u001b[0mbatch\u001b[0m\u001b[0;34m[\u001b[0m\u001b[0;36m2\u001b[0m\u001b[0;34m]\u001b[0m\u001b[0;34m\u001b[0m\u001b[0;34m\u001b[0m\u001b[0m\n\u001b[0m\u001b[1;32m      4\u001b[0m \u001b[0;34m\u001b[0m\u001b[0m\n\u001b[1;32m      5\u001b[0m \u001b[0;31m# batch[0] is array of input features\u001b[0m\u001b[0;34m\u001b[0m\u001b[0;34m\u001b[0m\u001b[0;34m\u001b[0m\u001b[0m\n",
      "\u001b[0;31mNameError\u001b[0m: name 'batch' is not defined"
     ]
    }
   ],
   "source": [
    "#len(batch[1])\n",
    "#batch[1]\n",
    "batch[2]\n",
    "\n",
    "# batch[0] is array of input features\n",
    "# batch[1] is array of labels\n",
    "# batch[2] is array of metadata"
   ]
  },
  {
   "cell_type": "code",
   "execution_count": 25,
   "id": "86b61fa6",
   "metadata": {},
   "outputs": [
    {
     "data": {
      "text/plain": [
       "torch.Size([300, 2])"
      ]
     },
     "execution_count": 25,
     "metadata": {},
     "output_type": "execute_result"
    }
   ],
   "source": [
    "np.shape(batch[0][0])"
   ]
  },
  {
   "cell_type": "code",
   "execution_count": 30,
   "id": "56bf89c5",
   "metadata": {},
   "outputs": [
    {
     "data": {
      "text/plain": [
       "torch.Size([1, 300, 2])"
      ]
     },
     "execution_count": 30,
     "metadata": {},
     "output_type": "execute_result"
    }
   ],
   "source": [
    "np.shape(batch[0][0])\n",
    "\n",
    "np.shape(torch.unsqueeze(batch[0][0], 0))"
   ]
  },
  {
   "cell_type": "code",
   "execution_count": 13,
   "id": "de8795fc",
   "metadata": {},
   "outputs": [],
   "source": [
    "x = model.model(torch.unsqueeze(batch[0][0], 0).cuda())\n",
    "\n",
    "# Outputting before transforming to measure toxicity\n",
    "\n",
    "# Apply softmax to normalize and sum to 1\n",
    "\n",
    "# Save predictions while iterating through samples into .npy or pickl (np.save)"
   ]
  },
  {
   "cell_type": "code",
   "execution_count": 33,
   "id": "b12ca4c0",
   "metadata": {},
   "outputs": [
    {
     "data": {
      "text/plain": [
       "[[0.4568701684474945, 0.5431299209594727]]"
      ]
     },
     "execution_count": 33,
     "metadata": {},
     "output_type": "execute_result"
    }
   ],
   "source": [
    "softmax_prediction = sp.special.softmax(x.cpu().detach().numpy())\n",
    "softmax_prediction.tolist()\n",
    "\n"
   ]
  },
  {
   "cell_type": "code",
   "execution_count": 32,
   "id": "8fd10cb4",
   "metadata": {},
   "outputs": [
    {
     "data": {
      "text/plain": [
       "{'dataset': <wilds.datasets.wilds_dataset.WILDSSubset at 0x7fa531852a58>,\n",
       " 'loader': <torch.utils.data.dataloader.DataLoader at 0x7fa531852a90>,\n",
       " 'split': 'test',\n",
       " 'name': 'Test',\n",
       " 'verbose': False}"
      ]
     },
     "execution_count": 32,
     "metadata": {},
     "output_type": "execute_result"
    }
   ],
   "source": [
    "datasets[split]"
   ]
  },
  {
   "cell_type": "code",
   "execution_count": 33,
   "id": "10c01ad4",
   "metadata": {},
   "outputs": [
    {
     "data": {
      "text/plain": [
       "<torch.utils.data.dataloader.DataLoader at 0x7fa5318529b0>"
      ]
     },
     "execution_count": 33,
     "metadata": {},
     "output_type": "execute_result"
    }
   ],
   "source": [
    "datasets['val']['loader']"
   ]
  },
  {
   "cell_type": "code",
   "execution_count": 70,
   "id": "169a829b",
   "metadata": {},
   "outputs": [
    {
     "data": {
      "text/plain": [
       "['The quick brown fox d over the lazy dog.',\n",
       " 'The quick brown fox jumped the lazy dog.']"
      ]
     },
     "execution_count": 70,
     "metadata": {},
     "output_type": "execute_result"
    }
   ],
   "source": [
    "import nlpaug.augmenter.char as nac\n",
    "import nlpaug.augmenter.word as naw\n",
    "import nlpaug.augmenter.sentence as nas\n",
    "import nlpaug.flow as nafc\n",
    "import os\n",
    "\n",
    "text = \"The quick brown fox jumped over the lazy dog.\"\n",
    "aug = nac.RandomCharAug(action = 'delete'\n",
    "                       , aug_char_min = 5\n",
    "                       , aug_char_max = 5\n",
    "                       , aug_char_p = 1\n",
    "                       , aug_word_p = 1\n",
    "                       , aug_word_min = 1\n",
    "                       , aug_word_max = 1)\n",
    "\n",
    "augmented_text = aug.augment(text, n = 2)\n",
    "\n",
    "augmented_text"
   ]
  },
  {
   "cell_type": "code",
   "execution_count": 6,
   "id": "68d8a24d",
   "metadata": {},
   "outputs": [
    {
     "data": {
      "text/plain": [
       "['The quick brown fox jumped over the y dog.',\n",
       " 'The quick brown fox jumped v the lazy dog.']"
      ]
     },
     "execution_count": 6,
     "metadata": {},
     "output_type": "execute_result"
    }
   ],
   "source": [
    "aug = nac.RandomCharAug(action = 'delete'\n",
    "                       , aug_char_min = 3\n",
    "                       , aug_char_max = 3\n",
    "                       , aug_char_p = 1\n",
    "                       , aug_word_p = 1\n",
    "                       , aug_word_min = 1\n",
    "                       , aug_word_max = 1)\n",
    "\n",
    "augmented_text = aug.augment(text, n = 2)\n",
    "\n",
    "augmented_text"
   ]
  },
  {
   "cell_type": "code",
   "execution_count": 24,
   "id": "dff7efa9",
   "metadata": {},
   "outputs": [
    {
     "data": {
      "text/plain": [
       "['The ick brw fox hi med er the zy dog.',\n",
       " 'The uik ron fox hi mpe ov the az dog.']"
      ]
     },
     "execution_count": 24,
     "metadata": {},
     "output_type": "execute_result"
    }
   ],
   "source": [
    "aug = nac.RandomCharAug(action = 'delete'\n",
    "                       , aug_char_min = 1\n",
    "                       , aug_char_max = 100\n",
    "                       , aug_char_p = 0.5\n",
    "                       , aug_word_p = 0.5\n",
    "                       , aug_word_min = 20\n",
    "                       , aug_word_max = 20)\n",
    "                       #, min_char = 0)\n",
    "\n",
    "augmented_text = aug.augment(text, n = 2)\n",
    "\n",
    "augmented_text"
   ]
  },
  {
   "cell_type": "code",
   "execution_count": 23,
   "id": "3f74912c",
   "metadata": {},
   "outputs": [
    {
     "data": {
      "text/plain": [
       "['The quick wn fox jumped v the a dog.',\n",
       " 'The qc wn fox jumped r the lazy dog.']"
      ]
     },
     "execution_count": 23,
     "metadata": {},
     "output_type": "execute_result"
    }
   ],
   "source": [
    "aug = nac.RandomCharAug(action = 'delete'\n",
    "                       , aug_char_min = 3\n",
    "                       , aug_char_max = 3\n",
    "                        #$, aug_char_p = 1\n",
    "                       #, aug_word_p = 1\n",
    "                       , aug_word_min = 3\n",
    "                       , aug_word_max = 3)\n",
    "\n",
    "augmented_text = aug.augment(text, n = 2)\n",
    "\n",
    "augmented_text"
   ]
  },
  {
   "cell_type": "code",
   "execution_count": 71,
   "id": "893fe884",
   "metadata": {},
   "outputs": [
    {
     "data": {
      "text/plain": [
       "'The quick brown fox jumped over the lazy dog.'"
      ]
     },
     "execution_count": 71,
     "metadata": {},
     "output_type": "execute_result"
    }
   ],
   "source": [
    "text"
   ]
  },
  {
   "cell_type": "code",
   "execution_count": 72,
   "id": "2687ecbb",
   "metadata": {},
   "outputs": [
    {
     "data": {
      "text/plain": [
       "'The quick brown fox jumped over the.'"
      ]
     },
     "execution_count": 72,
     "metadata": {},
     "output_type": "execute_result"
    }
   ],
   "source": [
    "aug = naw.RandomWordAug(action = 'delete'\n",
    "                               , aug_min = 2\n",
    "                               , aug_max = 2 \n",
    "                               , aug_p = 1)\n",
    "\n",
    "augmented_text = aug.augment(text, n = 1)\n",
    "\n",
    "augmented_text"
   ]
  },
  {
   "cell_type": "code",
   "execution_count": 73,
   "id": "565b7f20",
   "metadata": {},
   "outputs": [
    {
     "data": {
      "text/plain": [
       "'Quick brown fox the dog.'"
      ]
     },
     "execution_count": 73,
     "metadata": {},
     "output_type": "execute_result"
    }
   ],
   "source": [
    "aug = naw.RandomWordAug(action = 'delete'\n",
    "                               , aug_min = 5\n",
    "                               , aug_max = 5\n",
    "                               , aug_p = 1)\n",
    "\n",
    "augmented_text = aug.augment(text, n = 1)\n",
    "\n",
    "augmented_text"
   ]
  },
  {
   "cell_type": "code",
   "execution_count": 74,
   "id": "7f96ba8d",
   "metadata": {},
   "outputs": [],
   "source": [
    "'''\n",
    "INSPECTION OF CIVIL COMMENTS DATA INPUT\n",
    "'''\n",
    "\n",
    "word_histogram = []\n",
    "char_histogram = []\n",
    "\n",
    "full_dataset_inputs = full_dataset._text_array\n",
    "\n",
    "for data in full_dataset_inputs:\n",
    "    words_list = data.split()\n",
    "    num_words = len(words_list)\n",
    "    \n",
    "    for word in words_list:\n",
    "        num_char = len(word)\n",
    "        char_histogram.append(num_char)\n",
    "    \n",
    "    word_histogram.append(num_words)\n"
   ]
  },
  {
   "cell_type": "code",
   "execution_count": 63,
   "id": "2e1ff644",
   "metadata": {},
   "outputs": [
    {
     "name": "stdout",
     "output_type": "stream",
     "text": [
      "11.0\n",
      "147.0\n",
      "Freedman–Diaconis number of bins: 88\n"
     ]
    },
    {
     "data": {
      "image/png": "[encoded data removed]",
      "text/plain": [
       "<Figure size 2160x720 with 1 Axes>"
      ]
     },
     "metadata": {
      "needs_background": "light"
     },
     "output_type": "display_data"
    }
   ],
   "source": [
    "q10, q90 = np.percentile(word_histogram, [10, 90])\n",
    "print(q10)\n",
    "print(q90)\n",
    "bin_width = 2 * (q90 - q10) * len(word_histogram) ** (-1/3)\n",
    "bins = round((max(word_histogram) - min(word_histogram)) / bin_width)\n",
    "print(\"Freedman–Diaconis number of bins:\", bins)\n",
    "plt.hist(word_histogram, bins=bins);"
   ]
  },
  {
   "cell_type": "code",
   "execution_count": 32,
   "id": "31306b36",
   "metadata": {},
   "outputs": [
    {
     "name": "stdout",
     "output_type": "stream",
     "text": [
      "Freedman–Diaconis number of bins: 179\n"
     ]
    },
    {
     "data": {
      "image/png": "[encoded data removed]",
      "text/plain": [
       "<Figure size 2160x720 with 1 Axes>"
      ]
     },
     "metadata": {},
     "output_type": "display_data"
    }
   ],
   "source": [
    "q25, q75 = np.percentile(word_histogram, [25, 75])\n",
    "bin_width = 2 * (q75 - q25) * len(word_histogram) ** (-1/3)\n",
    "bins = round((max(word_histogram) - min(word_histogram)) / bin_width)\n",
    "print(\"Freedman–Diaconis number of bins:\", bins)\n",
    "plt.hist(word_histogram, bins=bins);"
   ]
  },
  {
   "cell_type": "code",
   "execution_count": 34,
   "id": "feecb420",
   "metadata": {},
   "outputs": [
    {
     "data": {
      "text/plain": [
       "1"
      ]
     },
     "execution_count": 34,
     "metadata": {},
     "output_type": "execute_result"
    }
   ],
   "source": [
    "min(word_histogram)"
   ]
  },
  {
   "cell_type": "code",
   "execution_count": 35,
   "id": "15442892",
   "metadata": {},
   "outputs": [
    {
     "data": {
      "text/plain": [
       "315"
      ]
     },
     "execution_count": 35,
     "metadata": {},
     "output_type": "execute_result"
    }
   ],
   "source": [
    "max(word_histogram)"
   ]
  },
  {
   "cell_type": "code",
   "execution_count": 37,
   "id": "0570d9b4",
   "metadata": {},
   "outputs": [
    {
     "name": "stdout",
     "output_type": "stream",
     "text": [
      "As usual WW plumbing the depths for deeper meaning ... that is unless it involves an issue on which they disagree then it is ridicule 24/7.   Clever creating the Bundyland series complete with cartoon banner.  Set the tone for the level of journalism to expect ... journalism ?  ... fatastisticism. \n",
      "\n",
      "I did notice you soft pedaling the ridicule of David Fry identifying him as troubled.  My guess is that has more to do with sympathy for his pot smoking withdrawl rants than respect for his politics.  Respect is never a factor with liberals as evidenced by your series of vapid caricatures.  \n",
      "\n",
      "Did you happen to see the stories actual journalists did on Refuge mis-managment, fires, floods, and the millions of Carp that are harassing the birds away from the Bird Refuge?  The stories of arbitrary miss-management that are driving unemployment ever higher in eastern Oregon.  Curry County Sheriff turning in his badge in frustration for lack of resources dud to dwindling tax base engineered by arbitrary over reaching Federal Government policies.  Or how about the thousands of miles of roads proposed to be removed from Oregon wild lands, cutting off public and fire access?  What is the one issue the people of Oregon demand universally?  Access to the wild lands?  You are not reporting that it is being taken away.  More closed roads.  More illegal Federal Police, guns drawn, stops ... as reported by the Sheriff of Grant County.  \n",
      "\n",
      "I suspect the real problem was real people you couldn't care less about were articulate, were actual victims, and made rational arguments you could not respond to.  The exact opposite of the great unbathed OWS movement, apart from the paid organizers, that held downtown Portland hostage and trashed 3 park blocks for 3 weeks.  \n",
      "\n",
      "Shame on you.  You missed some really great stories and even greater people ... people who don't drink $5 cups of coffee.\n"
     ]
    }
   ],
   "source": [
    "for data in full_dataset_inputs:\n",
    "    if len(data.split()) == 315:\n",
    "        print(data)"
   ]
  },
  {
   "cell_type": "code",
   "execution_count": 5,
   "id": "96e06f98",
   "metadata": {},
   "outputs": [
    {
     "data": {
      "text/plain": [
       "448000"
      ]
     },
     "execution_count": 5,
     "metadata": {},
     "output_type": "execute_result"
    }
   ],
   "source": [
    "full_dataset_inputs = full_dataset._text_array\n",
    "len(full_dataset_inputs)\n"
   ]
  },
  {
   "cell_type": "code",
   "execution_count": 6,
   "id": "4d033eee",
   "metadata": {},
   "outputs": [
    {
     "name": "stdout",
     "output_type": "stream",
     "text": [
      "OH yes - Were those evil Christian Missionaries (many of whom were slaughtered by the Indians, or lost their lives due to disease, starvation etc.) lumped in with those \"genocidists\" you mention ? (yes I did make up a word, just as you make up stories).\n"
     ]
    }
   ],
   "source": [
    "print(full_dataset_inputs[0])"
   ]
  },
  {
   "cell_type": "code",
   "execution_count": 7,
   "id": "136797db",
   "metadata": {},
   "outputs": [
    {
     "name": "stdout",
     "output_type": "stream",
     "text": [
      "['OH', 'yes', '-', 'Were', 'those', 'evil', 'Christian', 'Missionaries', '(many', 'of', 'whom', 'were', 'slaughtered', 'by', 'the', 'Indians,', 'or', 'lost', 'their', 'lives', 'due', 'to', 'disease,', 'starvation', 'etc.)', 'lumped', 'in', 'with', 'those', '\"genocidists\"', 'you', 'mention', '?', '(yes', 'I', 'did', 'make', 'up', 'a', 'word,', 'just', 'as', 'you', 'make', 'up', 'stories).']\n"
     ]
    }
   ],
   "source": [
    "print(full_dataset_inputs[0].split())"
   ]
  },
  {
   "cell_type": "code",
   "execution_count": null,
   "id": "6863ca6e",
   "metadata": {},
   "outputs": [],
   "source": [
    "full_dataset_inputs = full_dataset._text_array\n",
    "\n",
    "for i in range(5):\n",
    "    data = full_dataset_inputs[i]\n",
    "    print(data)\n",
    "    print(data.split())"
   ]
  },
  {
   "cell_type": "code",
   "execution_count": 75,
   "id": "351f77bf",
   "metadata": {},
   "outputs": [
    {
     "name": "stdout",
     "output_type": "stream",
     "text": [
      "Freedman–Diaconis number of bins: 25037\n"
     ]
    },
    {
     "data": {
      "image/png": "[encoded data removed]",
      "text/plain": [
       "<Figure size 2160x720 with 1 Axes>"
      ]
     },
     "metadata": {},
     "output_type": "display_data"
    }
   ],
   "source": [
    "q25, q75 = np.percentile(char_histogram, [25, 75])\n",
    "bin_width = 2 * (q75 - q25) * len(char_histogram) ** (-1/3)\n",
    "bins = round((max(char_histogram) - min(char_histogram)) / bin_width)\n",
    "print(\"Freedman–Diaconis number of bins:\", bins)\n",
    "plt.hist(char_histogram, bins=bins);"
   ]
  },
  {
   "cell_type": "code",
   "execution_count": 76,
   "id": "d2f2e6d3",
   "metadata": {},
   "outputs": [
    {
     "name": "stdout",
     "output_type": "stream",
     "text": [
      "3.0\n",
      "6.0\n"
     ]
    }
   ],
   "source": [
    "print(q25)\n",
    "print(q75)"
   ]
  },
  {
   "cell_type": "code",
   "execution_count": 38,
   "id": "364bee9f",
   "metadata": {},
   "outputs": [
    {
     "data": {
      "text/plain": [
       "1"
      ]
     },
     "execution_count": 38,
     "metadata": {},
     "output_type": "execute_result"
    }
   ],
   "source": [
    "min(char_histogram)"
   ]
  },
  {
   "cell_type": "code",
   "execution_count": 39,
   "id": "a89acd83",
   "metadata": {},
   "outputs": [
    {
     "data": {
      "text/plain": [
       "1891"
      ]
     },
     "execution_count": 39,
     "metadata": {},
     "output_type": "execute_result"
    }
   ],
   "source": [
    "max(char_histogram)"
   ]
  },
  {
   "cell_type": "code",
   "execution_count": 40,
   "id": "97fb71de",
   "metadata": {},
   "outputs": [
    {
     "name": "stdout",
     "output_type": "stream",
     "text": [
      "d\n",
      ".\n",
      "g\n",
      "?\n",
      "?\n",
      "?\n",
      ".\n",
      "🤔\n",
      "😥\n",
      "☺\n",
      "K\n",
      ",\n",
      ".\n",
      ".\n",
      "1\n",
      "r\n",
      "?\n"
     ]
    }
   ],
   "source": [
    "for data in full_dataset_inputs:\n",
    "    if len(data) == 1:\n",
    "        print(data)"
   ]
  },
  {
   "cell_type": "code",
   "execution_count": 41,
   "id": "d92c7da5",
   "metadata": {},
   "outputs": [
    {
     "name": "stdout",
     "output_type": "stream",
     "text": [
      "As usual WW plumbing the depths for deeper meaning ... that is unless it involves an issue on which they disagree then it is ridicule 24/7.   Clever creating the Bundyland series complete with cartoon banner.  Set the tone for the level of journalism to expect ... journalism ?  ... fatastisticism. \n",
      "\n",
      "I did notice you soft pedaling the ridicule of David Fry identifying him as troubled.  My guess is that has more to do with sympathy for his pot smoking withdrawl rants than respect for his politics.  Respect is never a factor with liberals as evidenced by your series of vapid caricatures.  \n",
      "\n",
      "Did you happen to see the stories actual journalists did on Refuge mis-managment, fires, floods, and the millions of Carp that are harassing the birds away from the Bird Refuge?  The stories of arbitrary miss-management that are driving unemployment ever higher in eastern Oregon.  Curry County Sheriff turning in his badge in frustration for lack of resources dud to dwindling tax base engineered by arbitrary over reaching Federal Government policies.  Or how about the thousands of miles of roads proposed to be removed from Oregon wild lands, cutting off public and fire access?  What is the one issue the people of Oregon demand universally?  Access to the wild lands?  You are not reporting that it is being taken away.  More closed roads.  More illegal Federal Police, guns drawn, stops ... as reported by the Sheriff of Grant County.  \n",
      "\n",
      "I suspect the real problem was real people you couldn't care less about were articulate, were actual victims, and made rational arguments you could not respond to.  The exact opposite of the great unbathed OWS movement, apart from the paid organizers, that held downtown Portland hostage and trashed 3 park blocks for 3 weeks.  \n",
      "\n",
      "Shame on you.  You missed some really great stories and even greater people ... people who don't drink $5 cups of coffee.\n"
     ]
    }
   ],
   "source": [
    "for data in full_dataset_inputs:\n",
    "    if len(data) == 1891:\n",
    "        print(data)"
   ]
  },
  {
   "cell_type": "code",
   "execution_count": null,
   "id": "56edb8a5",
   "metadata": {},
   "outputs": [],
   "source": [
    "\"\"\" \n",
    "EXPERIMENT: IMPACT OF CHAR AUGMENTATION FREQUENCY ON ACCURACY\n",
    "\"\"\"\n",
    "\n",
    "char_augmentation = 'nlp_random_char_deletion'\n",
    "\n",
    "for i in range(1, 5):\n",
    "    predict_augmented_labels(char_augmentation, aug_size = i)\n"
   ]
  },
  {
   "cell_type": "code",
   "execution_count": 39,
   "id": "34408070",
   "metadata": {},
   "outputs": [],
   "source": [
    "def create_char_exp_accuracy_graph(exp_folder, graph_type = 'bar'):\n",
    "    \n",
    "    aug_to_acc = []\n",
    "    \n",
    "    print(exp_folder)\n",
    "    percent_words_modified = os.listdir(exp_folder)[0][7:11] # HOW TO GET PERC. WORDS\n",
    "\n",
    "    for filename in os.listdir(exp_folder):\n",
    "        print(filename)\n",
    "        full_path = exp_folder + '/' + filename\n",
    "        #print(full_path)\n",
    "        if os.path.isfile(full_path):\n",
    "            accuracies = calculate_accuracy(full_path)\n",
    "            num_char = filename[-5:-4] # HOW TO GET NUMBER OF CHARACTERS\n",
    "\n",
    "            for i in range(len(accuracies)):\n",
    "                accuracy = accuracies[i]\n",
    "                aug_dict = {\"num_char_augmented\":num_char, \"accuracy\": accuracy, \"batch_num\": i}\n",
    "                aug_to_acc.append(aug_dict)\n",
    "\n",
    "    \n",
    "    acc_df = pd.DataFrame(aug_to_acc).sort_values('num_char_augmented', ascending = True)\n",
    "    print(acc_df)\n",
    "    \n",
    "    fig, ax = plt.subplots()\n",
    "\n",
    "    if graph_type == 'bar':\n",
    "        p = sns.barplot(x = 'num_char_augmented', y = 'accuracy', data = acc_df, ci = 95, ax = ax)#, order = acc_df['augmentation'])\n",
    "    \n",
    "    elif graph_type == 'box':\n",
    "        p = sns.boxplot(x = 'num_char_augmented', y = 'accuracy', data = acc_df, ax = ax)#, order = acc_df['augmentation'])\n",
    "\n",
    "\n",
    "    min_value = acc_df.min()['accuracy']\n",
    "    max_value = acc_df.max()['accuracy']\n",
    "\n",
    "    ax.set_ylim(min_value - 0.02, min(1.0, max_value + 0.02))\n",
    "    \n",
    "    #print(p.containers[0])\n",
    "    #p.bar_label(p.containers[0])\n",
    "    show_values(p)\n",
    "    plt.rcParams['figure.figsize'] = (30,10)\n",
    "    \n",
    "    print(percent_words_modified)\n",
    "    title = str(percent_words_modified) + \" of input modified with nlpaug_random_char_deletion\"\n",
    "    \n",
    "    plt.title(title)\n",
    "    plt.show()\n",
    "    \n"
   ]
  },
  {
   "cell_type": "code",
   "execution_count": 79,
   "id": "86a0b175",
   "metadata": {},
   "outputs": [],
   "source": [
    "def create_exp_accuracy_summary_plot(exp_folders):\n",
    "    aug_to_acc = []\n",
    "    hue_order = []\n",
    "    \n",
    "\n",
    "    for folder in exp_folders:\n",
    "        percent_words_modified = os.listdir(folder)[0][7:11] # HOW TO GET PERC. WORDS\n",
    "        hue_order.append(percent_words_modified)\n",
    "        \n",
    "        for filename in os.listdir(folder):\n",
    "            print(filename)\n",
    "            full_path = folder + '/' + filename\n",
    "            \n",
    "            if os.path.isfile(full_path):\n",
    "                accuracies = calculate_accuracy(full_path)\n",
    "                num_char = filename[-5:-4] # HOW TO GET NUMBER OF CHARACTERS\n",
    "\n",
    "                for i in range(len(accuracies)):\n",
    "                    accuracy = accuracies[i]\n",
    "                    aug_dict = {\"num_char_augmented\":num_char, \"accuracy\": accuracy, \"perc_words_augmented\": percent_words_modified, \"batch_num\": i}\n",
    "                    aug_to_acc.append(aug_dict)\n",
    "\n",
    "    \n",
    "    acc_df = pd.DataFrame(aug_to_acc).sort_values('num_char_augmented', ascending = True)\n",
    "    print(acc_df)\n",
    "    \n",
    "    fig, ax = plt.subplots()\n",
    "\n",
    "    p = sns.lineplot(data = acc_df, x = \"num_char_augmented\", y = \"accuracy\", hue = \"perc_words_augmented\", hue_order = hue_order, ax = ax)#, order = acc_df['augmentation'])\n",
    "    \n",
    "    min_value = acc_df.min()['accuracy']\n",
    "    max_value = acc_df.max()['accuracy']\n",
    "\n",
    "    ax.set_ylim(min_value - 0.02, min(1.0, max_value + 0.02))\n",
    "    \n",
    "    #ax.add_legend(label_order = exp_folders)\n",
    "    \n",
    "    #print(p.containers[0])\n",
    "    #p.bar_label(p.containers[0])\n",
    "    show_values(p)\n",
    "    #plt.rcParams['figure.figsize'] = (20,10)\n",
    "    \n",
    "    print(percent_words_modified)\n",
    "    title = \"Impact of nlpaug_random_char_deletion augmentation intensity on predictive accuracy\"\n",
    "    \n",
    "    plt.title(title)\n",
    "    plt.show()\n",
    "    \n",
    "\n"
   ]
  },
  {
   "cell_type": "code",
   "execution_count": null,
   "id": "58f9b2d3",
   "metadata": {},
   "outputs": [],
   "source": [
    "create_char_exp_accuracy_graph('ERM_char_frequency_experiment')"
   ]
  },
  {
   "cell_type": "code",
   "execution_count": null,
   "id": "11945d36",
   "metadata": {},
   "outputs": [],
   "source": [
    "create_char_exp_accuracy_graph('ERM_char_frequency_experiment/word_p_0.25')"
   ]
  },
  {
   "cell_type": "code",
   "execution_count": null,
   "id": "0e76cb77",
   "metadata": {},
   "outputs": [],
   "source": [
    "create_char_exp_accuracy_graph('ERM_char_frequency_experiment/word_p_0.50')"
   ]
  },
  {
   "cell_type": "code",
   "execution_count": null,
   "id": "b1e8f09e",
   "metadata": {},
   "outputs": [],
   "source": [
    "create_char_exp_accuracy_graph('ERM_char_frequency_experiment/word_p_0.75', graph_type = 'box')"
   ]
  },
  {
   "cell_type": "code",
   "execution_count": null,
   "id": "fbb8490f",
   "metadata": {
    "scrolled": false
   },
   "outputs": [],
   "source": [
    "experiment_folders = [\n",
    "                     'ERM_char_frequency_experiment/word_p_0.05',\n",
    "                     'ERM_char_frequency_experiment/word_p_0.10',\n",
    "                     'ERM_char_frequency_experiment/word_p_0.20',\n",
    "                     'ERM_char_frequency_experiment/word_p_0.25',\n",
    "                     'ERM_char_frequency_experiment/word_p_0.50',\n",
    "                     'ERM_char_frequency_experiment/word_p_0.75',\n",
    "                     ]\n",
    "\n",
    "create_exp_accuracy_summary_plot(experiment_folders)"
   ]
  },
  {
   "cell_type": "code",
   "execution_count": null,
   "id": "c95d559e",
   "metadata": {},
   "outputs": [],
   "source": [
    "create_char_exp_accuracy_graph('ERM_char_frequency_experiment/word_p_0.05')"
   ]
  },
  {
   "cell_type": "code",
   "execution_count": null,
   "id": "4db00ed0",
   "metadata": {},
   "outputs": [],
   "source": [
    "create_char_exp_accuracy_graph('ERM_char_frequency_experiment/word_p_0.10')"
   ]
  },
  {
   "cell_type": "code",
   "execution_count": null,
   "id": "ec97f006",
   "metadata": {},
   "outputs": [],
   "source": [
    "create_char_exp_accuracy_graph('ERM_char_frequency_experiment/word_p_0.20')"
   ]
  },
  {
   "cell_type": "code",
   "execution_count": null,
   "id": "29422b90",
   "metadata": {},
   "outputs": [],
   "source": [
    "\"\"\" \n",
    "EXPERIMENT: IMPACT OF WORD AUGMENTATION INTENSITY ON ACCURACY\n",
    "\"\"\"\n",
    "\n",
    "word_augmentation = 'nlp_random_word_delete'\n",
    "\n",
    "for i in range(2, 11):\n",
    "    predict_augmented_labels(word_augmentation, aug_size = i)\n"
   ]
  },
  {
   "cell_type": "code",
   "execution_count": 35,
   "id": "66feba22",
   "metadata": {},
   "outputs": [],
   "source": [
    "def create_word_exp_accuracy_graph(exp_folder, graph_type = 'bar'):\n",
    "    \n",
    "    aug_to_acc = []\n",
    "    \n",
    "    print(exp_folder)\n",
    "\n",
    "    for filename in os.listdir(exp_folder):\n",
    "        print(filename)\n",
    "        full_path = exp_folder + '/' + filename\n",
    "        #print(full_path)\n",
    "        if os.path.isfile(full_path):\n",
    "            accuracies = calculate_accuracy(full_path)\n",
    "            num_word = filename.split('_')[-1].split('.')[0] # HOW TO GET NUMBER OF CHARACTERS\n",
    "\n",
    "            for i in range(len(accuracies)):\n",
    "                accuracy = accuracies[i]\n",
    "                aug_dict = {\"num_word_augmented\":int(num_word), \"accuracy\": accuracy, \"batch_num\": i}\n",
    "                aug_to_acc.append(aug_dict)\n",
    "\n",
    "    \n",
    "    acc_df = pd.DataFrame(aug_to_acc).sort_values('num_word_augmented', ascending = True)\n",
    "    print(acc_df)\n",
    "    \n",
    "    fig, ax = plt.subplots()\n",
    "\n",
    "    if graph_type == 'bar':\n",
    "        p = sns.barplot(x = 'num_word_augmented', y = 'accuracy', data = acc_df, ci = 95, ax = ax)#, order = acc_df['augmentation'])\n",
    "    \n",
    "    elif graph_type == 'box':\n",
    "        p = sns.boxplot(x = 'num_word_augmented', y = 'accuracy', data = acc_df, ax = ax)#, order = acc_df['augmentation'])\n",
    "\n",
    "\n",
    "    min_value = acc_df.min()['accuracy']\n",
    "    max_value = acc_df.max()['accuracy']\n",
    "\n",
    "    ax.set_ylim(min_value - 0.02, min(1.0, max_value + 0.02))\n",
    "    \n",
    "    show_values(p)\n",
    "    plt.rcParams['figure.figsize'] = (30,10)\n",
    "    \n",
    "    title = \"input modified with nlpaug_random_word_delete\"\n",
    "    \n",
    "    plt.title(title)\n",
    "    plt.show()\n",
    "    \n"
   ]
  },
  {
   "cell_type": "code",
   "execution_count": 37,
   "id": "6e5f4afc",
   "metadata": {},
   "outputs": [
    {
     "name": "stdout",
     "output_type": "stream",
     "text": [
      "ERM_word_frequency_experiment\n",
      "nlp_random_word_delete_aug_size_10.npy\n"
     ]
    },
    {
     "data": {
      "application/vnd.jupyter.widget-view+json": {
       "model_id": "e6e080b70e4d4518824bb9053a168a46",
       "version_major": 2,
       "version_minor": 0
      },
      "text/plain": [
       "  0%|          | 0/10 [00:00<?, ?it/s]"
      ]
     },
     "metadata": {},
     "output_type": "display_data"
    },
    {
     "name": "stdout",
     "output_type": "stream",
     "text": [
      "nlp_random_word_delete_aug_size_3.npy\n"
     ]
    },
    {
     "data": {
      "application/vnd.jupyter.widget-view+json": {
       "model_id": "22fcf6e479014001997e4e4353f1a30c",
       "version_major": 2,
       "version_minor": 0
      },
      "text/plain": [
       "  0%|          | 0/10 [00:00<?, ?it/s]"
      ]
     },
     "metadata": {},
     "output_type": "display_data"
    },
    {
     "name": "stdout",
     "output_type": "stream",
     "text": [
      "nlp_random_word_delete_aug_size_6.npy\n"
     ]
    },
    {
     "data": {
      "application/vnd.jupyter.widget-view+json": {
       "model_id": "58b23dcf572e45ce91dab11f40ba3115",
       "version_major": 2,
       "version_minor": 0
      },
      "text/plain": [
       "  0%|          | 0/10 [00:00<?, ?it/s]"
      ]
     },
     "metadata": {},
     "output_type": "display_data"
    },
    {
     "name": "stdout",
     "output_type": "stream",
     "text": [
      "nlp_random_word_delete_aug_size_2.npy\n"
     ]
    },
    {
     "data": {
      "application/vnd.jupyter.widget-view+json": {
       "model_id": "2631bfec429a4685bade1f15a0bca462",
       "version_major": 2,
       "version_minor": 0
      },
      "text/plain": [
       "  0%|          | 0/10 [00:00<?, ?it/s]"
      ]
     },
     "metadata": {},
     "output_type": "display_data"
    },
    {
     "name": "stdout",
     "output_type": "stream",
     "text": [
      "nlp_random_word_delete_aug_size_9.npy\n"
     ]
    },
    {
     "data": {
      "application/vnd.jupyter.widget-view+json": {
       "model_id": "d0acff803644461cbbcd16b80d4e255a",
       "version_major": 2,
       "version_minor": 0
      },
      "text/plain": [
       "  0%|          | 0/10 [00:00<?, ?it/s]"
      ]
     },
     "metadata": {},
     "output_type": "display_data"
    },
    {
     "name": "stdout",
     "output_type": "stream",
     "text": [
      "nlp_random_word_delete_aug_size_5.npy\n"
     ]
    },
    {
     "data": {
      "application/vnd.jupyter.widget-view+json": {
       "model_id": "4ab4374970644912a0bbcb528aeb0973",
       "version_major": 2,
       "version_minor": 0
      },
      "text/plain": [
       "  0%|          | 0/10 [00:00<?, ?it/s]"
      ]
     },
     "metadata": {},
     "output_type": "display_data"
    },
    {
     "name": "stdout",
     "output_type": "stream",
     "text": [
      "nlp_random_word_delete_aug_size_8.npy\n"
     ]
    },
    {
     "data": {
      "application/vnd.jupyter.widget-view+json": {
       "model_id": "5e82b31da9854d17a70960cab4218e75",
       "version_major": 2,
       "version_minor": 0
      },
      "text/plain": [
       "  0%|          | 0/10 [00:00<?, ?it/s]"
      ]
     },
     "metadata": {},
     "output_type": "display_data"
    },
    {
     "name": "stdout",
     "output_type": "stream",
     "text": [
      "nlp_random_word_delete_aug_size_1.npy\n"
     ]
    },
    {
     "data": {
      "application/vnd.jupyter.widget-view+json": {
       "model_id": "b4910783d0044fe9b8d8a00a6f98af58",
       "version_major": 2,
       "version_minor": 0
      },
      "text/plain": [
       "  0%|          | 0/10 [00:00<?, ?it/s]"
      ]
     },
     "metadata": {},
     "output_type": "display_data"
    },
    {
     "name": "stdout",
     "output_type": "stream",
     "text": [
      "nlp_random_word_delete_aug_size_7.npy\n"
     ]
    },
    {
     "data": {
      "application/vnd.jupyter.widget-view+json": {
       "model_id": "6b2706fe1f2d4b7b80a68c98e5981902",
       "version_major": 2,
       "version_minor": 0
      },
      "text/plain": [
       "  0%|          | 0/10 [00:00<?, ?it/s]"
      ]
     },
     "metadata": {},
     "output_type": "display_data"
    },
    {
     "name": "stdout",
     "output_type": "stream",
     "text": [
      "nlp_random_word_delete_aug_size_4.npy\n"
     ]
    },
    {
     "data": {
      "application/vnd.jupyter.widget-view+json": {
       "model_id": "75cfc15e15e14607b81afaac983d5288",
       "version_major": 2,
       "version_minor": 0
      },
      "text/plain": [
       "  0%|          | 0/10 [00:00<?, ?it/s]"
      ]
     },
     "metadata": {},
     "output_type": "display_data"
    },
    {
     "name": "stdout",
     "output_type": "stream",
     "text": [
      "    num_word_augmented  accuracy  batch_num\n",
      "79                   1  0.924485          9\n",
      "70                   1  0.924167          0\n",
      "71                   1  0.923737          1\n",
      "72                   1  0.924410          2\n",
      "73                   1  0.924541          3\n",
      "..                 ...       ...        ...\n",
      "6                   10  0.911208          6\n",
      "7                   10  0.911852          7\n",
      "9                   10  0.911441          9\n",
      "5                   10  0.911021          5\n",
      "0                   10  0.911152          0\n",
      "\n",
      "[100 rows x 3 columns]\n"
     ]
    },
    {
     "data": {
      "image/png": "[encoded data removed]",
      "text/plain": [
       "<Figure size 2160x720 with 1 Axes>"
      ]
     },
     "metadata": {
      "needs_background": "light"
     },
     "output_type": "display_data"
    }
   ],
   "source": [
    "create_word_exp_accuracy_graph('ERM_word_frequency_experiment', graph_type = 'box')"
   ]
  },
  {
   "cell_type": "code",
   "execution_count": null,
   "id": "ea84a089",
   "metadata": {},
   "outputs": [],
   "source": []
  }
 ],
 "metadata": {
  "kernelspec": {
   "display_name": "Python 3",
   "language": "python",
   "name": "python3"
  },
  "language_info": {
   "codemirror_mode": {
    "name": "ipython",
    "version": 3
   },
   "file_extension": ".py",
   "mimetype": "text/x-python",
   "name": "python",
   "nbconvert_exporter": "python",
   "pygments_lexer": "ipython3",
   "version": "3.6.13"
  }
 },
 "nbformat": 4,
 "nbformat_minor": 5
}
